{
 "cells": [
  {
   "cell_type": "code",
   "execution_count": 36,
   "metadata": {},
   "outputs": [],
   "source": [
    "import pandas as pd\n",
    "import numpy as np\n",
    "import matplotlib.pyplot as plt\n",
    "import seaborn as sns\n",
    "import geopandas as gpd\n",
    "import contextily as cx\n",
    "# import datashader as ds\n",
    "import plotly.express as px\n",
    "import sklearn.decomposition as decomp\n",
    "import sklearn.preprocessing as pre"
   ]
  },
  {
   "cell_type": "code",
   "execution_count": 37,
   "metadata": {},
   "outputs": [
    {
     "name": "stdout",
     "output_type": "stream",
     "text": [
      "<class 'pandas.core.frame.DataFrame'>\n",
      "RangeIndex: 1030 entries, 0 to 1029\n",
      "Data columns (total 49 columns):\n",
      " #   Column                              Non-Null Count  Dtype  \n",
      "---  ------                              --------------  -----  \n",
      " 0   Unnamed: 0                          1030 non-null   int64  \n",
      " 1   Year                                1030 non-null   int64  \n",
      " 2   Mo                                  1030 non-null   int64  \n",
      " 3   Dy                                  1030 non-null   int64  \n",
      " 4   Hr                                  1030 non-null   float64\n",
      " 5   Mn                                  1030 non-null   float64\n",
      " 6   Sec                                 1024 non-null   float64\n",
      " 7   Tsu                                 168 non-null    float64\n",
      " 8   Vol                                 7 non-null      float64\n",
      " 9   Country                             1030 non-null   object \n",
      " 10  Location Name                       1030 non-null   object \n",
      " 11  Latitude                            1030 non-null   float64\n",
      " 12  Longitude                           1030 non-null   float64\n",
      " 13  Focal Depth (km)                    1019 non-null   float64\n",
      " 14  Mag                                 1027 non-null   float64\n",
      " 15  MMI Int                             310 non-null    float64\n",
      " 16  Deaths                              454 non-null    float64\n",
      " 17  Death Description                   456 non-null    float64\n",
      " 18  Missing                             15 non-null     float64\n",
      " 19  Missing Description                 14 non-null     float64\n",
      " 20  Injuries                            598 non-null    float64\n",
      " 21  Injuries Description                640 non-null    float64\n",
      " 22  Damage ($Mil)                       152 non-null    float64\n",
      " 23  Damage Description                  880 non-null    float64\n",
      " 24  Houses Destroyed                    296 non-null    float64\n",
      " 25  Houses Destroyed Description        427 non-null    float64\n",
      " 26  Houses Damaged                      320 non-null    float64\n",
      " 27  Houses Damaged Description          521 non-null    float64\n",
      " 28  Total Deaths                        462 non-null    float64\n",
      " 29  Total Death Description             462 non-null    float64\n",
      " 30  Total Missing                       15 non-null     float64\n",
      " 31  Total Missing Description           17 non-null     float64\n",
      " 32  Total Injuries                      604 non-null    float64\n",
      " 33  Total Injuries Description          646 non-null    float64\n",
      " 34  Total Damage ($Mil)                 157 non-null    float64\n",
      " 35  Total Damage Description            882 non-null    float64\n",
      " 36  Total Houses Destroyed              297 non-null    float64\n",
      " 37  Total Houses Destroyed Description  429 non-null    float64\n",
      " 38  Total Houses Damaged                308 non-null    float64\n",
      " 39  Total Houses Damaged Description    503 non-null    float64\n",
      " 40  Total Houses Damaged Description.1  503 non-null    float64\n",
      " 41  Region                              1026 non-null   object \n",
      " 42  Average Income                      1030 non-null   float64\n",
      " 43  p0p50_share                         1010 non-null   float64\n",
      " 44  Population density national         1030 non-null   float64\n",
      " 45  preperation_zone                    1030 non-null   float64\n",
      " 46  pop_with_water                      1028 non-null   float64\n",
      " 47  pop_without_water                   1028 non-null   float64\n",
      " 48  pop_total                           1030 non-null   float64\n",
      "dtypes: float64(42), int64(4), object(3)\n",
      "memory usage: 394.4+ KB\n"
     ]
    }
   ],
   "source": [
    "data = pd.read_csv('master_df_regional_pop.csv')\n",
    "data.info()"
   ]
  },
  {
   "cell_type": "code",
   "execution_count": 38,
   "metadata": {},
   "outputs": [
    {
     "data": {
      "text/plain": [
       "Index(['Unnamed: 0', 'Year', 'Mo', 'Dy', 'Hr', 'Mn', 'Sec', 'Tsu', 'Vol',\n",
       "       'Country', 'Location Name', 'Latitude', 'Longitude', 'Focal Depth (km)',\n",
       "       'Mag', 'MMI Int', 'Deaths', 'Death Description', 'Missing',\n",
       "       'Missing Description', 'Injuries', 'Injuries Description',\n",
       "       'Damage ($Mil)', 'Damage Description', 'Houses Destroyed',\n",
       "       'Houses Destroyed Description', 'Houses Damaged',\n",
       "       'Houses Damaged Description', 'Total Deaths', 'Total Death Description',\n",
       "       'Total Missing', 'Total Missing Description', 'Total Injuries',\n",
       "       'Total Injuries Description', 'Total Damage ($Mil)',\n",
       "       'Total Damage Description', 'Total Houses Destroyed',\n",
       "       'Total Houses Destroyed Description', 'Total Houses Damaged',\n",
       "       'Total Houses Damaged Description',\n",
       "       'Total Houses Damaged Description.1', 'Region', 'Average Income',\n",
       "       'p0p50_share', 'Population density national', 'preperation_zone',\n",
       "       'pop_with_water', 'pop_without_water', 'pop_total'],\n",
       "      dtype='object')"
      ]
     },
     "execution_count": 38,
     "metadata": {},
     "output_type": "execute_result"
    }
   ],
   "source": [
    "data.columns"
   ]
  },
  {
   "cell_type": "code",
   "execution_count": 39,
   "metadata": {},
   "outputs": [],
   "source": [
    "data.fillna(0, inplace=True)"
   ]
  },
  {
   "cell_type": "code",
   "execution_count": 40,
   "metadata": {},
   "outputs": [
    {
     "data": {
      "text/html": [
       "<div>\n",
       "<style scoped>\n",
       "    .dataframe tbody tr th:only-of-type {\n",
       "        vertical-align: middle;\n",
       "    }\n",
       "\n",
       "    .dataframe tbody tr th {\n",
       "        vertical-align: top;\n",
       "    }\n",
       "\n",
       "    .dataframe thead th {\n",
       "        text-align: right;\n",
       "    }\n",
       "</style>\n",
       "<table border=\"1\" class=\"dataframe\">\n",
       "  <thead>\n",
       "    <tr style=\"text-align: right;\">\n",
       "      <th></th>\n",
       "      <th>Focal Depth (km)</th>\n",
       "      <th>Mag</th>\n",
       "      <th>Total Death Description</th>\n",
       "      <th>Total Missing Description</th>\n",
       "      <th>Total Injuries Description</th>\n",
       "      <th>Total Damage Description</th>\n",
       "      <th>Total Houses Destroyed Description</th>\n",
       "      <th>Total Houses Damaged Description</th>\n",
       "      <th>Average Income</th>\n",
       "      <th>p0p50_share</th>\n",
       "      <th>Population density national</th>\n",
       "      <th>pop_with_water</th>\n",
       "      <th>pop_without_water</th>\n",
       "      <th>pop_total</th>\n",
       "    </tr>\n",
       "  </thead>\n",
       "  <tbody>\n",
       "    <tr>\n",
       "      <th>0</th>\n",
       "      <td>10.0</td>\n",
       "      <td>5.1</td>\n",
       "      <td>0.0</td>\n",
       "      <td>0.0</td>\n",
       "      <td>1.0</td>\n",
       "      <td>3.0</td>\n",
       "      <td>4.0</td>\n",
       "      <td>4.0</td>\n",
       "      <td>4836.4401</td>\n",
       "      <td>0.1737</td>\n",
       "      <td>134.647500</td>\n",
       "      <td>196.047281</td>\n",
       "      <td>248.925429</td>\n",
       "      <td>2.089903e+07</td>\n",
       "    </tr>\n",
       "    <tr>\n",
       "      <th>1</th>\n",
       "      <td>33.0</td>\n",
       "      <td>5.9</td>\n",
       "      <td>1.0</td>\n",
       "      <td>0.0</td>\n",
       "      <td>4.0</td>\n",
       "      <td>4.0</td>\n",
       "      <td>4.0</td>\n",
       "      <td>0.0</td>\n",
       "      <td>4836.4401</td>\n",
       "      <td>0.1737</td>\n",
       "      <td>134.647500</td>\n",
       "      <td>75.744613</td>\n",
       "      <td>76.155580</td>\n",
       "      <td>3.829049e+07</td>\n",
       "    </tr>\n",
       "    <tr>\n",
       "      <th>2</th>\n",
       "      <td>33.0</td>\n",
       "      <td>6.3</td>\n",
       "      <td>0.0</td>\n",
       "      <td>0.0</td>\n",
       "      <td>0.0</td>\n",
       "      <td>1.0</td>\n",
       "      <td>2.0</td>\n",
       "      <td>0.0</td>\n",
       "      <td>4836.4401</td>\n",
       "      <td>0.1737</td>\n",
       "      <td>134.647500</td>\n",
       "      <td>36.681915</td>\n",
       "      <td>38.318019</td>\n",
       "      <td>4.788112e+07</td>\n",
       "    </tr>\n",
       "    <tr>\n",
       "      <th>3</th>\n",
       "      <td>33.0</td>\n",
       "      <td>4.2</td>\n",
       "      <td>1.0</td>\n",
       "      <td>0.0</td>\n",
       "      <td>3.0</td>\n",
       "      <td>4.0</td>\n",
       "      <td>0.0</td>\n",
       "      <td>0.0</td>\n",
       "      <td>4836.4401</td>\n",
       "      <td>0.1737</td>\n",
       "      <td>134.647500</td>\n",
       "      <td>67.648044</td>\n",
       "      <td>67.648044</td>\n",
       "      <td>1.307028e+06</td>\n",
       "    </tr>\n",
       "    <tr>\n",
       "      <th>4</th>\n",
       "      <td>33.0</td>\n",
       "      <td>5.3</td>\n",
       "      <td>1.0</td>\n",
       "      <td>0.0</td>\n",
       "      <td>1.0</td>\n",
       "      <td>2.0</td>\n",
       "      <td>2.0</td>\n",
       "      <td>3.0</td>\n",
       "      <td>13549.8134</td>\n",
       "      <td>0.1232</td>\n",
       "      <td>40.397152</td>\n",
       "      <td>30.027525</td>\n",
       "      <td>30.027525</td>\n",
       "      <td>5.372795e+06</td>\n",
       "    </tr>\n",
       "    <tr>\n",
       "      <th>...</th>\n",
       "      <td>...</td>\n",
       "      <td>...</td>\n",
       "      <td>...</td>\n",
       "      <td>...</td>\n",
       "      <td>...</td>\n",
       "      <td>...</td>\n",
       "      <td>...</td>\n",
       "      <td>...</td>\n",
       "      <td>...</td>\n",
       "      <td>...</td>\n",
       "      <td>...</td>\n",
       "      <td>...</td>\n",
       "      <td>...</td>\n",
       "      <td>...</td>\n",
       "    </tr>\n",
       "    <tr>\n",
       "      <th>1025</th>\n",
       "      <td>57.0</td>\n",
       "      <td>4.5</td>\n",
       "      <td>1.0</td>\n",
       "      <td>0.0</td>\n",
       "      <td>0.0</td>\n",
       "      <td>0.0</td>\n",
       "      <td>0.0</td>\n",
       "      <td>0.0</td>\n",
       "      <td>11865.0324</td>\n",
       "      <td>0.0572</td>\n",
       "      <td>26.019350</td>\n",
       "      <td>16.741938</td>\n",
       "      <td>47.586447</td>\n",
       "      <td>6.139603e+05</td>\n",
       "    </tr>\n",
       "    <tr>\n",
       "      <th>1026</th>\n",
       "      <td>26.0</td>\n",
       "      <td>7.4</td>\n",
       "      <td>1.0</td>\n",
       "      <td>0.0</td>\n",
       "      <td>1.0</td>\n",
       "      <td>4.0</td>\n",
       "      <td>0.0</td>\n",
       "      <td>4.0</td>\n",
       "      <td>17509.5857</td>\n",
       "      <td>0.0602</td>\n",
       "      <td>64.815605</td>\n",
       "      <td>17.807072</td>\n",
       "      <td>76.325811</td>\n",
       "      <td>2.091321e+08</td>\n",
       "    </tr>\n",
       "    <tr>\n",
       "      <th>1027</th>\n",
       "      <td>80.0</td>\n",
       "      <td>7.0</td>\n",
       "      <td>1.0</td>\n",
       "      <td>0.0</td>\n",
       "      <td>1.0</td>\n",
       "      <td>1.0</td>\n",
       "      <td>0.0</td>\n",
       "      <td>1.0</td>\n",
       "      <td>4920.7312</td>\n",
       "      <td>0.1291</td>\n",
       "      <td>21.529040</td>\n",
       "      <td>2.727130</td>\n",
       "      <td>12.827054</td>\n",
       "      <td>1.137706e+07</td>\n",
       "    </tr>\n",
       "    <tr>\n",
       "      <th>1028</th>\n",
       "      <td>10.0</td>\n",
       "      <td>6.6</td>\n",
       "      <td>1.0</td>\n",
       "      <td>0.0</td>\n",
       "      <td>1.0</td>\n",
       "      <td>1.0</td>\n",
       "      <td>3.0</td>\n",
       "      <td>4.0</td>\n",
       "      <td>9596.5646</td>\n",
       "      <td>0.1435</td>\n",
       "      <td>376.265170</td>\n",
       "      <td>46.977182</td>\n",
       "      <td>300.614178</td>\n",
       "      <td>1.098252e+08</td>\n",
       "    </tr>\n",
       "    <tr>\n",
       "      <th>1029</th>\n",
       "      <td>10.0</td>\n",
       "      <td>6.7</td>\n",
       "      <td>0.0</td>\n",
       "      <td>0.0</td>\n",
       "      <td>0.0</td>\n",
       "      <td>0.0</td>\n",
       "      <td>0.0</td>\n",
       "      <td>0.0</td>\n",
       "      <td>21437.3544</td>\n",
       "      <td>0.0678</td>\n",
       "      <td>25.957615</td>\n",
       "      <td>7.547780</td>\n",
       "      <td>20.517156</td>\n",
       "      <td>2.069855e+07</td>\n",
       "    </tr>\n",
       "  </tbody>\n",
       "</table>\n",
       "<p>1030 rows × 14 columns</p>\n",
       "</div>"
      ],
      "text/plain": [
       "      Focal Depth (km)  Mag  Total Death Description  \\\n",
       "0                 10.0  5.1                      0.0   \n",
       "1                 33.0  5.9                      1.0   \n",
       "2                 33.0  6.3                      0.0   \n",
       "3                 33.0  4.2                      1.0   \n",
       "4                 33.0  5.3                      1.0   \n",
       "...                ...  ...                      ...   \n",
       "1025              57.0  4.5                      1.0   \n",
       "1026              26.0  7.4                      1.0   \n",
       "1027              80.0  7.0                      1.0   \n",
       "1028              10.0  6.6                      1.0   \n",
       "1029              10.0  6.7                      0.0   \n",
       "\n",
       "      Total Missing Description  Total Injuries Description  \\\n",
       "0                           0.0                         1.0   \n",
       "1                           0.0                         4.0   \n",
       "2                           0.0                         0.0   \n",
       "3                           0.0                         3.0   \n",
       "4                           0.0                         1.0   \n",
       "...                         ...                         ...   \n",
       "1025                        0.0                         0.0   \n",
       "1026                        0.0                         1.0   \n",
       "1027                        0.0                         1.0   \n",
       "1028                        0.0                         1.0   \n",
       "1029                        0.0                         0.0   \n",
       "\n",
       "      Total Damage Description  Total Houses Destroyed Description  \\\n",
       "0                          3.0                                 4.0   \n",
       "1                          4.0                                 4.0   \n",
       "2                          1.0                                 2.0   \n",
       "3                          4.0                                 0.0   \n",
       "4                          2.0                                 2.0   \n",
       "...                        ...                                 ...   \n",
       "1025                       0.0                                 0.0   \n",
       "1026                       4.0                                 0.0   \n",
       "1027                       1.0                                 0.0   \n",
       "1028                       1.0                                 3.0   \n",
       "1029                       0.0                                 0.0   \n",
       "\n",
       "      Total Houses Damaged Description  Average Income  p0p50_share  \\\n",
       "0                                  4.0       4836.4401       0.1737   \n",
       "1                                  0.0       4836.4401       0.1737   \n",
       "2                                  0.0       4836.4401       0.1737   \n",
       "3                                  0.0       4836.4401       0.1737   \n",
       "4                                  3.0      13549.8134       0.1232   \n",
       "...                                ...             ...          ...   \n",
       "1025                               0.0      11865.0324       0.0572   \n",
       "1026                               4.0      17509.5857       0.0602   \n",
       "1027                               1.0       4920.7312       0.1291   \n",
       "1028                               4.0       9596.5646       0.1435   \n",
       "1029                               0.0      21437.3544       0.0678   \n",
       "\n",
       "      Population density national  pop_with_water  pop_without_water  \\\n",
       "0                      134.647500      196.047281         248.925429   \n",
       "1                      134.647500       75.744613          76.155580   \n",
       "2                      134.647500       36.681915          38.318019   \n",
       "3                      134.647500       67.648044          67.648044   \n",
       "4                       40.397152       30.027525          30.027525   \n",
       "...                           ...             ...                ...   \n",
       "1025                    26.019350       16.741938          47.586447   \n",
       "1026                    64.815605       17.807072          76.325811   \n",
       "1027                    21.529040        2.727130          12.827054   \n",
       "1028                   376.265170       46.977182         300.614178   \n",
       "1029                    25.957615        7.547780          20.517156   \n",
       "\n",
       "         pop_total  \n",
       "0     2.089903e+07  \n",
       "1     3.829049e+07  \n",
       "2     4.788112e+07  \n",
       "3     1.307028e+06  \n",
       "4     5.372795e+06  \n",
       "...            ...  \n",
       "1025  6.139603e+05  \n",
       "1026  2.091321e+08  \n",
       "1027  1.137706e+07  \n",
       "1028  1.098252e+08  \n",
       "1029  2.069855e+07  \n",
       "\n",
       "[1030 rows x 14 columns]"
      ]
     },
     "execution_count": 40,
     "metadata": {},
     "output_type": "execute_result"
    }
   ],
   "source": [
    "cols = [\n",
    "    'Focal Depth (km)',\n",
    "    'Mag',\n",
    "    # 'Deaths',\n",
    "    # 'Death Description',\n",
    "    # 'Missing',\n",
    "    # 'Missing Description',\n",
    "    # 'Injuries',\n",
    "    # 'Injuries Description',\n",
    "    # 'Damage ($Mil)',\n",
    "    # 'Damage Description',\n",
    "    # 'Houses Destroyed',\n",
    "    # 'Houses Destroyed Description',\n",
    "    # 'Houses Damaged',\n",
    "    # 'Houses Damaged Description',\n",
    "    # 'Total Deaths',\n",
    "    'Total Death Description',\n",
    "    # 'Total Missing',\n",
    "    'Total Missing Description',\n",
    "    # 'Total Injuries',\n",
    "    'Total Injuries Description',\n",
    "    # 'Total Damage ($Mil)',\n",
    "    'Total Damage Description',\n",
    "    # 'Total Houses Destroyed',\n",
    "    'Total Houses Destroyed Description',\n",
    "    # 'Total Houses Damaged',\n",
    "    'Total Houses Damaged Description',\n",
    "    # 'Total Houses Damaged Description.1',\n",
    "    'Average Income',\n",
    "    'p0p50_share',\n",
    "    'Population density national',\n",
    "    'pop_with_water',\n",
    "    'pop_without_water',\n",
    "    'pop_total',\n",
    "]\n",
    "foo = data[cols]\n",
    "foo"
   ]
  },
  {
   "cell_type": "code",
   "execution_count": 41,
   "metadata": {},
   "outputs": [],
   "source": [
    "red_cols = [\n",
    "    'Total Houses Damaged Description',\n",
    "    'Total Death Description',\n",
    "    'Total Missing Description',\n",
    "    'Total Injuries Description',\n",
    "    'Total Damage Description',\n",
    "    'Total Houses Destroyed Description',\n",
    "]\n",
    "\n",
    "data_red = data[red_cols]\n",
    "data_red2 = data_red.copy()\n",
    "# std_scaler = pre.StandardScaler()\n",
    "# data_red = std_scaler.fit_transform(data_red)"
   ]
  },
  {
   "cell_type": "code",
   "execution_count": 42,
   "metadata": {},
   "outputs": [
    {
     "name": "stdout",
     "output_type": "stream",
     "text": [
      "[[ 0.49988355  0.25080354  0.02720089  0.41359504  0.5122948   0.50295857]\n",
      " [-0.79588819  0.15005638  0.01432799  0.13967355  0.03134448  0.5686375 ]\n",
      " [-0.20499513  0.32258895  0.01556044  0.73973702 -0.01258532 -0.55344556]\n",
      " [-0.27293195 -0.2535463  -0.02974451 -0.18607545  0.85211569 -0.31561442]\n",
      " [-0.01100377  0.8609864   0.05635706 -0.47705745  0.10140137 -0.13243556]\n",
      " [-0.0065192  -0.07024054  0.99737247 -0.00342018  0.00545727 -0.0151805 ]]\n"
     ]
    },
    {
     "data": {
      "text/plain": [
       "Text(0, 0.5, 'explained variance')"
      ]
     },
     "execution_count": 42,
     "metadata": {},
     "output_type": "execute_result"
    },
    {
     "data": {
      "image/png": "[encoded data removed]",
      "text/plain": [
       "<Figure size 640x480 with 1 Axes>"
      ]
     },
     "metadata": {},
     "output_type": "display_data"
    }
   ],
   "source": [
    "pca = decomp.PCA(n_components=6).fit(data_red)\n",
    "print(pca.components_)\n",
    "plt.plot(pca.explained_variance_ratio_, marker='o')\n",
    "plt.grid()\n",
    "plt.ylim(0,1)\n",
    "plt.xlabel('principal components')\n",
    "plt.ylabel('explained variance')"
   ]
  },
  {
   "cell_type": "code",
   "execution_count": 43,
   "metadata": {},
   "outputs": [],
   "source": [
    "pca = decomp.PCA(n_components=1).fit(data_red)\n",
    "data_pca = pca.transform(data_red)\n",
    "data_pca = np.interp(data_pca, [np.min(data_pca), np.max(data_pca)], [0,1])"
   ]
  },
  {
   "cell_type": "code",
   "execution_count": 44,
   "metadata": {},
   "outputs": [
    {
     "name": "stdout",
     "output_type": "stream",
     "text": [
      "Total Houses Damaged Description: [0.49988355]\n",
      "Total Death Description: [0.25080354]\n",
      "Total Missing Description: [0.02720089]\n",
      "Total Injuries Description: [0.41359504]\n",
      "Total Damage Description: [0.5122948]\n",
      "Total Houses Destroyed Description: [0.50295857]\n"
     ]
    }
   ],
   "source": [
    "for i, col in enumerate(red_cols):\n",
    "    print(f'{col}: {pca.components_[:,i]}')"
   ]
  },
  {
   "cell_type": "code",
   "execution_count": 45,
   "metadata": {},
   "outputs": [
    {
     "data": {
      "text/plain": [
       "(array([227., 227., 163., 119., 106.,  64.,  46.,  29.,  23.,  26.]),\n",
       " array([0. , 0.1, 0.2, 0.3, 0.4, 0.5, 0.6, 0.7, 0.8, 0.9, 1. ]),\n",
       " <BarContainer object of 10 artists>)"
      ]
     },
     "execution_count": 45,
     "metadata": {},
     "output_type": "execute_result"
    },
    {
     "data": {
      "image/png": "[encoded data removed]",
      "text/plain": [
       "<Figure size 640x480 with 1 Axes>"
      ]
     },
     "metadata": {},
     "output_type": "display_data"
    }
   ],
   "source": [
    "plt.hist(data_pca)"
   ]
  },
  {
   "cell_type": "code",
   "execution_count": 46,
   "metadata": {},
   "outputs": [],
   "source": [
    "# red_cols = [\n",
    "#     'Total Houses Damaged',\n",
    "#     'Total Deaths',\n",
    "#     'Total Missing',\n",
    "#     'Total Injuries',\n",
    "#     'Total Damage ($Mil)',\n",
    "#     'Total Houses Destroyed',\n",
    "# ]\n",
    "\n",
    "# data_red = data[red_cols]\n",
    "# std_scaler = pre.StandardScaler()\n",
    "# data_red = std_scaler.fit_transform(data_red)"
   ]
  },
  {
   "cell_type": "code",
   "execution_count": 47,
   "metadata": {},
   "outputs": [],
   "source": [
    "# pca = decomp.PCA(n_components=6).fit(data_red)\n",
    "# plt.plot(pca.explained_variance_ratio_, marker='o')\n",
    "# plt.grid()\n",
    "# plt.ylim(0,1)\n",
    "# plt.xlabel('principal components')\n",
    "# plt.ylabel('explained variance')"
   ]
  },
  {
   "cell_type": "code",
   "execution_count": 48,
   "metadata": {},
   "outputs": [],
   "source": [
    "# data_pca = decomp.PCA(n_components=1).fit_transform(data_red)\n",
    "# data_pca = np.interp(data_pca, [np.min(data_pca), np.max(data_pca)], [0,4])\n",
    "# plt.hist(data_pca)"
   ]
  },
  {
   "cell_type": "code",
   "execution_count": 49,
   "metadata": {},
   "outputs": [],
   "source": [
    "data_red2 = data_red2.sum(axis=1)\n",
    "data_red2 = np.interp(data_red2, [np.min(data_red2), np.max(data_red2)], [0,1])"
   ]
  },
  {
   "cell_type": "code",
   "execution_count": 50,
   "metadata": {},
   "outputs": [
    {
     "data": {
      "text/plain": [
       "(array([304., 210., 170., 164.,  61.,  41.,  44.,  17.,  15.,   4.]),\n",
       " array([0. , 0.1, 0.2, 0.3, 0.4, 0.5, 0.6, 0.7, 0.8, 0.9, 1. ]),\n",
       " <BarContainer object of 10 artists>)"
      ]
     },
     "execution_count": 50,
     "metadata": {},
     "output_type": "execute_result"
    },
    {
     "data": {
      "image/png": "[encoded data removed]",
      "text/plain": [
       "<Figure size 640x480 with 1 Axes>"
      ]
     },
     "metadata": {},
     "output_type": "display_data"
    }
   ],
   "source": [
    "plt.hist(data_red2)"
   ]
  },
  {
   "cell_type": "code",
   "execution_count": 51,
   "metadata": {},
   "outputs": [],
   "source": [
    "data_red = pd.DataFrame(np.transpose([data_pca.flatten(), data_red2]), columns=['PCA', 'SUM'])"
   ]
  },
  {
   "cell_type": "code",
   "execution_count": 52,
   "metadata": {},
   "outputs": [
    {
     "data": {
      "image/png": "[encoded data removed]",
      "text/plain": [
       "<Figure size 640x480 with 2 Axes>"
      ]
     },
     "metadata": {},
     "output_type": "display_data"
    }
   ],
   "source": [
    "ax = data_red.hist()\n",
    "ax[0,0].set_ylim(0,310)\n",
    "ax[0,1].set_ylim(0,310)\n",
    "fig = plt.gcf()\n",
    "fig.tight_layout()\n",
    "fig.savefig(f'Plots/PCA_SUM.pdf', bbox_inches='tight')"
   ]
  },
  {
   "cell_type": "code",
   "execution_count": 53,
   "metadata": {},
   "outputs": [],
   "source": [
    "data['badness_value'] = data_red2\n",
    "drop_cols = [\n",
    "    'Unnamed: 0',\n",
    "    # 'Year',\n",
    "    'Mo',\n",
    "    'Dy',\n",
    "    'Hr',\n",
    "    'Mn',\n",
    "    'Sec',\n",
    "    'Tsu',\n",
    "    'Vol',\n",
    "    # 'Country',\n",
    "    'Location Name',\n",
    "    # 'Latitude',\n",
    "    # 'Longitude',\n",
    "    # 'Focal Depth (km)',\n",
    "    # 'Mag',\n",
    "    'MMI Int',\n",
    "    'Deaths',\n",
    "    'Death Description',\n",
    "    'Missing',\n",
    "    'Missing Description',\n",
    "    'Injuries',\n",
    "    'Injuries Description',\n",
    "    'Damage ($Mil)',\n",
    "    'Damage Description',\n",
    "    'Houses Destroyed',\n",
    "    'Houses Destroyed Description',\n",
    "    'Houses Damaged',\n",
    "    'Houses Damaged Description',\n",
    "    'Total Deaths',\n",
    "    'Total Death Description',\n",
    "    'Total Missing',\n",
    "    'Total Missing Description',\n",
    "    'Total Injuries',\n",
    "    'Total Injuries Description',\n",
    "    'Total Damage ($Mil)',\n",
    "    'Total Damage Description',\n",
    "    'Total Houses Destroyed',\n",
    "    'Total Houses Destroyed Description',\n",
    "    'Total Houses Damaged',\n",
    "    'Total Houses Damaged Description',\n",
    "    'Total Houses Damaged Description.1',\n",
    "    'Region',\n",
    "    # 'Average Income',\n",
    "    # 'p0p50_share',\n",
    "    'Population density national',\n",
    "    'preperation_zone',\n",
    "    'pop_with_water',\n",
    "    'pop_without_water',\n",
    "    # 'pop_total',\n",
    "]\n",
    "data.drop(drop_cols, axis=1, inplace=True)\n",
    "data['pop_total'] = np.round(data['pop_total'],0)"
   ]
  },
  {
   "cell_type": "code",
   "execution_count": 54,
   "metadata": {},
   "outputs": [],
   "source": [
    "data.to_csv('master_df_reduced.csv')"
   ]
  },
  {
   "cell_type": "code",
   "execution_count": 55,
   "metadata": {},
   "outputs": [],
   "source": [
    "# data_num = data.select_dtypes(include=[np.number])\n",
    "# data_cat = data.select_dtypes(exclude=[np.number])\n",
    "# cols_num = data_num.columns\n",
    "# cols_cat = data_cat.columns"
   ]
  },
  {
   "cell_type": "code",
   "execution_count": 56,
   "metadata": {},
   "outputs": [],
   "source": [
    "# sns.pairplot(data=data, x_vars=cols, y_vars=cols, kind='hist')\n",
    "# sns.pairplot(data=data, x_vars=cols_num, y_vars=cols_num)\n",
    "# sns.pairplot(data=data)"
   ]
  },
  {
   "cell_type": "code",
   "execution_count": 57,
   "metadata": {},
   "outputs": [],
   "source": [
    "# data_geo = gpd.GeoDataFrame(data, geometry=gpd.points_from_xy(data.Longitude, data.Latitude), crs='EPSG:4326')\n",
    "# data_geo.crs"
   ]
  },
  {
   "cell_type": "code",
   "execution_count": 58,
   "metadata": {},
   "outputs": [],
   "source": [
    "# fig, ax = plt.subplots(figsize=(20,20))\n",
    "# ax = data_geo.plot(column='Mag', ax=ax)\n",
    "# cx.add_basemap(ax, source='OpenStreetMap.Mapnik')"
   ]
  },
  {
   "cell_type": "code",
   "execution_count": 59,
   "metadata": {},
   "outputs": [],
   "source": [
    "# data_geo.plot.hexbin('Longitude', 'Latitude')"
   ]
  },
  {
   "cell_type": "code",
   "execution_count": 60,
   "metadata": {},
   "outputs": [],
   "source": [
    "# fig = px.scatter_geo(data, lat=data.Latitude, lon=data.Longitude, hover_name='Country', color='badness_value', hover_data=['Mag', 'pop_total'])\n",
    "# fig.update_geos(showcountries=True)\n",
    "# fig.show()"
   ]
  },
  {
   "cell_type": "code",
   "execution_count": null,
   "metadata": {},
   "outputs": [],
   "source": []
  },
  {
   "cell_type": "code",
   "execution_count": null,
   "metadata": {},
   "outputs": [],
   "source": []
  }
 ],
 "metadata": {
  "kernelspec": {
   "display_name": "dataproject_UZH",
   "language": "python",
   "name": "python3"
  },
  "language_info": {
   "codemirror_mode": {
    "name": "ipython",
    "version": 3
   },
   "file_extension": ".py",
   "mimetype": "text/x-python",
   "name": "python",
   "nbconvert_exporter": "python",
   "pygments_lexer": "ipython3",
   "version": "3.11.8"
  }
 },
 "nbformat": 4,
 "nbformat_minor": 2
}
