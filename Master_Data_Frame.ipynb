{
 "cells": [
  {
   "cell_type": "code",
   "execution_count": 1,
   "metadata": {},
   "outputs": [],
   "source": [
    "import pandas as pd"
   ]
  },
  {
   "cell_type": "code",
   "execution_count": 2,
   "metadata": {},
   "outputs": [],
   "source": [
    "df = pd.read_table(\"/home/brotboy/Documents/01 Projekte/ICS Project/Data/Population density/gpw-v4-population-density-rev11_2000_2pt5_min_asc/gpw_v4_population_density_rev11_2000_2pt5_min.asc\")"
   ]
  },
  {
   "cell_type": "code",
   "execution_count": 3,
   "metadata": {},
   "outputs": [
    {
     "data": {
      "text/html": [
       "<div>\n",
       "<style scoped>\n",
       "    .dataframe tbody tr th:only-of-type {\n",
       "        vertical-align: middle;\n",
       "    }\n",
       "\n",
       "    .dataframe tbody tr th {\n",
       "        vertical-align: top;\n",
       "    }\n",
       "\n",
       "    .dataframe thead th {\n",
       "        text-align: right;\n",
       "    }\n",
       "</style>\n",
       "<table border=\"1\" class=\"dataframe\">\n",
       "  <thead>\n",
       "    <tr style=\"text-align: right;\">\n",
       "      <th></th>\n",
       "      <th>ncols         8640</th>\n",
       "    </tr>\n",
       "  </thead>\n",
       "  <tbody>\n",
       "    <tr>\n",
       "      <th>0</th>\n",
       "      <td>nrows         4320</td>\n",
       "    </tr>\n",
       "    <tr>\n",
       "      <th>1</th>\n",
       "      <td>xllcorner     -180</td>\n",
       "    </tr>\n",
       "    <tr>\n",
       "      <th>2</th>\n",
       "      <td>yllcorner     -90</td>\n",
       "    </tr>\n",
       "    <tr>\n",
       "      <th>3</th>\n",
       "      <td>cellsize      0.041666666666667</td>\n",
       "    </tr>\n",
       "    <tr>\n",
       "      <th>4</th>\n",
       "      <td>NODATA_value  -9999</td>\n",
       "    </tr>\n",
       "    <tr>\n",
       "      <th>...</th>\n",
       "      <td>...</td>\n",
       "    </tr>\n",
       "    <tr>\n",
       "      <th>4320</th>\n",
       "      <td>-9999 -9999 -9999 -9999 -9999 -9999 -9999 -999...</td>\n",
       "    </tr>\n",
       "    <tr>\n",
       "      <th>4321</th>\n",
       "      <td>-9999 -9999 -9999 -9999 -9999 -9999 -9999 -999...</td>\n",
       "    </tr>\n",
       "    <tr>\n",
       "      <th>4322</th>\n",
       "      <td>-9999 -9999 -9999 -9999 -9999 -9999 -9999 -999...</td>\n",
       "    </tr>\n",
       "    <tr>\n",
       "      <th>4323</th>\n",
       "      <td>-9999 -9999 -9999 -9999 -9999 -9999 -9999 -999...</td>\n",
       "    </tr>\n",
       "    <tr>\n",
       "      <th>4324</th>\n",
       "      <td>-9999 -9999 -9999 -9999 -9999 -9999 -9999 -999...</td>\n",
       "    </tr>\n",
       "  </tbody>\n",
       "</table>\n",
       "<p>4325 rows × 1 columns</p>\n",
       "</div>"
      ],
      "text/plain": [
       "                                     ncols         8640\n",
       "0                                    nrows         4320\n",
       "1                                    xllcorner     -180\n",
       "2                                     yllcorner     -90\n",
       "3                       cellsize      0.041666666666667\n",
       "4                                   NODATA_value  -9999\n",
       "...                                                 ...\n",
       "4320  -9999 -9999 -9999 -9999 -9999 -9999 -9999 -999...\n",
       "4321  -9999 -9999 -9999 -9999 -9999 -9999 -9999 -999...\n",
       "4322  -9999 -9999 -9999 -9999 -9999 -9999 -9999 -999...\n",
       "4323  -9999 -9999 -9999 -9999 -9999 -9999 -9999 -999...\n",
       "4324  -9999 -9999 -9999 -9999 -9999 -9999 -9999 -999...\n",
       "\n",
       "[4325 rows x 1 columns]"
      ]
     },
     "execution_count": 3,
     "metadata": {},
     "output_type": "execute_result"
    }
   ],
   "source": [
    "df"
   ]
  }
 ],
 "metadata": {
  "kernelspec": {
   "display_name": "data_analysis",
   "language": "python",
   "name": "python3"
  },
  "language_info": {
   "codemirror_mode": {
    "name": "ipython",
    "version": 3
   },
   "file_extension": ".py",
   "mimetype": "text/x-python",
   "name": "python",
   "nbconvert_exporter": "python",
   "pygments_lexer": "ipython3",
   "version": "3.9.13"
  }
 },
 "nbformat": 4,
 "nbformat_minor": 2
}
