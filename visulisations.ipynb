{
 "cells": [
  {
   "cell_type": "code",
   "execution_count": 1,
   "metadata": {},
   "outputs": [],
   "source": [
    "import pandas as pd\n",
    "import numpy as np\n",
    "import matplotlib.pyplot as plt\n",
    "import seaborn as sns\n",
    "import geopandas as gpd\n",
    "import contextily as cx\n",
    "# import datashader as ds\n",
    "import plotly.express as px"
   ]
  },
  {
   "cell_type": "code",
   "execution_count": 2,
   "metadata": {},
   "outputs": [
    {
     "name": "stdout",
     "output_type": "stream",
     "text": [
      "<class 'pandas.core.frame.DataFrame'>\n",
      "RangeIndex: 1030 entries, 0 to 1029\n",
      "Data columns (total 49 columns):\n",
      " #   Column                              Non-Null Count  Dtype  \n",
      "---  ------                              --------------  -----  \n",
      " 0   Unnamed: 0                          1030 non-null   int64  \n",
      " 1   Year                                1030 non-null   int64  \n",
      " 2   Mo                                  1030 non-null   int64  \n",
      " 3   Dy                                  1030 non-null   int64  \n",
      " 4   Hr                                  1030 non-null   float64\n",
      " 5   Mn                                  1030 non-null   float64\n",
      " 6   Sec                                 1024 non-null   float64\n",
      " 7   Tsu                                 168 non-null    float64\n",
      " 8   Vol                                 7 non-null      float64\n",
      " 9   Country                             1030 non-null   object \n",
      " 10  Location Name                       1030 non-null   object \n",
      " 11  Latitude                            1030 non-null   float64\n",
      " 12  Longitude                           1030 non-null   float64\n",
      " 13  Focal Depth (km)                    1019 non-null   float64\n",
      " 14  Mag                                 1027 non-null   float64\n",
      " 15  MMI Int                             310 non-null    float64\n",
      " 16  Deaths                              454 non-null    float64\n",
      " 17  Death Description                   456 non-null    float64\n",
      " 18  Missing                             15 non-null     float64\n",
      " 19  Missing Description                 14 non-null     float64\n",
      " 20  Injuries                            598 non-null    float64\n",
      " 21  Injuries Description                640 non-null    float64\n",
      " 22  Damage ($Mil)                       152 non-null    float64\n",
      " 23  Damage Description                  880 non-null    float64\n",
      " 24  Houses Destroyed                    296 non-null    float64\n",
      " 25  Houses Destroyed Description        427 non-null    float64\n",
      " 26  Houses Damaged                      320 non-null    float64\n",
      " 27  Houses Damaged Description          521 non-null    float64\n",
      " 28  Total Deaths                        462 non-null    float64\n",
      " 29  Total Death Description             462 non-null    float64\n",
      " 30  Total Missing                       15 non-null     float64\n",
      " 31  Total Missing Description           17 non-null     float64\n",
      " 32  Total Injuries                      604 non-null    float64\n",
      " 33  Total Injuries Description          646 non-null    float64\n",
      " 34  Total Damage ($Mil)                 157 non-null    float64\n",
      " 35  Total Damage Description            882 non-null    float64\n",
      " 36  Total Houses Destroyed              297 non-null    float64\n",
      " 37  Total Houses Destroyed Description  429 non-null    float64\n",
      " 38  Total Houses Damaged                308 non-null    float64\n",
      " 39  Total Houses Damaged Description    503 non-null    float64\n",
      " 40  Total Houses Damaged Description.1  503 non-null    float64\n",
      " 41  Region                              1026 non-null   object \n",
      " 42  Average Income                      1030 non-null   float64\n",
      " 43  p0p50_share                         1010 non-null   float64\n",
      " 44  Population density national         1030 non-null   float64\n",
      " 45  preperation_zone                    1030 non-null   float64\n",
      " 46  pop_with_water                      1028 non-null   float64\n",
      " 47  pop_without_water                   1028 non-null   float64\n",
      " 48  pop_total                           1030 non-null   float64\n",
      "dtypes: float64(42), int64(4), object(3)\n",
      "memory usage: 394.4+ KB\n"
     ]
    }
   ],
   "source": [
    "data = pd.read_csv('master_df_regional_pop.csv')\n",
    "data.info()"
   ]
  },
  {
   "cell_type": "code",
   "execution_count": 3,
   "metadata": {},
   "outputs": [
    {
     "data": {
      "text/plain": [
       "Index(['Unnamed: 0', 'Year', 'Mo', 'Dy', 'Hr', 'Mn', 'Sec', 'Tsu', 'Vol',\n",
       "       'Country', 'Location Name', 'Latitude', 'Longitude', 'Focal Depth (km)',\n",
       "       'Mag', 'MMI Int', 'Deaths', 'Death Description', 'Missing',\n",
       "       'Missing Description', 'Injuries', 'Injuries Description',\n",
       "       'Damage ($Mil)', 'Damage Description', 'Houses Destroyed',\n",
       "       'Houses Destroyed Description', 'Houses Damaged',\n",
       "       'Houses Damaged Description', 'Total Deaths', 'Total Death Description',\n",
       "       'Total Missing', 'Total Missing Description', 'Total Injuries',\n",
       "       'Total Injuries Description', 'Total Damage ($Mil)',\n",
       "       'Total Damage Description', 'Total Houses Destroyed',\n",
       "       'Total Houses Destroyed Description', 'Total Houses Damaged',\n",
       "       'Total Houses Damaged Description',\n",
       "       'Total Houses Damaged Description.1', 'Region', 'Average Income',\n",
       "       'p0p50_share', 'Population density national', 'preperation_zone',\n",
       "       'pop_with_water', 'pop_without_water', 'pop_total'],\n",
       "      dtype='object')"
      ]
     },
     "execution_count": 3,
     "metadata": {},
     "output_type": "execute_result"
    }
   ],
   "source": [
    "data.columns"
   ]
  },
  {
   "cell_type": "code",
   "execution_count": 4,
   "metadata": {},
   "outputs": [],
   "source": [
    "data.fillna(0, inplace=True)"
   ]
  },
  {
   "cell_type": "code",
   "execution_count": 5,
   "metadata": {},
   "outputs": [
    {
     "data": {
      "text/html": [
       "<div>\n",
       "<style scoped>\n",
       "    .dataframe tbody tr th:only-of-type {\n",
       "        vertical-align: middle;\n",
       "    }\n",
       "\n",
       "    .dataframe tbody tr th {\n",
       "        vertical-align: top;\n",
       "    }\n",
       "\n",
       "    .dataframe thead th {\n",
       "        text-align: right;\n",
       "    }\n",
       "</style>\n",
       "<table border=\"1\" class=\"dataframe\">\n",
       "  <thead>\n",
       "    <tr style=\"text-align: right;\">\n",
       "      <th></th>\n",
       "      <th>Focal Depth (km)</th>\n",
       "      <th>Mag</th>\n",
       "      <th>Total Death Description</th>\n",
       "      <th>Total Missing Description</th>\n",
       "      <th>Total Injuries Description</th>\n",
       "      <th>Total Damage Description</th>\n",
       "      <th>Total Houses Destroyed Description</th>\n",
       "      <th>Total Houses Damaged Description</th>\n",
       "      <th>Average Income</th>\n",
       "      <th>p0p50_share</th>\n",
       "      <th>Population density national</th>\n",
       "      <th>pop_with_water</th>\n",
       "      <th>pop_without_water</th>\n",
       "      <th>pop_total</th>\n",
       "    </tr>\n",
       "  </thead>\n",
       "  <tbody>\n",
       "    <tr>\n",
       "      <th>0</th>\n",
       "      <td>10.0</td>\n",
       "      <td>5.1</td>\n",
       "      <td>0.0</td>\n",
       "      <td>0.0</td>\n",
       "      <td>1.0</td>\n",
       "      <td>3.0</td>\n",
       "      <td>4.0</td>\n",
       "      <td>4.0</td>\n",
       "      <td>4836.4401</td>\n",
       "      <td>0.1737</td>\n",
       "      <td>134.647500</td>\n",
       "      <td>196.047281</td>\n",
       "      <td>248.925429</td>\n",
       "      <td>2.089903e+07</td>\n",
       "    </tr>\n",
       "    <tr>\n",
       "      <th>1</th>\n",
       "      <td>33.0</td>\n",
       "      <td>5.9</td>\n",
       "      <td>1.0</td>\n",
       "      <td>0.0</td>\n",
       "      <td>4.0</td>\n",
       "      <td>4.0</td>\n",
       "      <td>4.0</td>\n",
       "      <td>0.0</td>\n",
       "      <td>4836.4401</td>\n",
       "      <td>0.1737</td>\n",
       "      <td>134.647500</td>\n",
       "      <td>75.744613</td>\n",
       "      <td>76.155580</td>\n",
       "      <td>3.829049e+07</td>\n",
       "    </tr>\n",
       "    <tr>\n",
       "      <th>2</th>\n",
       "      <td>33.0</td>\n",
       "      <td>6.3</td>\n",
       "      <td>0.0</td>\n",
       "      <td>0.0</td>\n",
       "      <td>0.0</td>\n",
       "      <td>1.0</td>\n",
       "      <td>2.0</td>\n",
       "      <td>0.0</td>\n",
       "      <td>4836.4401</td>\n",
       "      <td>0.1737</td>\n",
       "      <td>134.647500</td>\n",
       "      <td>36.681915</td>\n",
       "      <td>38.318019</td>\n",
       "      <td>4.788112e+07</td>\n",
       "    </tr>\n",
       "    <tr>\n",
       "      <th>3</th>\n",
       "      <td>33.0</td>\n",
       "      <td>4.2</td>\n",
       "      <td>1.0</td>\n",
       "      <td>0.0</td>\n",
       "      <td>3.0</td>\n",
       "      <td>4.0</td>\n",
       "      <td>0.0</td>\n",
       "      <td>0.0</td>\n",
       "      <td>4836.4401</td>\n",
       "      <td>0.1737</td>\n",
       "      <td>134.647500</td>\n",
       "      <td>67.648044</td>\n",
       "      <td>67.648044</td>\n",
       "      <td>1.307028e+06</td>\n",
       "    </tr>\n",
       "    <tr>\n",
       "      <th>4</th>\n",
       "      <td>33.0</td>\n",
       "      <td>5.3</td>\n",
       "      <td>1.0</td>\n",
       "      <td>0.0</td>\n",
       "      <td>1.0</td>\n",
       "      <td>2.0</td>\n",
       "      <td>2.0</td>\n",
       "      <td>3.0</td>\n",
       "      <td>13549.8134</td>\n",
       "      <td>0.1232</td>\n",
       "      <td>40.397152</td>\n",
       "      <td>30.027525</td>\n",
       "      <td>30.027525</td>\n",
       "      <td>5.372795e+06</td>\n",
       "    </tr>\n",
       "    <tr>\n",
       "      <th>...</th>\n",
       "      <td>...</td>\n",
       "      <td>...</td>\n",
       "      <td>...</td>\n",
       "      <td>...</td>\n",
       "      <td>...</td>\n",
       "      <td>...</td>\n",
       "      <td>...</td>\n",
       "      <td>...</td>\n",
       "      <td>...</td>\n",
       "      <td>...</td>\n",
       "      <td>...</td>\n",
       "      <td>...</td>\n",
       "      <td>...</td>\n",
       "      <td>...</td>\n",
       "    </tr>\n",
       "    <tr>\n",
       "      <th>1025</th>\n",
       "      <td>57.0</td>\n",
       "      <td>4.5</td>\n",
       "      <td>1.0</td>\n",
       "      <td>0.0</td>\n",
       "      <td>0.0</td>\n",
       "      <td>0.0</td>\n",
       "      <td>0.0</td>\n",
       "      <td>0.0</td>\n",
       "      <td>11865.0324</td>\n",
       "      <td>0.0572</td>\n",
       "      <td>26.019350</td>\n",
       "      <td>16.741938</td>\n",
       "      <td>47.586447</td>\n",
       "      <td>6.139603e+05</td>\n",
       "    </tr>\n",
       "    <tr>\n",
       "      <th>1026</th>\n",
       "      <td>26.0</td>\n",
       "      <td>7.4</td>\n",
       "      <td>1.0</td>\n",
       "      <td>0.0</td>\n",
       "      <td>1.0</td>\n",
       "      <td>4.0</td>\n",
       "      <td>0.0</td>\n",
       "      <td>4.0</td>\n",
       "      <td>17509.5857</td>\n",
       "      <td>0.0602</td>\n",
       "      <td>64.815605</td>\n",
       "      <td>17.807072</td>\n",
       "      <td>76.325811</td>\n",
       "      <td>2.091321e+08</td>\n",
       "    </tr>\n",
       "    <tr>\n",
       "      <th>1027</th>\n",
       "      <td>80.0</td>\n",
       "      <td>7.0</td>\n",
       "      <td>1.0</td>\n",
       "      <td>0.0</td>\n",
       "      <td>1.0</td>\n",
       "      <td>1.0</td>\n",
       "      <td>0.0</td>\n",
       "      <td>1.0</td>\n",
       "      <td>4920.7312</td>\n",
       "      <td>0.1291</td>\n",
       "      <td>21.529040</td>\n",
       "      <td>2.727130</td>\n",
       "      <td>12.827054</td>\n",
       "      <td>1.137706e+07</td>\n",
       "    </tr>\n",
       "    <tr>\n",
       "      <th>1028</th>\n",
       "      <td>10.0</td>\n",
       "      <td>6.6</td>\n",
       "      <td>1.0</td>\n",
       "      <td>0.0</td>\n",
       "      <td>1.0</td>\n",
       "      <td>1.0</td>\n",
       "      <td>3.0</td>\n",
       "      <td>4.0</td>\n",
       "      <td>9596.5646</td>\n",
       "      <td>0.1435</td>\n",
       "      <td>376.265170</td>\n",
       "      <td>46.977182</td>\n",
       "      <td>300.614178</td>\n",
       "      <td>1.098252e+08</td>\n",
       "    </tr>\n",
       "    <tr>\n",
       "      <th>1029</th>\n",
       "      <td>10.0</td>\n",
       "      <td>6.7</td>\n",
       "      <td>0.0</td>\n",
       "      <td>0.0</td>\n",
       "      <td>0.0</td>\n",
       "      <td>0.0</td>\n",
       "      <td>0.0</td>\n",
       "      <td>0.0</td>\n",
       "      <td>21437.3544</td>\n",
       "      <td>0.0678</td>\n",
       "      <td>25.957615</td>\n",
       "      <td>7.547780</td>\n",
       "      <td>20.517156</td>\n",
       "      <td>2.069855e+07</td>\n",
       "    </tr>\n",
       "  </tbody>\n",
       "</table>\n",
       "<p>1030 rows × 14 columns</p>\n",
       "</div>"
      ],
      "text/plain": [
       "      Focal Depth (km)  Mag  Total Death Description  \\\n",
       "0                 10.0  5.1                      0.0   \n",
       "1                 33.0  5.9                      1.0   \n",
       "2                 33.0  6.3                      0.0   \n",
       "3                 33.0  4.2                      1.0   \n",
       "4                 33.0  5.3                      1.0   \n",
       "...                ...  ...                      ...   \n",
       "1025              57.0  4.5                      1.0   \n",
       "1026              26.0  7.4                      1.0   \n",
       "1027              80.0  7.0                      1.0   \n",
       "1028              10.0  6.6                      1.0   \n",
       "1029              10.0  6.7                      0.0   \n",
       "\n",
       "      Total Missing Description  Total Injuries Description  \\\n",
       "0                           0.0                         1.0   \n",
       "1                           0.0                         4.0   \n",
       "2                           0.0                         0.0   \n",
       "3                           0.0                         3.0   \n",
       "4                           0.0                         1.0   \n",
       "...                         ...                         ...   \n",
       "1025                        0.0                         0.0   \n",
       "1026                        0.0                         1.0   \n",
       "1027                        0.0                         1.0   \n",
       "1028                        0.0                         1.0   \n",
       "1029                        0.0                         0.0   \n",
       "\n",
       "      Total Damage Description  Total Houses Destroyed Description  \\\n",
       "0                          3.0                                 4.0   \n",
       "1                          4.0                                 4.0   \n",
       "2                          1.0                                 2.0   \n",
       "3                          4.0                                 0.0   \n",
       "4                          2.0                                 2.0   \n",
       "...                        ...                                 ...   \n",
       "1025                       0.0                                 0.0   \n",
       "1026                       4.0                                 0.0   \n",
       "1027                       1.0                                 0.0   \n",
       "1028                       1.0                                 3.0   \n",
       "1029                       0.0                                 0.0   \n",
       "\n",
       "      Total Houses Damaged Description  Average Income  p0p50_share  \\\n",
       "0                                  4.0       4836.4401       0.1737   \n",
       "1                                  0.0       4836.4401       0.1737   \n",
       "2                                  0.0       4836.4401       0.1737   \n",
       "3                                  0.0       4836.4401       0.1737   \n",
       "4                                  3.0      13549.8134       0.1232   \n",
       "...                                ...             ...          ...   \n",
       "1025                               0.0      11865.0324       0.0572   \n",
       "1026                               4.0      17509.5857       0.0602   \n",
       "1027                               1.0       4920.7312       0.1291   \n",
       "1028                               4.0       9596.5646       0.1435   \n",
       "1029                               0.0      21437.3544       0.0678   \n",
       "\n",
       "      Population density national  pop_with_water  pop_without_water  \\\n",
       "0                      134.647500      196.047281         248.925429   \n",
       "1                      134.647500       75.744613          76.155580   \n",
       "2                      134.647500       36.681915          38.318019   \n",
       "3                      134.647500       67.648044          67.648044   \n",
       "4                       40.397152       30.027525          30.027525   \n",
       "...                           ...             ...                ...   \n",
       "1025                    26.019350       16.741938          47.586447   \n",
       "1026                    64.815605       17.807072          76.325811   \n",
       "1027                    21.529040        2.727130          12.827054   \n",
       "1028                   376.265170       46.977182         300.614178   \n",
       "1029                    25.957615        7.547780          20.517156   \n",
       "\n",
       "         pop_total  \n",
       "0     2.089903e+07  \n",
       "1     3.829049e+07  \n",
       "2     4.788112e+07  \n",
       "3     1.307028e+06  \n",
       "4     5.372795e+06  \n",
       "...            ...  \n",
       "1025  6.139603e+05  \n",
       "1026  2.091321e+08  \n",
       "1027  1.137706e+07  \n",
       "1028  1.098252e+08  \n",
       "1029  2.069855e+07  \n",
       "\n",
       "[1030 rows x 14 columns]"
      ]
     },
     "execution_count": 5,
     "metadata": {},
     "output_type": "execute_result"
    }
   ],
   "source": [
    "cols = [\n",
    "    'Focal Depth (km)',\n",
    "    'Mag',\n",
    "    # 'Deaths',\n",
    "    # 'Death Description',\n",
    "    # 'Missing',\n",
    "    # 'Missing Description',\n",
    "    # 'Injuries',\n",
    "    # 'Injuries Description',\n",
    "    # 'Damage ($Mil)',\n",
    "    # 'Damage Description',\n",
    "    # 'Houses Destroyed',\n",
    "    # 'Houses Destroyed Description',\n",
    "    # 'Houses Damaged',\n",
    "    # 'Houses Damaged Description',\n",
    "    # 'Total Deaths',\n",
    "    'Total Death Description',\n",
    "    # 'Total Missing',\n",
    "    'Total Missing Description',\n",
    "    # 'Total Injuries',\n",
    "    'Total Injuries Description',\n",
    "    # 'Total Damage ($Mil)',\n",
    "    'Total Damage Description',\n",
    "    # 'Total Houses Destroyed',\n",
    "    'Total Houses Destroyed Description',\n",
    "    # 'Total Houses Damaged',\n",
    "    'Total Houses Damaged Description',\n",
    "    # 'Total Houses Damaged Description.1',\n",
    "    'Average Income',\n",
    "    'p0p50_share',\n",
    "    'Population density national',\n",
    "    'pop_with_water',\n",
    "    'pop_without_water',\n",
    "    'pop_total',\n",
    "]\n",
    "foo = data[cols]\n",
    "foo"
   ]
  },
  {
   "cell_type": "code",
   "execution_count": 6,
   "metadata": {},
   "outputs": [
    {
     "name": "stderr",
     "output_type": "stream",
     "text": [
      "/Users/tillboehringer/anaconda3/envs/dataproject_UZH/lib/python3.11/site-packages/seaborn/_oldcore.py:1119: FutureWarning: use_inf_as_na option is deprecated and will be removed in a future version. Convert inf values to NaN before operating instead.\n",
      "  with pd.option_context('mode.use_inf_as_na', True):\n",
      "/Users/tillboehringer/anaconda3/envs/dataproject_UZH/lib/python3.11/site-packages/seaborn/_oldcore.py:1119: FutureWarning: use_inf_as_na option is deprecated and will be removed in a future version. Convert inf values to NaN before operating instead.\n",
      "  with pd.option_context('mode.use_inf_as_na', True):\n",
      "/Users/tillboehringer/anaconda3/envs/dataproject_UZH/lib/python3.11/site-packages/seaborn/_oldcore.py:1119: FutureWarning: use_inf_as_na option is deprecated and will be removed in a future version. Convert inf values to NaN before operating instead.\n",
      "  with pd.option_context('mode.use_inf_as_na', True):\n",
      "/Users/tillboehringer/anaconda3/envs/dataproject_UZH/lib/python3.11/site-packages/seaborn/_oldcore.py:1119: FutureWarning: use_inf_as_na option is deprecated and will be removed in a future version. Convert inf values to NaN before operating instead.\n",
      "  with pd.option_context('mode.use_inf_as_na', True):\n",
      "/Users/tillboehringer/anaconda3/envs/dataproject_UZH/lib/python3.11/site-packages/seaborn/_oldcore.py:1119: FutureWarning: use_inf_as_na option is deprecated and will be removed in a future version. Convert inf values to NaN before operating instead.\n",
      "  with pd.option_context('mode.use_inf_as_na', True):\n",
      "/Users/tillboehringer/anaconda3/envs/dataproject_UZH/lib/python3.11/site-packages/seaborn/_oldcore.py:1119: FutureWarning: use_inf_as_na option is deprecated and will be removed in a future version. Convert inf values to NaN before operating instead.\n",
      "  with pd.option_context('mode.use_inf_as_na', True):\n",
      "/Users/tillboehringer/anaconda3/envs/dataproject_UZH/lib/python3.11/site-packages/seaborn/_oldcore.py:1119: FutureWarning: use_inf_as_na option is deprecated and will be removed in a future version. Convert inf values to NaN before operating instead.\n",
      "  with pd.option_context('mode.use_inf_as_na', True):\n",
      "/Users/tillboehringer/anaconda3/envs/dataproject_UZH/lib/python3.11/site-packages/seaborn/_oldcore.py:1119: FutureWarning: use_inf_as_na option is deprecated and will be removed in a future version. Convert inf values to NaN before operating instead.\n",
      "  with pd.option_context('mode.use_inf_as_na', True):\n",
      "/Users/tillboehringer/anaconda3/envs/dataproject_UZH/lib/python3.11/site-packages/seaborn/_oldcore.py:1119: FutureWarning: use_inf_as_na option is deprecated and will be removed in a future version. Convert inf values to NaN before operating instead.\n",
      "  with pd.option_context('mode.use_inf_as_na', True):\n",
      "/Users/tillboehringer/anaconda3/envs/dataproject_UZH/lib/python3.11/site-packages/seaborn/_oldcore.py:1119: FutureWarning: use_inf_as_na option is deprecated and will be removed in a future version. Convert inf values to NaN before operating instead.\n",
      "  with pd.option_context('mode.use_inf_as_na', True):\n",
      "/Users/tillboehringer/anaconda3/envs/dataproject_UZH/lib/python3.11/site-packages/seaborn/_oldcore.py:1119: FutureWarning: use_inf_as_na option is deprecated and will be removed in a future version. Convert inf values to NaN before operating instead.\n",
      "  with pd.option_context('mode.use_inf_as_na', True):\n",
      "/Users/tillboehringer/anaconda3/envs/dataproject_UZH/lib/python3.11/site-packages/seaborn/_oldcore.py:1119: FutureWarning: use_inf_as_na option is deprecated and will be removed in a future version. Convert inf values to NaN before operating instead.\n",
      "  with pd.option_context('mode.use_inf_as_na', True):\n",
      "/Users/tillboehringer/anaconda3/envs/dataproject_UZH/lib/python3.11/site-packages/seaborn/_oldcore.py:1119: FutureWarning: use_inf_as_na option is deprecated and will be removed in a future version. Convert inf values to NaN before operating instead.\n",
      "  with pd.option_context('mode.use_inf_as_na', True):\n",
      "/Users/tillboehringer/anaconda3/envs/dataproject_UZH/lib/python3.11/site-packages/seaborn/_oldcore.py:1119: FutureWarning: use_inf_as_na option is deprecated and will be removed in a future version. Convert inf values to NaN before operating instead.\n",
      "  with pd.option_context('mode.use_inf_as_na', True):\n",
      "/Users/tillboehringer/anaconda3/envs/dataproject_UZH/lib/python3.11/site-packages/seaborn/_oldcore.py:1119: FutureWarning: use_inf_as_na option is deprecated and will be removed in a future version. Convert inf values to NaN before operating instead.\n",
      "  with pd.option_context('mode.use_inf_as_na', True):\n",
      "/Users/tillboehringer/anaconda3/envs/dataproject_UZH/lib/python3.11/site-packages/seaborn/_oldcore.py:1119: FutureWarning: use_inf_as_na option is deprecated and will be removed in a future version. Convert inf values to NaN before operating instead.\n",
      "  with pd.option_context('mode.use_inf_as_na', True):\n",
      "/Users/tillboehringer/anaconda3/envs/dataproject_UZH/lib/python3.11/site-packages/seaborn/_oldcore.py:1119: FutureWarning: use_inf_as_na option is deprecated and will be removed in a future version. Convert inf values to NaN before operating instead.\n",
      "  with pd.option_context('mode.use_inf_as_na', True):\n",
      "/Users/tillboehringer/anaconda3/envs/dataproject_UZH/lib/python3.11/site-packages/seaborn/_oldcore.py:1119: FutureWarning: use_inf_as_na option is deprecated and will be removed in a future version. Convert inf values to NaN before operating instead.\n",
      "  with pd.option_context('mode.use_inf_as_na', True):\n",
      "/Users/tillboehringer/anaconda3/envs/dataproject_UZH/lib/python3.11/site-packages/seaborn/_oldcore.py:1119: FutureWarning: use_inf_as_na option is deprecated and will be removed in a future version. Convert inf values to NaN before operating instead.\n",
      "  with pd.option_context('mode.use_inf_as_na', True):\n",
      "/Users/tillboehringer/anaconda3/envs/dataproject_UZH/lib/python3.11/site-packages/seaborn/_oldcore.py:1119: FutureWarning: use_inf_as_na option is deprecated and will be removed in a future version. Convert inf values to NaN before operating instead.\n",
      "  with pd.option_context('mode.use_inf_as_na', True):\n",
      "/Users/tillboehringer/anaconda3/envs/dataproject_UZH/lib/python3.11/site-packages/seaborn/_oldcore.py:1119: FutureWarning: use_inf_as_na option is deprecated and will be removed in a future version. Convert inf values to NaN before operating instead.\n",
      "  with pd.option_context('mode.use_inf_as_na', True):\n",
      "/Users/tillboehringer/anaconda3/envs/dataproject_UZH/lib/python3.11/site-packages/seaborn/_oldcore.py:1119: FutureWarning: use_inf_as_na option is deprecated and will be removed in a future version. Convert inf values to NaN before operating instead.\n",
      "  with pd.option_context('mode.use_inf_as_na', True):\n",
      "/Users/tillboehringer/anaconda3/envs/dataproject_UZH/lib/python3.11/site-packages/seaborn/_oldcore.py:1119: FutureWarning: use_inf_as_na option is deprecated and will be removed in a future version. Convert inf values to NaN before operating instead.\n",
      "  with pd.option_context('mode.use_inf_as_na', True):\n",
      "/Users/tillboehringer/anaconda3/envs/dataproject_UZH/lib/python3.11/site-packages/seaborn/_oldcore.py:1119: FutureWarning: use_inf_as_na option is deprecated and will be removed in a future version. Convert inf values to NaN before operating instead.\n",
      "  with pd.option_context('mode.use_inf_as_na', True):\n",
      "/Users/tillboehringer/anaconda3/envs/dataproject_UZH/lib/python3.11/site-packages/seaborn/_oldcore.py:1119: FutureWarning: use_inf_as_na option is deprecated and will be removed in a future version. Convert inf values to NaN before operating instead.\n",
      "  with pd.option_context('mode.use_inf_as_na', True):\n",
      "/Users/tillboehringer/anaconda3/envs/dataproject_UZH/lib/python3.11/site-packages/seaborn/_oldcore.py:1119: FutureWarning: use_inf_as_na option is deprecated and will be removed in a future version. Convert inf values to NaN before operating instead.\n",
      "  with pd.option_context('mode.use_inf_as_na', True):\n",
      "/Users/tillboehringer/anaconda3/envs/dataproject_UZH/lib/python3.11/site-packages/seaborn/_oldcore.py:1119: FutureWarning: use_inf_as_na option is deprecated and will be removed in a future version. Convert inf values to NaN before operating instead.\n",
      "  with pd.option_context('mode.use_inf_as_na', True):\n",
      "/Users/tillboehringer/anaconda3/envs/dataproject_UZH/lib/python3.11/site-packages/seaborn/_oldcore.py:1119: FutureWarning: use_inf_as_na option is deprecated and will be removed in a future version. Convert inf values to NaN before operating instead.\n",
      "  with pd.option_context('mode.use_inf_as_na', True):\n",
      "/Users/tillboehringer/anaconda3/envs/dataproject_UZH/lib/python3.11/site-packages/seaborn/_oldcore.py:1119: FutureWarning: use_inf_as_na option is deprecated and will be removed in a future version. Convert inf values to NaN before operating instead.\n",
      "  with pd.option_context('mode.use_inf_as_na', True):\n",
      "/Users/tillboehringer/anaconda3/envs/dataproject_UZH/lib/python3.11/site-packages/seaborn/_oldcore.py:1119: FutureWarning: use_inf_as_na option is deprecated and will be removed in a future version. Convert inf values to NaN before operating instead.\n",
      "  with pd.option_context('mode.use_inf_as_na', True):\n",
      "/Users/tillboehringer/anaconda3/envs/dataproject_UZH/lib/python3.11/site-packages/seaborn/_oldcore.py:1119: FutureWarning: use_inf_as_na option is deprecated and will be removed in a future version. Convert inf values to NaN before operating instead.\n",
      "  with pd.option_context('mode.use_inf_as_na', True):\n",
      "/Users/tillboehringer/anaconda3/envs/dataproject_UZH/lib/python3.11/site-packages/seaborn/_oldcore.py:1119: FutureWarning: use_inf_as_na option is deprecated and will be removed in a future version. Convert inf values to NaN before operating instead.\n",
      "  with pd.option_context('mode.use_inf_as_na', True):\n",
      "/Users/tillboehringer/anaconda3/envs/dataproject_UZH/lib/python3.11/site-packages/seaborn/_oldcore.py:1119: FutureWarning: use_inf_as_na option is deprecated and will be removed in a future version. Convert inf values to NaN before operating instead.\n",
      "  with pd.option_context('mode.use_inf_as_na', True):\n",
      "/Users/tillboehringer/anaconda3/envs/dataproject_UZH/lib/python3.11/site-packages/seaborn/_oldcore.py:1119: FutureWarning: use_inf_as_na option is deprecated and will be removed in a future version. Convert inf values to NaN before operating instead.\n",
      "  with pd.option_context('mode.use_inf_as_na', True):\n",
      "/Users/tillboehringer/anaconda3/envs/dataproject_UZH/lib/python3.11/site-packages/seaborn/_oldcore.py:1119: FutureWarning: use_inf_as_na option is deprecated and will be removed in a future version. Convert inf values to NaN before operating instead.\n",
      "  with pd.option_context('mode.use_inf_as_na', True):\n",
      "/Users/tillboehringer/anaconda3/envs/dataproject_UZH/lib/python3.11/site-packages/seaborn/_oldcore.py:1119: FutureWarning: use_inf_as_na option is deprecated and will be removed in a future version. Convert inf values to NaN before operating instead.\n",
      "  with pd.option_context('mode.use_inf_as_na', True):\n",
      "/Users/tillboehringer/anaconda3/envs/dataproject_UZH/lib/python3.11/site-packages/seaborn/_oldcore.py:1119: FutureWarning: use_inf_as_na option is deprecated and will be removed in a future version. Convert inf values to NaN before operating instead.\n",
      "  with pd.option_context('mode.use_inf_as_na', True):\n",
      "/Users/tillboehringer/anaconda3/envs/dataproject_UZH/lib/python3.11/site-packages/seaborn/_oldcore.py:1119: FutureWarning: use_inf_as_na option is deprecated and will be removed in a future version. Convert inf values to NaN before operating instead.\n",
      "  with pd.option_context('mode.use_inf_as_na', True):\n",
      "/Users/tillboehringer/anaconda3/envs/dataproject_UZH/lib/python3.11/site-packages/seaborn/_oldcore.py:1119: FutureWarning: use_inf_as_na option is deprecated and will be removed in a future version. Convert inf values to NaN before operating instead.\n",
      "  with pd.option_context('mode.use_inf_as_na', True):\n",
      "/Users/tillboehringer/anaconda3/envs/dataproject_UZH/lib/python3.11/site-packages/seaborn/_oldcore.py:1119: FutureWarning: use_inf_as_na option is deprecated and will be removed in a future version. Convert inf values to NaN before operating instead.\n",
      "  with pd.option_context('mode.use_inf_as_na', True):\n",
      "/Users/tillboehringer/anaconda3/envs/dataproject_UZH/lib/python3.11/site-packages/seaborn/_oldcore.py:1119: FutureWarning: use_inf_as_na option is deprecated and will be removed in a future version. Convert inf values to NaN before operating instead.\n",
      "  with pd.option_context('mode.use_inf_as_na', True):\n",
      "/Users/tillboehringer/anaconda3/envs/dataproject_UZH/lib/python3.11/site-packages/seaborn/_oldcore.py:1119: FutureWarning: use_inf_as_na option is deprecated and will be removed in a future version. Convert inf values to NaN before operating instead.\n",
      "  with pd.option_context('mode.use_inf_as_na', True):\n",
      "/Users/tillboehringer/anaconda3/envs/dataproject_UZH/lib/python3.11/site-packages/seaborn/_oldcore.py:1119: FutureWarning: use_inf_as_na option is deprecated and will be removed in a future version. Convert inf values to NaN before operating instead.\n",
      "  with pd.option_context('mode.use_inf_as_na', True):\n",
      "/Users/tillboehringer/anaconda3/envs/dataproject_UZH/lib/python3.11/site-packages/seaborn/_oldcore.py:1119: FutureWarning: use_inf_as_na option is deprecated and will be removed in a future version. Convert inf values to NaN before operating instead.\n",
      "  with pd.option_context('mode.use_inf_as_na', True):\n",
      "/Users/tillboehringer/anaconda3/envs/dataproject_UZH/lib/python3.11/site-packages/seaborn/_oldcore.py:1119: FutureWarning: use_inf_as_na option is deprecated and will be removed in a future version. Convert inf values to NaN before operating instead.\n",
      "  with pd.option_context('mode.use_inf_as_na', True):\n",
      "/Users/tillboehringer/anaconda3/envs/dataproject_UZH/lib/python3.11/site-packages/seaborn/_oldcore.py:1119: FutureWarning: use_inf_as_na option is deprecated and will be removed in a future version. Convert inf values to NaN before operating instead.\n",
      "  with pd.option_context('mode.use_inf_as_na', True):\n",
      "/Users/tillboehringer/anaconda3/envs/dataproject_UZH/lib/python3.11/site-packages/seaborn/_oldcore.py:1119: FutureWarning: use_inf_as_na option is deprecated and will be removed in a future version. Convert inf values to NaN before operating instead.\n",
      "  with pd.option_context('mode.use_inf_as_na', True):\n",
      "/Users/tillboehringer/anaconda3/envs/dataproject_UZH/lib/python3.11/site-packages/seaborn/_oldcore.py:1119: FutureWarning: use_inf_as_na option is deprecated and will be removed in a future version. Convert inf values to NaN before operating instead.\n",
      "  with pd.option_context('mode.use_inf_as_na', True):\n",
      "/Users/tillboehringer/anaconda3/envs/dataproject_UZH/lib/python3.11/site-packages/seaborn/_oldcore.py:1119: FutureWarning: use_inf_as_na option is deprecated and will be removed in a future version. Convert inf values to NaN before operating instead.\n",
      "  with pd.option_context('mode.use_inf_as_na', True):\n",
      "/Users/tillboehringer/anaconda3/envs/dataproject_UZH/lib/python3.11/site-packages/seaborn/_oldcore.py:1119: FutureWarning: use_inf_as_na option is deprecated and will be removed in a future version. Convert inf values to NaN before operating instead.\n",
      "  with pd.option_context('mode.use_inf_as_na', True):\n",
      "/Users/tillboehringer/anaconda3/envs/dataproject_UZH/lib/python3.11/site-packages/seaborn/_oldcore.py:1119: FutureWarning: use_inf_as_na option is deprecated and will be removed in a future version. Convert inf values to NaN before operating instead.\n",
      "  with pd.option_context('mode.use_inf_as_na', True):\n",
      "/Users/tillboehringer/anaconda3/envs/dataproject_UZH/lib/python3.11/site-packages/seaborn/_oldcore.py:1119: FutureWarning: use_inf_as_na option is deprecated and will be removed in a future version. Convert inf values to NaN before operating instead.\n",
      "  with pd.option_context('mode.use_inf_as_na', True):\n",
      "/Users/tillboehringer/anaconda3/envs/dataproject_UZH/lib/python3.11/site-packages/seaborn/_oldcore.py:1119: FutureWarning: use_inf_as_na option is deprecated and will be removed in a future version. Convert inf values to NaN before operating instead.\n",
      "  with pd.option_context('mode.use_inf_as_na', True):\n",
      "/Users/tillboehringer/anaconda3/envs/dataproject_UZH/lib/python3.11/site-packages/seaborn/_oldcore.py:1119: FutureWarning: use_inf_as_na option is deprecated and will be removed in a future version. Convert inf values to NaN before operating instead.\n",
      "  with pd.option_context('mode.use_inf_as_na', True):\n",
      "/Users/tillboehringer/anaconda3/envs/dataproject_UZH/lib/python3.11/site-packages/seaborn/_oldcore.py:1119: FutureWarning: use_inf_as_na option is deprecated and will be removed in a future version. Convert inf values to NaN before operating instead.\n",
      "  with pd.option_context('mode.use_inf_as_na', True):\n",
      "/Users/tillboehringer/anaconda3/envs/dataproject_UZH/lib/python3.11/site-packages/seaborn/_oldcore.py:1119: FutureWarning: use_inf_as_na option is deprecated and will be removed in a future version. Convert inf values to NaN before operating instead.\n",
      "  with pd.option_context('mode.use_inf_as_na', True):\n",
      "/Users/tillboehringer/anaconda3/envs/dataproject_UZH/lib/python3.11/site-packages/seaborn/_oldcore.py:1119: FutureWarning: use_inf_as_na option is deprecated and will be removed in a future version. Convert inf values to NaN before operating instead.\n",
      "  with pd.option_context('mode.use_inf_as_na', True):\n",
      "/Users/tillboehringer/anaconda3/envs/dataproject_UZH/lib/python3.11/site-packages/seaborn/_oldcore.py:1119: FutureWarning: use_inf_as_na option is deprecated and will be removed in a future version. Convert inf values to NaN before operating instead.\n",
      "  with pd.option_context('mode.use_inf_as_na', True):\n",
      "/Users/tillboehringer/anaconda3/envs/dataproject_UZH/lib/python3.11/site-packages/seaborn/_oldcore.py:1119: FutureWarning: use_inf_as_na option is deprecated and will be removed in a future version. Convert inf values to NaN before operating instead.\n",
      "  with pd.option_context('mode.use_inf_as_na', True):\n",
      "/Users/tillboehringer/anaconda3/envs/dataproject_UZH/lib/python3.11/site-packages/seaborn/_oldcore.py:1119: FutureWarning: use_inf_as_na option is deprecated and will be removed in a future version. Convert inf values to NaN before operating instead.\n",
      "  with pd.option_context('mode.use_inf_as_na', True):\n",
      "/Users/tillboehringer/anaconda3/envs/dataproject_UZH/lib/python3.11/site-packages/seaborn/_oldcore.py:1119: FutureWarning: use_inf_as_na option is deprecated and will be removed in a future version. Convert inf values to NaN before operating instead.\n",
      "  with pd.option_context('mode.use_inf_as_na', True):\n",
      "/Users/tillboehringer/anaconda3/envs/dataproject_UZH/lib/python3.11/site-packages/seaborn/_oldcore.py:1119: FutureWarning: use_inf_as_na option is deprecated and will be removed in a future version. Convert inf values to NaN before operating instead.\n",
      "  with pd.option_context('mode.use_inf_as_na', True):\n",
      "/Users/tillboehringer/anaconda3/envs/dataproject_UZH/lib/python3.11/site-packages/seaborn/_oldcore.py:1119: FutureWarning: use_inf_as_na option is deprecated and will be removed in a future version. Convert inf values to NaN before operating instead.\n",
      "  with pd.option_context('mode.use_inf_as_na', True):\n",
      "/Users/tillboehringer/anaconda3/envs/dataproject_UZH/lib/python3.11/site-packages/seaborn/_oldcore.py:1119: FutureWarning: use_inf_as_na option is deprecated and will be removed in a future version. Convert inf values to NaN before operating instead.\n",
      "  with pd.option_context('mode.use_inf_as_na', True):\n",
      "/Users/tillboehringer/anaconda3/envs/dataproject_UZH/lib/python3.11/site-packages/seaborn/_oldcore.py:1119: FutureWarning: use_inf_as_na option is deprecated and will be removed in a future version. Convert inf values to NaN before operating instead.\n",
      "  with pd.option_context('mode.use_inf_as_na', True):\n",
      "/Users/tillboehringer/anaconda3/envs/dataproject_UZH/lib/python3.11/site-packages/seaborn/_oldcore.py:1119: FutureWarning: use_inf_as_na option is deprecated and will be removed in a future version. Convert inf values to NaN before operating instead.\n",
      "  with pd.option_context('mode.use_inf_as_na', True):\n",
      "/Users/tillboehringer/anaconda3/envs/dataproject_UZH/lib/python3.11/site-packages/seaborn/_oldcore.py:1119: FutureWarning: use_inf_as_na option is deprecated and will be removed in a future version. Convert inf values to NaN before operating instead.\n",
      "  with pd.option_context('mode.use_inf_as_na', True):\n",
      "/Users/tillboehringer/anaconda3/envs/dataproject_UZH/lib/python3.11/site-packages/seaborn/_oldcore.py:1119: FutureWarning: use_inf_as_na option is deprecated and will be removed in a future version. Convert inf values to NaN before operating instead.\n",
      "  with pd.option_context('mode.use_inf_as_na', True):\n",
      "/Users/tillboehringer/anaconda3/envs/dataproject_UZH/lib/python3.11/site-packages/seaborn/_oldcore.py:1119: FutureWarning: use_inf_as_na option is deprecated and will be removed in a future version. Convert inf values to NaN before operating instead.\n",
      "  with pd.option_context('mode.use_inf_as_na', True):\n",
      "/Users/tillboehringer/anaconda3/envs/dataproject_UZH/lib/python3.11/site-packages/seaborn/_oldcore.py:1119: FutureWarning: use_inf_as_na option is deprecated and will be removed in a future version. Convert inf values to NaN before operating instead.\n",
      "  with pd.option_context('mode.use_inf_as_na', True):\n",
      "/Users/tillboehringer/anaconda3/envs/dataproject_UZH/lib/python3.11/site-packages/seaborn/_oldcore.py:1119: FutureWarning: use_inf_as_na option is deprecated and will be removed in a future version. Convert inf values to NaN before operating instead.\n",
      "  with pd.option_context('mode.use_inf_as_na', True):\n",
      "/Users/tillboehringer/anaconda3/envs/dataproject_UZH/lib/python3.11/site-packages/seaborn/_oldcore.py:1119: FutureWarning: use_inf_as_na option is deprecated and will be removed in a future version. Convert inf values to NaN before operating instead.\n",
      "  with pd.option_context('mode.use_inf_as_na', True):\n",
      "/Users/tillboehringer/anaconda3/envs/dataproject_UZH/lib/python3.11/site-packages/seaborn/_oldcore.py:1119: FutureWarning: use_inf_as_na option is deprecated and will be removed in a future version. Convert inf values to NaN before operating instead.\n",
      "  with pd.option_context('mode.use_inf_as_na', True):\n",
      "/Users/tillboehringer/anaconda3/envs/dataproject_UZH/lib/python3.11/site-packages/seaborn/_oldcore.py:1119: FutureWarning: use_inf_as_na option is deprecated and will be removed in a future version. Convert inf values to NaN before operating instead.\n",
      "  with pd.option_context('mode.use_inf_as_na', True):\n",
      "/Users/tillboehringer/anaconda3/envs/dataproject_UZH/lib/python3.11/site-packages/seaborn/_oldcore.py:1119: FutureWarning: use_inf_as_na option is deprecated and will be removed in a future version. Convert inf values to NaN before operating instead.\n",
      "  with pd.option_context('mode.use_inf_as_na', True):\n",
      "/Users/tillboehringer/anaconda3/envs/dataproject_UZH/lib/python3.11/site-packages/seaborn/_oldcore.py:1119: FutureWarning: use_inf_as_na option is deprecated and will be removed in a future version. Convert inf values to NaN before operating instead.\n",
      "  with pd.option_context('mode.use_inf_as_na', True):\n",
      "/Users/tillboehringer/anaconda3/envs/dataproject_UZH/lib/python3.11/site-packages/seaborn/_oldcore.py:1119: FutureWarning: use_inf_as_na option is deprecated and will be removed in a future version. Convert inf values to NaN before operating instead.\n",
      "  with pd.option_context('mode.use_inf_as_na', True):\n",
      "/Users/tillboehringer/anaconda3/envs/dataproject_UZH/lib/python3.11/site-packages/seaborn/_oldcore.py:1119: FutureWarning: use_inf_as_na option is deprecated and will be removed in a future version. Convert inf values to NaN before operating instead.\n",
      "  with pd.option_context('mode.use_inf_as_na', True):\n",
      "/Users/tillboehringer/anaconda3/envs/dataproject_UZH/lib/python3.11/site-packages/seaborn/_oldcore.py:1119: FutureWarning: use_inf_as_na option is deprecated and will be removed in a future version. Convert inf values to NaN before operating instead.\n",
      "  with pd.option_context('mode.use_inf_as_na', True):\n",
      "/Users/tillboehringer/anaconda3/envs/dataproject_UZH/lib/python3.11/site-packages/seaborn/_oldcore.py:1119: FutureWarning: use_inf_as_na option is deprecated and will be removed in a future version. Convert inf values to NaN before operating instead.\n",
      "  with pd.option_context('mode.use_inf_as_na', True):\n",
      "/Users/tillboehringer/anaconda3/envs/dataproject_UZH/lib/python3.11/site-packages/seaborn/_oldcore.py:1119: FutureWarning: use_inf_as_na option is deprecated and will be removed in a future version. Convert inf values to NaN before operating instead.\n",
      "  with pd.option_context('mode.use_inf_as_na', True):\n",
      "/Users/tillboehringer/anaconda3/envs/dataproject_UZH/lib/python3.11/site-packages/seaborn/_oldcore.py:1119: FutureWarning: use_inf_as_na option is deprecated and will be removed in a future version. Convert inf values to NaN before operating instead.\n",
      "  with pd.option_context('mode.use_inf_as_na', True):\n",
      "/Users/tillboehringer/anaconda3/envs/dataproject_UZH/lib/python3.11/site-packages/seaborn/_oldcore.py:1119: FutureWarning: use_inf_as_na option is deprecated and will be removed in a future version. Convert inf values to NaN before operating instead.\n",
      "  with pd.option_context('mode.use_inf_as_na', True):\n",
      "/Users/tillboehringer/anaconda3/envs/dataproject_UZH/lib/python3.11/site-packages/seaborn/_oldcore.py:1119: FutureWarning: use_inf_as_na option is deprecated and will be removed in a future version. Convert inf values to NaN before operating instead.\n",
      "  with pd.option_context('mode.use_inf_as_na', True):\n",
      "/Users/tillboehringer/anaconda3/envs/dataproject_UZH/lib/python3.11/site-packages/seaborn/_oldcore.py:1119: FutureWarning: use_inf_as_na option is deprecated and will be removed in a future version. Convert inf values to NaN before operating instead.\n",
      "  with pd.option_context('mode.use_inf_as_na', True):\n",
      "/Users/tillboehringer/anaconda3/envs/dataproject_UZH/lib/python3.11/site-packages/seaborn/_oldcore.py:1119: FutureWarning: use_inf_as_na option is deprecated and will be removed in a future version. Convert inf values to NaN before operating instead.\n",
      "  with pd.option_context('mode.use_inf_as_na', True):\n",
      "/Users/tillboehringer/anaconda3/envs/dataproject_UZH/lib/python3.11/site-packages/seaborn/_oldcore.py:1119: FutureWarning: use_inf_as_na option is deprecated and will be removed in a future version. Convert inf values to NaN before operating instead.\n",
      "  with pd.option_context('mode.use_inf_as_na', True):\n",
      "/Users/tillboehringer/anaconda3/envs/dataproject_UZH/lib/python3.11/site-packages/seaborn/_oldcore.py:1119: FutureWarning: use_inf_as_na option is deprecated and will be removed in a future version. Convert inf values to NaN before operating instead.\n",
      "  with pd.option_context('mode.use_inf_as_na', True):\n",
      "/Users/tillboehringer/anaconda3/envs/dataproject_UZH/lib/python3.11/site-packages/seaborn/_oldcore.py:1119: FutureWarning: use_inf_as_na option is deprecated and will be removed in a future version. Convert inf values to NaN before operating instead.\n",
      "  with pd.option_context('mode.use_inf_as_na', True):\n",
      "/Users/tillboehringer/anaconda3/envs/dataproject_UZH/lib/python3.11/site-packages/seaborn/_oldcore.py:1119: FutureWarning: use_inf_as_na option is deprecated and will be removed in a future version. Convert inf values to NaN before operating instead.\n",
      "  with pd.option_context('mode.use_inf_as_na', True):\n",
      "/Users/tillboehringer/anaconda3/envs/dataproject_UZH/lib/python3.11/site-packages/seaborn/_oldcore.py:1119: FutureWarning: use_inf_as_na option is deprecated and will be removed in a future version. Convert inf values to NaN before operating instead.\n",
      "  with pd.option_context('mode.use_inf_as_na', True):\n",
      "/Users/tillboehringer/anaconda3/envs/dataproject_UZH/lib/python3.11/site-packages/seaborn/_oldcore.py:1119: FutureWarning: use_inf_as_na option is deprecated and will be removed in a future version. Convert inf values to NaN before operating instead.\n",
      "  with pd.option_context('mode.use_inf_as_na', True):\n",
      "/Users/tillboehringer/anaconda3/envs/dataproject_UZH/lib/python3.11/site-packages/seaborn/_oldcore.py:1119: FutureWarning: use_inf_as_na option is deprecated and will be removed in a future version. Convert inf values to NaN before operating instead.\n",
      "  with pd.option_context('mode.use_inf_as_na', True):\n",
      "/Users/tillboehringer/anaconda3/envs/dataproject_UZH/lib/python3.11/site-packages/seaborn/_oldcore.py:1119: FutureWarning: use_inf_as_na option is deprecated and will be removed in a future version. Convert inf values to NaN before operating instead.\n",
      "  with pd.option_context('mode.use_inf_as_na', True):\n",
      "/Users/tillboehringer/anaconda3/envs/dataproject_UZH/lib/python3.11/site-packages/seaborn/_oldcore.py:1119: FutureWarning: use_inf_as_na option is deprecated and will be removed in a future version. Convert inf values to NaN before operating instead.\n",
      "  with pd.option_context('mode.use_inf_as_na', True):\n",
      "/Users/tillboehringer/anaconda3/envs/dataproject_UZH/lib/python3.11/site-packages/seaborn/_oldcore.py:1119: FutureWarning: use_inf_as_na option is deprecated and will be removed in a future version. Convert inf values to NaN before operating instead.\n",
      "  with pd.option_context('mode.use_inf_as_na', True):\n",
      "/Users/tillboehringer/anaconda3/envs/dataproject_UZH/lib/python3.11/site-packages/seaborn/_oldcore.py:1119: FutureWarning: use_inf_as_na option is deprecated and will be removed in a future version. Convert inf values to NaN before operating instead.\n",
      "  with pd.option_context('mode.use_inf_as_na', True):\n",
      "/Users/tillboehringer/anaconda3/envs/dataproject_UZH/lib/python3.11/site-packages/seaborn/_oldcore.py:1119: FutureWarning: use_inf_as_na option is deprecated and will be removed in a future version. Convert inf values to NaN before operating instead.\n",
      "  with pd.option_context('mode.use_inf_as_na', True):\n",
      "/Users/tillboehringer/anaconda3/envs/dataproject_UZH/lib/python3.11/site-packages/seaborn/_oldcore.py:1119: FutureWarning: use_inf_as_na option is deprecated and will be removed in a future version. Convert inf values to NaN before operating instead.\n",
      "  with pd.option_context('mode.use_inf_as_na', True):\n",
      "/Users/tillboehringer/anaconda3/envs/dataproject_UZH/lib/python3.11/site-packages/seaborn/_oldcore.py:1119: FutureWarning: use_inf_as_na option is deprecated and will be removed in a future version. Convert inf values to NaN before operating instead.\n",
      "  with pd.option_context('mode.use_inf_as_na', True):\n",
      "/Users/tillboehringer/anaconda3/envs/dataproject_UZH/lib/python3.11/site-packages/seaborn/_oldcore.py:1119: FutureWarning: use_inf_as_na option is deprecated and will be removed in a future version. Convert inf values to NaN before operating instead.\n",
      "  with pd.option_context('mode.use_inf_as_na', True):\n",
      "/Users/tillboehringer/anaconda3/envs/dataproject_UZH/lib/python3.11/site-packages/seaborn/_oldcore.py:1119: FutureWarning: use_inf_as_na option is deprecated and will be removed in a future version. Convert inf values to NaN before operating instead.\n",
      "  with pd.option_context('mode.use_inf_as_na', True):\n",
      "/Users/tillboehringer/anaconda3/envs/dataproject_UZH/lib/python3.11/site-packages/seaborn/_oldcore.py:1119: FutureWarning: use_inf_as_na option is deprecated and will be removed in a future version. Convert inf values to NaN before operating instead.\n",
      "  with pd.option_context('mode.use_inf_as_na', True):\n",
      "/Users/tillboehringer/anaconda3/envs/dataproject_UZH/lib/python3.11/site-packages/seaborn/_oldcore.py:1119: FutureWarning: use_inf_as_na option is deprecated and will be removed in a future version. Convert inf values to NaN before operating instead.\n",
      "  with pd.option_context('mode.use_inf_as_na', True):\n",
      "/Users/tillboehringer/anaconda3/envs/dataproject_UZH/lib/python3.11/site-packages/seaborn/_oldcore.py:1119: FutureWarning: use_inf_as_na option is deprecated and will be removed in a future version. Convert inf values to NaN before operating instead.\n",
      "  with pd.option_context('mode.use_inf_as_na', True):\n",
      "/Users/tillboehringer/anaconda3/envs/dataproject_UZH/lib/python3.11/site-packages/seaborn/_oldcore.py:1119: FutureWarning: use_inf_as_na option is deprecated and will be removed in a future version. Convert inf values to NaN before operating instead.\n",
      "  with pd.option_context('mode.use_inf_as_na', True):\n",
      "/Users/tillboehringer/anaconda3/envs/dataproject_UZH/lib/python3.11/site-packages/seaborn/_oldcore.py:1119: FutureWarning: use_inf_as_na option is deprecated and will be removed in a future version. Convert inf values to NaN before operating instead.\n",
      "  with pd.option_context('mode.use_inf_as_na', True):\n",
      "/Users/tillboehringer/anaconda3/envs/dataproject_UZH/lib/python3.11/site-packages/seaborn/_oldcore.py:1119: FutureWarning: use_inf_as_na option is deprecated and will be removed in a future version. Convert inf values to NaN before operating instead.\n",
      "  with pd.option_context('mode.use_inf_as_na', True):\n",
      "/Users/tillboehringer/anaconda3/envs/dataproject_UZH/lib/python3.11/site-packages/seaborn/_oldcore.py:1119: FutureWarning: use_inf_as_na option is deprecated and will be removed in a future version. Convert inf values to NaN before operating instead.\n",
      "  with pd.option_context('mode.use_inf_as_na', True):\n",
      "/Users/tillboehringer/anaconda3/envs/dataproject_UZH/lib/python3.11/site-packages/seaborn/_oldcore.py:1119: FutureWarning: use_inf_as_na option is deprecated and will be removed in a future version. Convert inf values to NaN before operating instead.\n",
      "  with pd.option_context('mode.use_inf_as_na', True):\n",
      "/Users/tillboehringer/anaconda3/envs/dataproject_UZH/lib/python3.11/site-packages/seaborn/_oldcore.py:1119: FutureWarning: use_inf_as_na option is deprecated and will be removed in a future version. Convert inf values to NaN before operating instead.\n",
      "  with pd.option_context('mode.use_inf_as_na', True):\n",
      "/Users/tillboehringer/anaconda3/envs/dataproject_UZH/lib/python3.11/site-packages/seaborn/_oldcore.py:1119: FutureWarning: use_inf_as_na option is deprecated and will be removed in a future version. Convert inf values to NaN before operating instead.\n",
      "  with pd.option_context('mode.use_inf_as_na', True):\n",
      "/Users/tillboehringer/anaconda3/envs/dataproject_UZH/lib/python3.11/site-packages/seaborn/_oldcore.py:1119: FutureWarning: use_inf_as_na option is deprecated and will be removed in a future version. Convert inf values to NaN before operating instead.\n",
      "  with pd.option_context('mode.use_inf_as_na', True):\n",
      "/Users/tillboehringer/anaconda3/envs/dataproject_UZH/lib/python3.11/site-packages/seaborn/_oldcore.py:1119: FutureWarning: use_inf_as_na option is deprecated and will be removed in a future version. Convert inf values to NaN before operating instead.\n",
      "  with pd.option_context('mode.use_inf_as_na', True):\n",
      "/Users/tillboehringer/anaconda3/envs/dataproject_UZH/lib/python3.11/site-packages/seaborn/_oldcore.py:1119: FutureWarning: use_inf_as_na option is deprecated and will be removed in a future version. Convert inf values to NaN before operating instead.\n",
      "  with pd.option_context('mode.use_inf_as_na', True):\n",
      "/Users/tillboehringer/anaconda3/envs/dataproject_UZH/lib/python3.11/site-packages/seaborn/_oldcore.py:1119: FutureWarning: use_inf_as_na option is deprecated and will be removed in a future version. Convert inf values to NaN before operating instead.\n",
      "  with pd.option_context('mode.use_inf_as_na', True):\n",
      "/Users/tillboehringer/anaconda3/envs/dataproject_UZH/lib/python3.11/site-packages/seaborn/_oldcore.py:1119: FutureWarning: use_inf_as_na option is deprecated and will be removed in a future version. Convert inf values to NaN before operating instead.\n",
      "  with pd.option_context('mode.use_inf_as_na', True):\n",
      "/Users/tillboehringer/anaconda3/envs/dataproject_UZH/lib/python3.11/site-packages/seaborn/_oldcore.py:1119: FutureWarning: use_inf_as_na option is deprecated and will be removed in a future version. Convert inf values to NaN before operating instead.\n",
      "  with pd.option_context('mode.use_inf_as_na', True):\n",
      "/Users/tillboehringer/anaconda3/envs/dataproject_UZH/lib/python3.11/site-packages/seaborn/_oldcore.py:1119: FutureWarning: use_inf_as_na option is deprecated and will be removed in a future version. Convert inf values to NaN before operating instead.\n",
      "  with pd.option_context('mode.use_inf_as_na', True):\n",
      "/Users/tillboehringer/anaconda3/envs/dataproject_UZH/lib/python3.11/site-packages/seaborn/_oldcore.py:1119: FutureWarning: use_inf_as_na option is deprecated and will be removed in a future version. Convert inf values to NaN before operating instead.\n",
      "  with pd.option_context('mode.use_inf_as_na', True):\n",
      "/Users/tillboehringer/anaconda3/envs/dataproject_UZH/lib/python3.11/site-packages/seaborn/_oldcore.py:1119: FutureWarning: use_inf_as_na option is deprecated and will be removed in a future version. Convert inf values to NaN before operating instead.\n",
      "  with pd.option_context('mode.use_inf_as_na', True):\n",
      "/Users/tillboehringer/anaconda3/envs/dataproject_UZH/lib/python3.11/site-packages/seaborn/_oldcore.py:1119: FutureWarning: use_inf_as_na option is deprecated and will be removed in a future version. Convert inf values to NaN before operating instead.\n",
      "  with pd.option_context('mode.use_inf_as_na', True):\n",
      "/Users/tillboehringer/anaconda3/envs/dataproject_UZH/lib/python3.11/site-packages/seaborn/_oldcore.py:1119: FutureWarning: use_inf_as_na option is deprecated and will be removed in a future version. Convert inf values to NaN before operating instead.\n",
      "  with pd.option_context('mode.use_inf_as_na', True):\n",
      "/Users/tillboehringer/anaconda3/envs/dataproject_UZH/lib/python3.11/site-packages/seaborn/_oldcore.py:1119: FutureWarning: use_inf_as_na option is deprecated and will be removed in a future version. Convert inf values to NaN before operating instead.\n",
      "  with pd.option_context('mode.use_inf_as_na', True):\n",
      "/Users/tillboehringer/anaconda3/envs/dataproject_UZH/lib/python3.11/site-packages/seaborn/_oldcore.py:1119: FutureWarning: use_inf_as_na option is deprecated and will be removed in a future version. Convert inf values to NaN before operating instead.\n",
      "  with pd.option_context('mode.use_inf_as_na', True):\n",
      "/Users/tillboehringer/anaconda3/envs/dataproject_UZH/lib/python3.11/site-packages/seaborn/_oldcore.py:1119: FutureWarning: use_inf_as_na option is deprecated and will be removed in a future version. Convert inf values to NaN before operating instead.\n",
      "  with pd.option_context('mode.use_inf_as_na', True):\n",
      "/Users/tillboehringer/anaconda3/envs/dataproject_UZH/lib/python3.11/site-packages/seaborn/_oldcore.py:1119: FutureWarning: use_inf_as_na option is deprecated and will be removed in a future version. Convert inf values to NaN before operating instead.\n",
      "  with pd.option_context('mode.use_inf_as_na', True):\n",
      "/Users/tillboehringer/anaconda3/envs/dataproject_UZH/lib/python3.11/site-packages/seaborn/_oldcore.py:1119: FutureWarning: use_inf_as_na option is deprecated and will be removed in a future version. Convert inf values to NaN before operating instead.\n",
      "  with pd.option_context('mode.use_inf_as_na', True):\n",
      "/Users/tillboehringer/anaconda3/envs/dataproject_UZH/lib/python3.11/site-packages/seaborn/_oldcore.py:1119: FutureWarning: use_inf_as_na option is deprecated and will be removed in a future version. Convert inf values to NaN before operating instead.\n",
      "  with pd.option_context('mode.use_inf_as_na', True):\n",
      "/Users/tillboehringer/anaconda3/envs/dataproject_UZH/lib/python3.11/site-packages/seaborn/_oldcore.py:1119: FutureWarning: use_inf_as_na option is deprecated and will be removed in a future version. Convert inf values to NaN before operating instead.\n",
      "  with pd.option_context('mode.use_inf_as_na', True):\n",
      "/Users/tillboehringer/anaconda3/envs/dataproject_UZH/lib/python3.11/site-packages/seaborn/_oldcore.py:1119: FutureWarning: use_inf_as_na option is deprecated and will be removed in a future version. Convert inf values to NaN before operating instead.\n",
      "  with pd.option_context('mode.use_inf_as_na', True):\n",
      "/Users/tillboehringer/anaconda3/envs/dataproject_UZH/lib/python3.11/site-packages/seaborn/_oldcore.py:1119: FutureWarning: use_inf_as_na option is deprecated and will be removed in a future version. Convert inf values to NaN before operating instead.\n",
      "  with pd.option_context('mode.use_inf_as_na', True):\n",
      "/Users/tillboehringer/anaconda3/envs/dataproject_UZH/lib/python3.11/site-packages/seaborn/_oldcore.py:1119: FutureWarning: use_inf_as_na option is deprecated and will be removed in a future version. Convert inf values to NaN before operating instead.\n",
      "  with pd.option_context('mode.use_inf_as_na', True):\n",
      "/Users/tillboehringer/anaconda3/envs/dataproject_UZH/lib/python3.11/site-packages/seaborn/_oldcore.py:1119: FutureWarning: use_inf_as_na option is deprecated and will be removed in a future version. Convert inf values to NaN before operating instead.\n",
      "  with pd.option_context('mode.use_inf_as_na', True):\n",
      "/Users/tillboehringer/anaconda3/envs/dataproject_UZH/lib/python3.11/site-packages/seaborn/_oldcore.py:1119: FutureWarning: use_inf_as_na option is deprecated and will be removed in a future version. Convert inf values to NaN before operating instead.\n",
      "  with pd.option_context('mode.use_inf_as_na', True):\n",
      "/Users/tillboehringer/anaconda3/envs/dataproject_UZH/lib/python3.11/site-packages/seaborn/_oldcore.py:1119: FutureWarning: use_inf_as_na option is deprecated and will be removed in a future version. Convert inf values to NaN before operating instead.\n",
      "  with pd.option_context('mode.use_inf_as_na', True):\n",
      "/Users/tillboehringer/anaconda3/envs/dataproject_UZH/lib/python3.11/site-packages/seaborn/_oldcore.py:1119: FutureWarning: use_inf_as_na option is deprecated and will be removed in a future version. Convert inf values to NaN before operating instead.\n",
      "  with pd.option_context('mode.use_inf_as_na', True):\n",
      "/Users/tillboehringer/anaconda3/envs/dataproject_UZH/lib/python3.11/site-packages/seaborn/_oldcore.py:1119: FutureWarning: use_inf_as_na option is deprecated and will be removed in a future version. Convert inf values to NaN before operating instead.\n",
      "  with pd.option_context('mode.use_inf_as_na', True):\n",
      "/Users/tillboehringer/anaconda3/envs/dataproject_UZH/lib/python3.11/site-packages/seaborn/_oldcore.py:1119: FutureWarning: use_inf_as_na option is deprecated and will be removed in a future version. Convert inf values to NaN before operating instead.\n",
      "  with pd.option_context('mode.use_inf_as_na', True):\n",
      "/Users/tillboehringer/anaconda3/envs/dataproject_UZH/lib/python3.11/site-packages/seaborn/_oldcore.py:1119: FutureWarning: use_inf_as_na option is deprecated and will be removed in a future version. Convert inf values to NaN before operating instead.\n",
      "  with pd.option_context('mode.use_inf_as_na', True):\n",
      "/Users/tillboehringer/anaconda3/envs/dataproject_UZH/lib/python3.11/site-packages/seaborn/_oldcore.py:1119: FutureWarning: use_inf_as_na option is deprecated and will be removed in a future version. Convert inf values to NaN before operating instead.\n",
      "  with pd.option_context('mode.use_inf_as_na', True):\n",
      "/Users/tillboehringer/anaconda3/envs/dataproject_UZH/lib/python3.11/site-packages/seaborn/_oldcore.py:1119: FutureWarning: use_inf_as_na option is deprecated and will be removed in a future version. Convert inf values to NaN before operating instead.\n",
      "  with pd.option_context('mode.use_inf_as_na', True):\n",
      "/Users/tillboehringer/anaconda3/envs/dataproject_UZH/lib/python3.11/site-packages/seaborn/_oldcore.py:1119: FutureWarning: use_inf_as_na option is deprecated and will be removed in a future version. Convert inf values to NaN before operating instead.\n",
      "  with pd.option_context('mode.use_inf_as_na', True):\n",
      "/Users/tillboehringer/anaconda3/envs/dataproject_UZH/lib/python3.11/site-packages/seaborn/_oldcore.py:1119: FutureWarning: use_inf_as_na option is deprecated and will be removed in a future version. Convert inf values to NaN before operating instead.\n",
      "  with pd.option_context('mode.use_inf_as_na', True):\n",
      "/Users/tillboehringer/anaconda3/envs/dataproject_UZH/lib/python3.11/site-packages/seaborn/_oldcore.py:1119: FutureWarning: use_inf_as_na option is deprecated and will be removed in a future version. Convert inf values to NaN before operating instead.\n",
      "  with pd.option_context('mode.use_inf_as_na', True):\n",
      "/Users/tillboehringer/anaconda3/envs/dataproject_UZH/lib/python3.11/site-packages/seaborn/_oldcore.py:1119: FutureWarning: use_inf_as_na option is deprecated and will be removed in a future version. Convert inf values to NaN before operating instead.\n",
      "  with pd.option_context('mode.use_inf_as_na', True):\n",
      "/Users/tillboehringer/anaconda3/envs/dataproject_UZH/lib/python3.11/site-packages/seaborn/_oldcore.py:1119: FutureWarning: use_inf_as_na option is deprecated and will be removed in a future version. Convert inf values to NaN before operating instead.\n",
      "  with pd.option_context('mode.use_inf_as_na', True):\n",
      "/Users/tillboehringer/anaconda3/envs/dataproject_UZH/lib/python3.11/site-packages/seaborn/_oldcore.py:1119: FutureWarning: use_inf_as_na option is deprecated and will be removed in a future version. Convert inf values to NaN before operating instead.\n",
      "  with pd.option_context('mode.use_inf_as_na', True):\n",
      "/Users/tillboehringer/anaconda3/envs/dataproject_UZH/lib/python3.11/site-packages/seaborn/_oldcore.py:1119: FutureWarning: use_inf_as_na option is deprecated and will be removed in a future version. Convert inf values to NaN before operating instead.\n",
      "  with pd.option_context('mode.use_inf_as_na', True):\n",
      "/Users/tillboehringer/anaconda3/envs/dataproject_UZH/lib/python3.11/site-packages/seaborn/_oldcore.py:1119: FutureWarning: use_inf_as_na option is deprecated and will be removed in a future version. Convert inf values to NaN before operating instead.\n",
      "  with pd.option_context('mode.use_inf_as_na', True):\n",
      "/Users/tillboehringer/anaconda3/envs/dataproject_UZH/lib/python3.11/site-packages/seaborn/_oldcore.py:1119: FutureWarning: use_inf_as_na option is deprecated and will be removed in a future version. Convert inf values to NaN before operating instead.\n",
      "  with pd.option_context('mode.use_inf_as_na', True):\n",
      "/Users/tillboehringer/anaconda3/envs/dataproject_UZH/lib/python3.11/site-packages/seaborn/_oldcore.py:1119: FutureWarning: use_inf_as_na option is deprecated and will be removed in a future version. Convert inf values to NaN before operating instead.\n",
      "  with pd.option_context('mode.use_inf_as_na', True):\n",
      "/Users/tillboehringer/anaconda3/envs/dataproject_UZH/lib/python3.11/site-packages/seaborn/_oldcore.py:1119: FutureWarning: use_inf_as_na option is deprecated and will be removed in a future version. Convert inf values to NaN before operating instead.\n",
      "  with pd.option_context('mode.use_inf_as_na', True):\n",
      "/Users/tillboehringer/anaconda3/envs/dataproject_UZH/lib/python3.11/site-packages/seaborn/_oldcore.py:1119: FutureWarning: use_inf_as_na option is deprecated and will be removed in a future version. Convert inf values to NaN before operating instead.\n",
      "  with pd.option_context('mode.use_inf_as_na', True):\n",
      "/Users/tillboehringer/anaconda3/envs/dataproject_UZH/lib/python3.11/site-packages/seaborn/_oldcore.py:1119: FutureWarning: use_inf_as_na option is deprecated and will be removed in a future version. Convert inf values to NaN before operating instead.\n",
      "  with pd.option_context('mode.use_inf_as_na', True):\n",
      "/Users/tillboehringer/anaconda3/envs/dataproject_UZH/lib/python3.11/site-packages/seaborn/_oldcore.py:1119: FutureWarning: use_inf_as_na option is deprecated and will be removed in a future version. Convert inf values to NaN before operating instead.\n",
      "  with pd.option_context('mode.use_inf_as_na', True):\n",
      "/Users/tillboehringer/anaconda3/envs/dataproject_UZH/lib/python3.11/site-packages/seaborn/_oldcore.py:1119: FutureWarning: use_inf_as_na option is deprecated and will be removed in a future version. Convert inf values to NaN before operating instead.\n",
      "  with pd.option_context('mode.use_inf_as_na', True):\n",
      "/Users/tillboehringer/anaconda3/envs/dataproject_UZH/lib/python3.11/site-packages/seaborn/_oldcore.py:1119: FutureWarning: use_inf_as_na option is deprecated and will be removed in a future version. Convert inf values to NaN before operating instead.\n",
      "  with pd.option_context('mode.use_inf_as_na', True):\n",
      "/Users/tillboehringer/anaconda3/envs/dataproject_UZH/lib/python3.11/site-packages/seaborn/_oldcore.py:1119: FutureWarning: use_inf_as_na option is deprecated and will be removed in a future version. Convert inf values to NaN before operating instead.\n",
      "  with pd.option_context('mode.use_inf_as_na', True):\n",
      "/Users/tillboehringer/anaconda3/envs/dataproject_UZH/lib/python3.11/site-packages/seaborn/_oldcore.py:1119: FutureWarning: use_inf_as_na option is deprecated and will be removed in a future version. Convert inf values to NaN before operating instead.\n",
      "  with pd.option_context('mode.use_inf_as_na', True):\n",
      "/Users/tillboehringer/anaconda3/envs/dataproject_UZH/lib/python3.11/site-packages/seaborn/_oldcore.py:1119: FutureWarning: use_inf_as_na option is deprecated and will be removed in a future version. Convert inf values to NaN before operating instead.\n",
      "  with pd.option_context('mode.use_inf_as_na', True):\n",
      "/Users/tillboehringer/anaconda3/envs/dataproject_UZH/lib/python3.11/site-packages/seaborn/_oldcore.py:1119: FutureWarning: use_inf_as_na option is deprecated and will be removed in a future version. Convert inf values to NaN before operating instead.\n",
      "  with pd.option_context('mode.use_inf_as_na', True):\n",
      "/Users/tillboehringer/anaconda3/envs/dataproject_UZH/lib/python3.11/site-packages/seaborn/_oldcore.py:1119: FutureWarning: use_inf_as_na option is deprecated and will be removed in a future version. Convert inf values to NaN before operating instead.\n",
      "  with pd.option_context('mode.use_inf_as_na', True):\n",
      "/Users/tillboehringer/anaconda3/envs/dataproject_UZH/lib/python3.11/site-packages/seaborn/_oldcore.py:1119: FutureWarning: use_inf_as_na option is deprecated and will be removed in a future version. Convert inf values to NaN before operating instead.\n",
      "  with pd.option_context('mode.use_inf_as_na', True):\n",
      "/Users/tillboehringer/anaconda3/envs/dataproject_UZH/lib/python3.11/site-packages/seaborn/_oldcore.py:1119: FutureWarning: use_inf_as_na option is deprecated and will be removed in a future version. Convert inf values to NaN before operating instead.\n",
      "  with pd.option_context('mode.use_inf_as_na', True):\n",
      "/Users/tillboehringer/anaconda3/envs/dataproject_UZH/lib/python3.11/site-packages/seaborn/_oldcore.py:1119: FutureWarning: use_inf_as_na option is deprecated and will be removed in a future version. Convert inf values to NaN before operating instead.\n",
      "  with pd.option_context('mode.use_inf_as_na', True):\n",
      "/Users/tillboehringer/anaconda3/envs/dataproject_UZH/lib/python3.11/site-packages/seaborn/_oldcore.py:1119: FutureWarning: use_inf_as_na option is deprecated and will be removed in a future version. Convert inf values to NaN before operating instead.\n",
      "  with pd.option_context('mode.use_inf_as_na', True):\n",
      "/Users/tillboehringer/anaconda3/envs/dataproject_UZH/lib/python3.11/site-packages/seaborn/_oldcore.py:1119: FutureWarning: use_inf_as_na option is deprecated and will be removed in a future version. Convert inf values to NaN before operating instead.\n",
      "  with pd.option_context('mode.use_inf_as_na', True):\n",
      "/Users/tillboehringer/anaconda3/envs/dataproject_UZH/lib/python3.11/site-packages/seaborn/_oldcore.py:1119: FutureWarning: use_inf_as_na option is deprecated and will be removed in a future version. Convert inf values to NaN before operating instead.\n",
      "  with pd.option_context('mode.use_inf_as_na', True):\n",
      "/Users/tillboehringer/anaconda3/envs/dataproject_UZH/lib/python3.11/site-packages/seaborn/_oldcore.py:1119: FutureWarning: use_inf_as_na option is deprecated and will be removed in a future version. Convert inf values to NaN before operating instead.\n",
      "  with pd.option_context('mode.use_inf_as_na', True):\n",
      "/Users/tillboehringer/anaconda3/envs/dataproject_UZH/lib/python3.11/site-packages/seaborn/_oldcore.py:1119: FutureWarning: use_inf_as_na option is deprecated and will be removed in a future version. Convert inf values to NaN before operating instead.\n",
      "  with pd.option_context('mode.use_inf_as_na', True):\n",
      "/Users/tillboehringer/anaconda3/envs/dataproject_UZH/lib/python3.11/site-packages/seaborn/_oldcore.py:1119: FutureWarning: use_inf_as_na option is deprecated and will be removed in a future version. Convert inf values to NaN before operating instead.\n",
      "  with pd.option_context('mode.use_inf_as_na', True):\n",
      "/Users/tillboehringer/anaconda3/envs/dataproject_UZH/lib/python3.11/site-packages/seaborn/_oldcore.py:1119: FutureWarning: use_inf_as_na option is deprecated and will be removed in a future version. Convert inf values to NaN before operating instead.\n",
      "  with pd.option_context('mode.use_inf_as_na', True):\n",
      "/Users/tillboehringer/anaconda3/envs/dataproject_UZH/lib/python3.11/site-packages/seaborn/_oldcore.py:1119: FutureWarning: use_inf_as_na option is deprecated and will be removed in a future version. Convert inf values to NaN before operating instead.\n",
      "  with pd.option_context('mode.use_inf_as_na', True):\n",
      "/Users/tillboehringer/anaconda3/envs/dataproject_UZH/lib/python3.11/site-packages/seaborn/_oldcore.py:1119: FutureWarning: use_inf_as_na option is deprecated and will be removed in a future version. Convert inf values to NaN before operating instead.\n",
      "  with pd.option_context('mode.use_inf_as_na', True):\n",
      "/Users/tillboehringer/anaconda3/envs/dataproject_UZH/lib/python3.11/site-packages/seaborn/_oldcore.py:1119: FutureWarning: use_inf_as_na option is deprecated and will be removed in a future version. Convert inf values to NaN before operating instead.\n",
      "  with pd.option_context('mode.use_inf_as_na', True):\n",
      "/Users/tillboehringer/anaconda3/envs/dataproject_UZH/lib/python3.11/site-packages/seaborn/_oldcore.py:1119: FutureWarning: use_inf_as_na option is deprecated and will be removed in a future version. Convert inf values to NaN before operating instead.\n",
      "  with pd.option_context('mode.use_inf_as_na', True):\n",
      "/Users/tillboehringer/anaconda3/envs/dataproject_UZH/lib/python3.11/site-packages/seaborn/_oldcore.py:1119: FutureWarning: use_inf_as_na option is deprecated and will be removed in a future version. Convert inf values to NaN before operating instead.\n",
      "  with pd.option_context('mode.use_inf_as_na', True):\n",
      "/Users/tillboehringer/anaconda3/envs/dataproject_UZH/lib/python3.11/site-packages/seaborn/_oldcore.py:1119: FutureWarning: use_inf_as_na option is deprecated and will be removed in a future version. Convert inf values to NaN before operating instead.\n",
      "  with pd.option_context('mode.use_inf_as_na', True):\n",
      "/Users/tillboehringer/anaconda3/envs/dataproject_UZH/lib/python3.11/site-packages/seaborn/_oldcore.py:1119: FutureWarning: use_inf_as_na option is deprecated and will be removed in a future version. Convert inf values to NaN before operating instead.\n",
      "  with pd.option_context('mode.use_inf_as_na', True):\n",
      "/Users/tillboehringer/anaconda3/envs/dataproject_UZH/lib/python3.11/site-packages/seaborn/_oldcore.py:1119: FutureWarning: use_inf_as_na option is deprecated and will be removed in a future version. Convert inf values to NaN before operating instead.\n",
      "  with pd.option_context('mode.use_inf_as_na', True):\n",
      "/Users/tillboehringer/anaconda3/envs/dataproject_UZH/lib/python3.11/site-packages/seaborn/_oldcore.py:1119: FutureWarning: use_inf_as_na option is deprecated and will be removed in a future version. Convert inf values to NaN before operating instead.\n",
      "  with pd.option_context('mode.use_inf_as_na', True):\n",
      "/Users/tillboehringer/anaconda3/envs/dataproject_UZH/lib/python3.11/site-packages/seaborn/_oldcore.py:1119: FutureWarning: use_inf_as_na option is deprecated and will be removed in a future version. Convert inf values to NaN before operating instead.\n",
      "  with pd.option_context('mode.use_inf_as_na', True):\n",
      "/Users/tillboehringer/anaconda3/envs/dataproject_UZH/lib/python3.11/site-packages/seaborn/_oldcore.py:1119: FutureWarning: use_inf_as_na option is deprecated and will be removed in a future version. Convert inf values to NaN before operating instead.\n",
      "  with pd.option_context('mode.use_inf_as_na', True):\n",
      "/Users/tillboehringer/anaconda3/envs/dataproject_UZH/lib/python3.11/site-packages/seaborn/_oldcore.py:1119: FutureWarning: use_inf_as_na option is deprecated and will be removed in a future version. Convert inf values to NaN before operating instead.\n",
      "  with pd.option_context('mode.use_inf_as_na', True):\n",
      "/Users/tillboehringer/anaconda3/envs/dataproject_UZH/lib/python3.11/site-packages/seaborn/_oldcore.py:1119: FutureWarning: use_inf_as_na option is deprecated and will be removed in a future version. Convert inf values to NaN before operating instead.\n",
      "  with pd.option_context('mode.use_inf_as_na', True):\n",
      "/Users/tillboehringer/anaconda3/envs/dataproject_UZH/lib/python3.11/site-packages/seaborn/_oldcore.py:1119: FutureWarning: use_inf_as_na option is deprecated and will be removed in a future version. Convert inf values to NaN before operating instead.\n",
      "  with pd.option_context('mode.use_inf_as_na', True):\n",
      "/Users/tillboehringer/anaconda3/envs/dataproject_UZH/lib/python3.11/site-packages/seaborn/_oldcore.py:1119: FutureWarning: use_inf_as_na option is deprecated and will be removed in a future version. Convert inf values to NaN before operating instead.\n",
      "  with pd.option_context('mode.use_inf_as_na', True):\n",
      "/Users/tillboehringer/anaconda3/envs/dataproject_UZH/lib/python3.11/site-packages/seaborn/_oldcore.py:1119: FutureWarning: use_inf_as_na option is deprecated and will be removed in a future version. Convert inf values to NaN before operating instead.\n",
      "  with pd.option_context('mode.use_inf_as_na', True):\n",
      "/Users/tillboehringer/anaconda3/envs/dataproject_UZH/lib/python3.11/site-packages/seaborn/_oldcore.py:1119: FutureWarning: use_inf_as_na option is deprecated and will be removed in a future version. Convert inf values to NaN before operating instead.\n",
      "  with pd.option_context('mode.use_inf_as_na', True):\n",
      "/Users/tillboehringer/anaconda3/envs/dataproject_UZH/lib/python3.11/site-packages/seaborn/_oldcore.py:1119: FutureWarning: use_inf_as_na option is deprecated and will be removed in a future version. Convert inf values to NaN before operating instead.\n",
      "  with pd.option_context('mode.use_inf_as_na', True):\n",
      "/Users/tillboehringer/anaconda3/envs/dataproject_UZH/lib/python3.11/site-packages/seaborn/_oldcore.py:1119: FutureWarning: use_inf_as_na option is deprecated and will be removed in a future version. Convert inf values to NaN before operating instead.\n",
      "  with pd.option_context('mode.use_inf_as_na', True):\n",
      "/Users/tillboehringer/anaconda3/envs/dataproject_UZH/lib/python3.11/site-packages/seaborn/_oldcore.py:1119: FutureWarning: use_inf_as_na option is deprecated and will be removed in a future version. Convert inf values to NaN before operating instead.\n",
      "  with pd.option_context('mode.use_inf_as_na', True):\n",
      "/Users/tillboehringer/anaconda3/envs/dataproject_UZH/lib/python3.11/site-packages/seaborn/_oldcore.py:1119: FutureWarning: use_inf_as_na option is deprecated and will be removed in a future version. Convert inf values to NaN before operating instead.\n",
      "  with pd.option_context('mode.use_inf_as_na', True):\n",
      "/Users/tillboehringer/anaconda3/envs/dataproject_UZH/lib/python3.11/site-packages/seaborn/_oldcore.py:1119: FutureWarning: use_inf_as_na option is deprecated and will be removed in a future version. Convert inf values to NaN before operating instead.\n",
      "  with pd.option_context('mode.use_inf_as_na', True):\n",
      "/Users/tillboehringer/anaconda3/envs/dataproject_UZH/lib/python3.11/site-packages/seaborn/_oldcore.py:1119: FutureWarning: use_inf_as_na option is deprecated and will be removed in a future version. Convert inf values to NaN before operating instead.\n",
      "  with pd.option_context('mode.use_inf_as_na', True):\n",
      "/Users/tillboehringer/anaconda3/envs/dataproject_UZH/lib/python3.11/site-packages/seaborn/_oldcore.py:1119: FutureWarning: use_inf_as_na option is deprecated and will be removed in a future version. Convert inf values to NaN before operating instead.\n",
      "  with pd.option_context('mode.use_inf_as_na', True):\n",
      "/Users/tillboehringer/anaconda3/envs/dataproject_UZH/lib/python3.11/site-packages/seaborn/_oldcore.py:1119: FutureWarning: use_inf_as_na option is deprecated and will be removed in a future version. Convert inf values to NaN before operating instead.\n",
      "  with pd.option_context('mode.use_inf_as_na', True):\n",
      "/Users/tillboehringer/anaconda3/envs/dataproject_UZH/lib/python3.11/site-packages/seaborn/_oldcore.py:1119: FutureWarning: use_inf_as_na option is deprecated and will be removed in a future version. Convert inf values to NaN before operating instead.\n",
      "  with pd.option_context('mode.use_inf_as_na', True):\n",
      "/Users/tillboehringer/anaconda3/envs/dataproject_UZH/lib/python3.11/site-packages/seaborn/_oldcore.py:1119: FutureWarning: use_inf_as_na option is deprecated and will be removed in a future version. Convert inf values to NaN before operating instead.\n",
      "  with pd.option_context('mode.use_inf_as_na', True):\n",
      "/Users/tillboehringer/anaconda3/envs/dataproject_UZH/lib/python3.11/site-packages/seaborn/_oldcore.py:1119: FutureWarning: use_inf_as_na option is deprecated and will be removed in a future version. Convert inf values to NaN before operating instead.\n",
      "  with pd.option_context('mode.use_inf_as_na', True):\n",
      "/Users/tillboehringer/anaconda3/envs/dataproject_UZH/lib/python3.11/site-packages/seaborn/_oldcore.py:1119: FutureWarning: use_inf_as_na option is deprecated and will be removed in a future version. Convert inf values to NaN before operating instead.\n",
      "  with pd.option_context('mode.use_inf_as_na', True):\n",
      "/Users/tillboehringer/anaconda3/envs/dataproject_UZH/lib/python3.11/site-packages/seaborn/_oldcore.py:1119: FutureWarning: use_inf_as_na option is deprecated and will be removed in a future version. Convert inf values to NaN before operating instead.\n",
      "  with pd.option_context('mode.use_inf_as_na', True):\n",
      "/Users/tillboehringer/anaconda3/envs/dataproject_UZH/lib/python3.11/site-packages/seaborn/_oldcore.py:1119: FutureWarning: use_inf_as_na option is deprecated and will be removed in a future version. Convert inf values to NaN before operating instead.\n",
      "  with pd.option_context('mode.use_inf_as_na', True):\n",
      "/Users/tillboehringer/anaconda3/envs/dataproject_UZH/lib/python3.11/site-packages/seaborn/_oldcore.py:1119: FutureWarning: use_inf_as_na option is deprecated and will be removed in a future version. Convert inf values to NaN before operating instead.\n",
      "  with pd.option_context('mode.use_inf_as_na', True):\n",
      "/Users/tillboehringer/anaconda3/envs/dataproject_UZH/lib/python3.11/site-packages/seaborn/_oldcore.py:1119: FutureWarning: use_inf_as_na option is deprecated and will be removed in a future version. Convert inf values to NaN before operating instead.\n",
      "  with pd.option_context('mode.use_inf_as_na', True):\n",
      "/Users/tillboehringer/anaconda3/envs/dataproject_UZH/lib/python3.11/site-packages/seaborn/_oldcore.py:1119: FutureWarning: use_inf_as_na option is deprecated and will be removed in a future version. Convert inf values to NaN before operating instead.\n",
      "  with pd.option_context('mode.use_inf_as_na', True):\n",
      "/Users/tillboehringer/anaconda3/envs/dataproject_UZH/lib/python3.11/site-packages/seaborn/_oldcore.py:1119: FutureWarning: use_inf_as_na option is deprecated and will be removed in a future version. Convert inf values to NaN before operating instead.\n",
      "  with pd.option_context('mode.use_inf_as_na', True):\n",
      "/Users/tillboehringer/anaconda3/envs/dataproject_UZH/lib/python3.11/site-packages/seaborn/_oldcore.py:1119: FutureWarning: use_inf_as_na option is deprecated and will be removed in a future version. Convert inf values to NaN before operating instead.\n",
      "  with pd.option_context('mode.use_inf_as_na', True):\n",
      "/Users/tillboehringer/anaconda3/envs/dataproject_UZH/lib/python3.11/site-packages/seaborn/_oldcore.py:1119: FutureWarning: use_inf_as_na option is deprecated and will be removed in a future version. Convert inf values to NaN before operating instead.\n",
      "  with pd.option_context('mode.use_inf_as_na', True):\n",
      "/Users/tillboehringer/anaconda3/envs/dataproject_UZH/lib/python3.11/site-packages/seaborn/_oldcore.py:1119: FutureWarning: use_inf_as_na option is deprecated and will be removed in a future version. Convert inf values to NaN before operating instead.\n",
      "  with pd.option_context('mode.use_inf_as_na', True):\n",
      "/Users/tillboehringer/anaconda3/envs/dataproject_UZH/lib/python3.11/site-packages/seaborn/_oldcore.py:1119: FutureWarning: use_inf_as_na option is deprecated and will be removed in a future version. Convert inf values to NaN before operating instead.\n",
      "  with pd.option_context('mode.use_inf_as_na', True):\n",
      "/Users/tillboehringer/anaconda3/envs/dataproject_UZH/lib/python3.11/site-packages/seaborn/_oldcore.py:1119: FutureWarning: use_inf_as_na option is deprecated and will be removed in a future version. Convert inf values to NaN before operating instead.\n",
      "  with pd.option_context('mode.use_inf_as_na', True):\n",
      "/Users/tillboehringer/anaconda3/envs/dataproject_UZH/lib/python3.11/site-packages/seaborn/_oldcore.py:1119: FutureWarning: use_inf_as_na option is deprecated and will be removed in a future version. Convert inf values to NaN before operating instead.\n",
      "  with pd.option_context('mode.use_inf_as_na', True):\n",
      "/Users/tillboehringer/anaconda3/envs/dataproject_UZH/lib/python3.11/site-packages/seaborn/_oldcore.py:1119: FutureWarning: use_inf_as_na option is deprecated and will be removed in a future version. Convert inf values to NaN before operating instead.\n",
      "  with pd.option_context('mode.use_inf_as_na', True):\n",
      "/Users/tillboehringer/anaconda3/envs/dataproject_UZH/lib/python3.11/site-packages/seaborn/_oldcore.py:1119: FutureWarning: use_inf_as_na option is deprecated and will be removed in a future version. Convert inf values to NaN before operating instead.\n",
      "  with pd.option_context('mode.use_inf_as_na', True):\n",
      "/Users/tillboehringer/anaconda3/envs/dataproject_UZH/lib/python3.11/site-packages/seaborn/_oldcore.py:1119: FutureWarning: use_inf_as_na option is deprecated and will be removed in a future version. Convert inf values to NaN before operating instead.\n",
      "  with pd.option_context('mode.use_inf_as_na', True):\n",
      "/Users/tillboehringer/anaconda3/envs/dataproject_UZH/lib/python3.11/site-packages/seaborn/_oldcore.py:1119: FutureWarning: use_inf_as_na option is deprecated and will be removed in a future version. Convert inf values to NaN before operating instead.\n",
      "  with pd.option_context('mode.use_inf_as_na', True):\n",
      "/Users/tillboehringer/anaconda3/envs/dataproject_UZH/lib/python3.11/site-packages/seaborn/_oldcore.py:1119: FutureWarning: use_inf_as_na option is deprecated and will be removed in a future version. Convert inf values to NaN before operating instead.\n",
      "  with pd.option_context('mode.use_inf_as_na', True):\n",
      "/Users/tillboehringer/anaconda3/envs/dataproject_UZH/lib/python3.11/site-packages/seaborn/_oldcore.py:1119: FutureWarning: use_inf_as_na option is deprecated and will be removed in a future version. Convert inf values to NaN before operating instead.\n",
      "  with pd.option_context('mode.use_inf_as_na', True):\n",
      "/Users/tillboehringer/anaconda3/envs/dataproject_UZH/lib/python3.11/site-packages/seaborn/_oldcore.py:1119: FutureWarning: use_inf_as_na option is deprecated and will be removed in a future version. Convert inf values to NaN before operating instead.\n",
      "  with pd.option_context('mode.use_inf_as_na', True):\n",
      "/Users/tillboehringer/anaconda3/envs/dataproject_UZH/lib/python3.11/site-packages/seaborn/_oldcore.py:1119: FutureWarning: use_inf_as_na option is deprecated and will be removed in a future version. Convert inf values to NaN before operating instead.\n",
      "  with pd.option_context('mode.use_inf_as_na', True):\n",
      "/Users/tillboehringer/anaconda3/envs/dataproject_UZH/lib/python3.11/site-packages/seaborn/_oldcore.py:1119: FutureWarning: use_inf_as_na option is deprecated and will be removed in a future version. Convert inf values to NaN before operating instead.\n",
      "  with pd.option_context('mode.use_inf_as_na', True):\n",
      "/Users/tillboehringer/anaconda3/envs/dataproject_UZH/lib/python3.11/site-packages/seaborn/_oldcore.py:1119: FutureWarning: use_inf_as_na option is deprecated and will be removed in a future version. Convert inf values to NaN before operating instead.\n",
      "  with pd.option_context('mode.use_inf_as_na', True):\n",
      "/Users/tillboehringer/anaconda3/envs/dataproject_UZH/lib/python3.11/site-packages/seaborn/_oldcore.py:1119: FutureWarning: use_inf_as_na option is deprecated and will be removed in a future version. Convert inf values to NaN before operating instead.\n",
      "  with pd.option_context('mode.use_inf_as_na', True):\n",
      "/Users/tillboehringer/anaconda3/envs/dataproject_UZH/lib/python3.11/site-packages/seaborn/_oldcore.py:1119: FutureWarning: use_inf_as_na option is deprecated and will be removed in a future version. Convert inf values to NaN before operating instead.\n",
      "  with pd.option_context('mode.use_inf_as_na', True):\n",
      "/Users/tillboehringer/anaconda3/envs/dataproject_UZH/lib/python3.11/site-packages/seaborn/_oldcore.py:1119: FutureWarning: use_inf_as_na option is deprecated and will be removed in a future version. Convert inf values to NaN before operating instead.\n",
      "  with pd.option_context('mode.use_inf_as_na', True):\n",
      "/Users/tillboehringer/anaconda3/envs/dataproject_UZH/lib/python3.11/site-packages/seaborn/_oldcore.py:1119: FutureWarning: use_inf_as_na option is deprecated and will be removed in a future version. Convert inf values to NaN before operating instead.\n",
      "  with pd.option_context('mode.use_inf_as_na', True):\n",
      "/Users/tillboehringer/anaconda3/envs/dataproject_UZH/lib/python3.11/site-packages/seaborn/_oldcore.py:1119: FutureWarning: use_inf_as_na option is deprecated and will be removed in a future version. Convert inf values to NaN before operating instead.\n",
      "  with pd.option_context('mode.use_inf_as_na', True):\n",
      "/Users/tillboehringer/anaconda3/envs/dataproject_UZH/lib/python3.11/site-packages/seaborn/_oldcore.py:1119: FutureWarning: use_inf_as_na option is deprecated and will be removed in a future version. Convert inf values to NaN before operating instead.\n",
      "  with pd.option_context('mode.use_inf_as_na', True):\n",
      "/Users/tillboehringer/anaconda3/envs/dataproject_UZH/lib/python3.11/site-packages/seaborn/_oldcore.py:1119: FutureWarning: use_inf_as_na option is deprecated and will be removed in a future version. Convert inf values to NaN before operating instead.\n",
      "  with pd.option_context('mode.use_inf_as_na', True):\n",
      "/Users/tillboehringer/anaconda3/envs/dataproject_UZH/lib/python3.11/site-packages/seaborn/_oldcore.py:1119: FutureWarning: use_inf_as_na option is deprecated and will be removed in a future version. Convert inf values to NaN before operating instead.\n",
      "  with pd.option_context('mode.use_inf_as_na', True):\n",
      "/Users/tillboehringer/anaconda3/envs/dataproject_UZH/lib/python3.11/site-packages/seaborn/_oldcore.py:1119: FutureWarning: use_inf_as_na option is deprecated and will be removed in a future version. Convert inf values to NaN before operating instead.\n",
      "  with pd.option_context('mode.use_inf_as_na', True):\n",
      "/Users/tillboehringer/anaconda3/envs/dataproject_UZH/lib/python3.11/site-packages/seaborn/_oldcore.py:1119: FutureWarning: use_inf_as_na option is deprecated and will be removed in a future version. Convert inf values to NaN before operating instead.\n",
      "  with pd.option_context('mode.use_inf_as_na', True):\n",
      "/Users/tillboehringer/anaconda3/envs/dataproject_UZH/lib/python3.11/site-packages/seaborn/_oldcore.py:1119: FutureWarning: use_inf_as_na option is deprecated and will be removed in a future version. Convert inf values to NaN before operating instead.\n",
      "  with pd.option_context('mode.use_inf_as_na', True):\n",
      "/Users/tillboehringer/anaconda3/envs/dataproject_UZH/lib/python3.11/site-packages/seaborn/_oldcore.py:1119: FutureWarning: use_inf_as_na option is deprecated and will be removed in a future version. Convert inf values to NaN before operating instead.\n",
      "  with pd.option_context('mode.use_inf_as_na', True):\n",
      "/Users/tillboehringer/anaconda3/envs/dataproject_UZH/lib/python3.11/site-packages/seaborn/_oldcore.py:1119: FutureWarning: use_inf_as_na option is deprecated and will be removed in a future version. Convert inf values to NaN before operating instead.\n",
      "  with pd.option_context('mode.use_inf_as_na', True):\n",
      "/Users/tillboehringer/anaconda3/envs/dataproject_UZH/lib/python3.11/site-packages/seaborn/_oldcore.py:1119: FutureWarning: use_inf_as_na option is deprecated and will be removed in a future version. Convert inf values to NaN before operating instead.\n",
      "  with pd.option_context('mode.use_inf_as_na', True):\n",
      "/Users/tillboehringer/anaconda3/envs/dataproject_UZH/lib/python3.11/site-packages/seaborn/_oldcore.py:1119: FutureWarning: use_inf_as_na option is deprecated and will be removed in a future version. Convert inf values to NaN before operating instead.\n",
      "  with pd.option_context('mode.use_inf_as_na', True):\n",
      "/Users/tillboehringer/anaconda3/envs/dataproject_UZH/lib/python3.11/site-packages/seaborn/_oldcore.py:1119: FutureWarning: use_inf_as_na option is deprecated and will be removed in a future version. Convert inf values to NaN before operating instead.\n",
      "  with pd.option_context('mode.use_inf_as_na', True):\n",
      "/Users/tillboehringer/anaconda3/envs/dataproject_UZH/lib/python3.11/site-packages/seaborn/_oldcore.py:1119: FutureWarning: use_inf_as_na option is deprecated and will be removed in a future version. Convert inf values to NaN before operating instead.\n",
      "  with pd.option_context('mode.use_inf_as_na', True):\n",
      "/Users/tillboehringer/anaconda3/envs/dataproject_UZH/lib/python3.11/site-packages/seaborn/_oldcore.py:1119: FutureWarning: use_inf_as_na option is deprecated and will be removed in a future version. Convert inf values to NaN before operating instead.\n",
      "  with pd.option_context('mode.use_inf_as_na', True):\n",
      "/Users/tillboehringer/anaconda3/envs/dataproject_UZH/lib/python3.11/site-packages/seaborn/_oldcore.py:1119: FutureWarning: use_inf_as_na option is deprecated and will be removed in a future version. Convert inf values to NaN before operating instead.\n",
      "  with pd.option_context('mode.use_inf_as_na', True):\n",
      "/Users/tillboehringer/anaconda3/envs/dataproject_UZH/lib/python3.11/site-packages/seaborn/_oldcore.py:1119: FutureWarning: use_inf_as_na option is deprecated and will be removed in a future version. Convert inf values to NaN before operating instead.\n",
      "  with pd.option_context('mode.use_inf_as_na', True):\n",
      "/Users/tillboehringer/anaconda3/envs/dataproject_UZH/lib/python3.11/site-packages/seaborn/_oldcore.py:1119: FutureWarning: use_inf_as_na option is deprecated and will be removed in a future version. Convert inf values to NaN before operating instead.\n",
      "  with pd.option_context('mode.use_inf_as_na', True):\n",
      "/Users/tillboehringer/anaconda3/envs/dataproject_UZH/lib/python3.11/site-packages/seaborn/_oldcore.py:1119: FutureWarning: use_inf_as_na option is deprecated and will be removed in a future version. Convert inf values to NaN before operating instead.\n",
      "  with pd.option_context('mode.use_inf_as_na', True):\n",
      "/Users/tillboehringer/anaconda3/envs/dataproject_UZH/lib/python3.11/site-packages/seaborn/_oldcore.py:1119: FutureWarning: use_inf_as_na option is deprecated and will be removed in a future version. Convert inf values to NaN before operating instead.\n",
      "  with pd.option_context('mode.use_inf_as_na', True):\n",
      "/Users/tillboehringer/anaconda3/envs/dataproject_UZH/lib/python3.11/site-packages/seaborn/_oldcore.py:1119: FutureWarning: use_inf_as_na option is deprecated and will be removed in a future version. Convert inf values to NaN before operating instead.\n",
      "  with pd.option_context('mode.use_inf_as_na', True):\n",
      "/Users/tillboehringer/anaconda3/envs/dataproject_UZH/lib/python3.11/site-packages/seaborn/_oldcore.py:1119: FutureWarning: use_inf_as_na option is deprecated and will be removed in a future version. Convert inf values to NaN before operating instead.\n",
      "  with pd.option_context('mode.use_inf_as_na', True):\n",
      "/Users/tillboehringer/anaconda3/envs/dataproject_UZH/lib/python3.11/site-packages/seaborn/_oldcore.py:1119: FutureWarning: use_inf_as_na option is deprecated and will be removed in a future version. Convert inf values to NaN before operating instead.\n",
      "  with pd.option_context('mode.use_inf_as_na', True):\n",
      "/Users/tillboehringer/anaconda3/envs/dataproject_UZH/lib/python3.11/site-packages/seaborn/_oldcore.py:1119: FutureWarning: use_inf_as_na option is deprecated and will be removed in a future version. Convert inf values to NaN before operating instead.\n",
      "  with pd.option_context('mode.use_inf_as_na', True):\n",
      "/Users/tillboehringer/anaconda3/envs/dataproject_UZH/lib/python3.11/site-packages/seaborn/_oldcore.py:1119: FutureWarning: use_inf_as_na option is deprecated and will be removed in a future version. Convert inf values to NaN before operating instead.\n",
      "  with pd.option_context('mode.use_inf_as_na', True):\n",
      "/Users/tillboehringer/anaconda3/envs/dataproject_UZH/lib/python3.11/site-packages/seaborn/_oldcore.py:1119: FutureWarning: use_inf_as_na option is deprecated and will be removed in a future version. Convert inf values to NaN before operating instead.\n",
      "  with pd.option_context('mode.use_inf_as_na', True):\n",
      "/Users/tillboehringer/anaconda3/envs/dataproject_UZH/lib/python3.11/site-packages/seaborn/_oldcore.py:1119: FutureWarning: use_inf_as_na option is deprecated and will be removed in a future version. Convert inf values to NaN before operating instead.\n",
      "  with pd.option_context('mode.use_inf_as_na', True):\n",
      "/Users/tillboehringer/anaconda3/envs/dataproject_UZH/lib/python3.11/site-packages/seaborn/_oldcore.py:1119: FutureWarning: use_inf_as_na option is deprecated and will be removed in a future version. Convert inf values to NaN before operating instead.\n",
      "  with pd.option_context('mode.use_inf_as_na', True):\n",
      "/Users/tillboehringer/anaconda3/envs/dataproject_UZH/lib/python3.11/site-packages/seaborn/_oldcore.py:1119: FutureWarning: use_inf_as_na option is deprecated and will be removed in a future version. Convert inf values to NaN before operating instead.\n",
      "  with pd.option_context('mode.use_inf_as_na', True):\n",
      "/Users/tillboehringer/anaconda3/envs/dataproject_UZH/lib/python3.11/site-packages/seaborn/_oldcore.py:1119: FutureWarning: use_inf_as_na option is deprecated and will be removed in a future version. Convert inf values to NaN before operating instead.\n",
      "  with pd.option_context('mode.use_inf_as_na', True):\n",
      "/Users/tillboehringer/anaconda3/envs/dataproject_UZH/lib/python3.11/site-packages/seaborn/_oldcore.py:1119: FutureWarning: use_inf_as_na option is deprecated and will be removed in a future version. Convert inf values to NaN before operating instead.\n",
      "  with pd.option_context('mode.use_inf_as_na', True):\n",
      "/Users/tillboehringer/anaconda3/envs/dataproject_UZH/lib/python3.11/site-packages/seaborn/_oldcore.py:1119: FutureWarning: use_inf_as_na option is deprecated and will be removed in a future version. Convert inf values to NaN before operating instead.\n",
      "  with pd.option_context('mode.use_inf_as_na', True):\n",
      "/Users/tillboehringer/anaconda3/envs/dataproject_UZH/lib/python3.11/site-packages/seaborn/_oldcore.py:1119: FutureWarning: use_inf_as_na option is deprecated and will be removed in a future version. Convert inf values to NaN before operating instead.\n",
      "  with pd.option_context('mode.use_inf_as_na', True):\n",
      "/Users/tillboehringer/anaconda3/envs/dataproject_UZH/lib/python3.11/site-packages/seaborn/_oldcore.py:1119: FutureWarning: use_inf_as_na option is deprecated and will be removed in a future version. Convert inf values to NaN before operating instead.\n",
      "  with pd.option_context('mode.use_inf_as_na', True):\n",
      "/Users/tillboehringer/anaconda3/envs/dataproject_UZH/lib/python3.11/site-packages/seaborn/_oldcore.py:1119: FutureWarning: use_inf_as_na option is deprecated and will be removed in a future version. Convert inf values to NaN before operating instead.\n",
      "  with pd.option_context('mode.use_inf_as_na', True):\n",
      "/Users/tillboehringer/anaconda3/envs/dataproject_UZH/lib/python3.11/site-packages/seaborn/_oldcore.py:1119: FutureWarning: use_inf_as_na option is deprecated and will be removed in a future version. Convert inf values to NaN before operating instead.\n",
      "  with pd.option_context('mode.use_inf_as_na', True):\n",
      "/Users/tillboehringer/anaconda3/envs/dataproject_UZH/lib/python3.11/site-packages/seaborn/_oldcore.py:1119: FutureWarning: use_inf_as_na option is deprecated and will be removed in a future version. Convert inf values to NaN before operating instead.\n",
      "  with pd.option_context('mode.use_inf_as_na', True):\n",
      "/Users/tillboehringer/anaconda3/envs/dataproject_UZH/lib/python3.11/site-packages/seaborn/_oldcore.py:1119: FutureWarning: use_inf_as_na option is deprecated and will be removed in a future version. Convert inf values to NaN before operating instead.\n",
      "  with pd.option_context('mode.use_inf_as_na', True):\n",
      "/Users/tillboehringer/anaconda3/envs/dataproject_UZH/lib/python3.11/site-packages/seaborn/_oldcore.py:1119: FutureWarning: use_inf_as_na option is deprecated and will be removed in a future version. Convert inf values to NaN before operating instead.\n",
      "  with pd.option_context('mode.use_inf_as_na', True):\n",
      "/Users/tillboehringer/anaconda3/envs/dataproject_UZH/lib/python3.11/site-packages/seaborn/_oldcore.py:1119: FutureWarning: use_inf_as_na option is deprecated and will be removed in a future version. Convert inf values to NaN before operating instead.\n",
      "  with pd.option_context('mode.use_inf_as_na', True):\n",
      "/Users/tillboehringer/anaconda3/envs/dataproject_UZH/lib/python3.11/site-packages/seaborn/_oldcore.py:1119: FutureWarning: use_inf_as_na option is deprecated and will be removed in a future version. Convert inf values to NaN before operating instead.\n",
      "  with pd.option_context('mode.use_inf_as_na', True):\n",
      "/Users/tillboehringer/anaconda3/envs/dataproject_UZH/lib/python3.11/site-packages/seaborn/_oldcore.py:1119: FutureWarning: use_inf_as_na option is deprecated and will be removed in a future version. Convert inf values to NaN before operating instead.\n",
      "  with pd.option_context('mode.use_inf_as_na', True):\n",
      "/Users/tillboehringer/anaconda3/envs/dataproject_UZH/lib/python3.11/site-packages/seaborn/_oldcore.py:1119: FutureWarning: use_inf_as_na option is deprecated and will be removed in a future version. Convert inf values to NaN before operating instead.\n",
      "  with pd.option_context('mode.use_inf_as_na', True):\n",
      "/Users/tillboehringer/anaconda3/envs/dataproject_UZH/lib/python3.11/site-packages/seaborn/_oldcore.py:1119: FutureWarning: use_inf_as_na option is deprecated and will be removed in a future version. Convert inf values to NaN before operating instead.\n",
      "  with pd.option_context('mode.use_inf_as_na', True):\n",
      "/Users/tillboehringer/anaconda3/envs/dataproject_UZH/lib/python3.11/site-packages/seaborn/_oldcore.py:1119: FutureWarning: use_inf_as_na option is deprecated and will be removed in a future version. Convert inf values to NaN before operating instead.\n",
      "  with pd.option_context('mode.use_inf_as_na', True):\n",
      "/Users/tillboehringer/anaconda3/envs/dataproject_UZH/lib/python3.11/site-packages/seaborn/_oldcore.py:1119: FutureWarning: use_inf_as_na option is deprecated and will be removed in a future version. Convert inf values to NaN before operating instead.\n",
      "  with pd.option_context('mode.use_inf_as_na', True):\n",
      "/Users/tillboehringer/anaconda3/envs/dataproject_UZH/lib/python3.11/site-packages/seaborn/_oldcore.py:1119: FutureWarning: use_inf_as_na option is deprecated and will be removed in a future version. Convert inf values to NaN before operating instead.\n",
      "  with pd.option_context('mode.use_inf_as_na', True):\n",
      "/Users/tillboehringer/anaconda3/envs/dataproject_UZH/lib/python3.11/site-packages/seaborn/_oldcore.py:1119: FutureWarning: use_inf_as_na option is deprecated and will be removed in a future version. Convert inf values to NaN before operating instead.\n",
      "  with pd.option_context('mode.use_inf_as_na', True):\n",
      "/Users/tillboehringer/anaconda3/envs/dataproject_UZH/lib/python3.11/site-packages/seaborn/_oldcore.py:1119: FutureWarning: use_inf_as_na option is deprecated and will be removed in a future version. Convert inf values to NaN before operating instead.\n",
      "  with pd.option_context('mode.use_inf_as_na', True):\n",
      "/Users/tillboehringer/anaconda3/envs/dataproject_UZH/lib/python3.11/site-packages/seaborn/_oldcore.py:1119: FutureWarning: use_inf_as_na option is deprecated and will be removed in a future version. Convert inf values to NaN before operating instead.\n",
      "  with pd.option_context('mode.use_inf_as_na', True):\n",
      "/Users/tillboehringer/anaconda3/envs/dataproject_UZH/lib/python3.11/site-packages/seaborn/_oldcore.py:1119: FutureWarning: use_inf_as_na option is deprecated and will be removed in a future version. Convert inf values to NaN before operating instead.\n",
      "  with pd.option_context('mode.use_inf_as_na', True):\n",
      "/Users/tillboehringer/anaconda3/envs/dataproject_UZH/lib/python3.11/site-packages/seaborn/_oldcore.py:1119: FutureWarning: use_inf_as_na option is deprecated and will be removed in a future version. Convert inf values to NaN before operating instead.\n",
      "  with pd.option_context('mode.use_inf_as_na', True):\n",
      "/Users/tillboehringer/anaconda3/envs/dataproject_UZH/lib/python3.11/site-packages/seaborn/_oldcore.py:1119: FutureWarning: use_inf_as_na option is deprecated and will be removed in a future version. Convert inf values to NaN before operating instead.\n",
      "  with pd.option_context('mode.use_inf_as_na', True):\n",
      "/Users/tillboehringer/anaconda3/envs/dataproject_UZH/lib/python3.11/site-packages/seaborn/_oldcore.py:1119: FutureWarning: use_inf_as_na option is deprecated and will be removed in a future version. Convert inf values to NaN before operating instead.\n",
      "  with pd.option_context('mode.use_inf_as_na', True):\n",
      "/Users/tillboehringer/anaconda3/envs/dataproject_UZH/lib/python3.11/site-packages/seaborn/_oldcore.py:1119: FutureWarning: use_inf_as_na option is deprecated and will be removed in a future version. Convert inf values to NaN before operating instead.\n",
      "  with pd.option_context('mode.use_inf_as_na', True):\n",
      "/Users/tillboehringer/anaconda3/envs/dataproject_UZH/lib/python3.11/site-packages/seaborn/_oldcore.py:1119: FutureWarning: use_inf_as_na option is deprecated and will be removed in a future version. Convert inf values to NaN before operating instead.\n",
      "  with pd.option_context('mode.use_inf_as_na', True):\n",
      "/Users/tillboehringer/anaconda3/envs/dataproject_UZH/lib/python3.11/site-packages/seaborn/_oldcore.py:1119: FutureWarning: use_inf_as_na option is deprecated and will be removed in a future version. Convert inf values to NaN before operating instead.\n",
      "  with pd.option_context('mode.use_inf_as_na', True):\n",
      "/Users/tillboehringer/anaconda3/envs/dataproject_UZH/lib/python3.11/site-packages/seaborn/_oldcore.py:1119: FutureWarning: use_inf_as_na option is deprecated and will be removed in a future version. Convert inf values to NaN before operating instead.\n",
      "  with pd.option_context('mode.use_inf_as_na', True):\n",
      "/Users/tillboehringer/anaconda3/envs/dataproject_UZH/lib/python3.11/site-packages/seaborn/_oldcore.py:1119: FutureWarning: use_inf_as_na option is deprecated and will be removed in a future version. Convert inf values to NaN before operating instead.\n",
      "  with pd.option_context('mode.use_inf_as_na', True):\n",
      "/Users/tillboehringer/anaconda3/envs/dataproject_UZH/lib/python3.11/site-packages/seaborn/_oldcore.py:1119: FutureWarning: use_inf_as_na option is deprecated and will be removed in a future version. Convert inf values to NaN before operating instead.\n",
      "  with pd.option_context('mode.use_inf_as_na', True):\n",
      "/Users/tillboehringer/anaconda3/envs/dataproject_UZH/lib/python3.11/site-packages/seaborn/_oldcore.py:1119: FutureWarning: use_inf_as_na option is deprecated and will be removed in a future version. Convert inf values to NaN before operating instead.\n",
      "  with pd.option_context('mode.use_inf_as_na', True):\n",
      "/Users/tillboehringer/anaconda3/envs/dataproject_UZH/lib/python3.11/site-packages/seaborn/_oldcore.py:1119: FutureWarning: use_inf_as_na option is deprecated and will be removed in a future version. Convert inf values to NaN before operating instead.\n",
      "  with pd.option_context('mode.use_inf_as_na', True):\n",
      "/Users/tillboehringer/anaconda3/envs/dataproject_UZH/lib/python3.11/site-packages/seaborn/_oldcore.py:1119: FutureWarning: use_inf_as_na option is deprecated and will be removed in a future version. Convert inf values to NaN before operating instead.\n",
      "  with pd.option_context('mode.use_inf_as_na', True):\n",
      "/Users/tillboehringer/anaconda3/envs/dataproject_UZH/lib/python3.11/site-packages/seaborn/_oldcore.py:1119: FutureWarning: use_inf_as_na option is deprecated and will be removed in a future version. Convert inf values to NaN before operating instead.\n",
      "  with pd.option_context('mode.use_inf_as_na', True):\n",
      "/Users/tillboehringer/anaconda3/envs/dataproject_UZH/lib/python3.11/site-packages/seaborn/_oldcore.py:1119: FutureWarning: use_inf_as_na option is deprecated and will be removed in a future version. Convert inf values to NaN before operating instead.\n",
      "  with pd.option_context('mode.use_inf_as_na', True):\n",
      "/Users/tillboehringer/anaconda3/envs/dataproject_UZH/lib/python3.11/site-packages/seaborn/_oldcore.py:1119: FutureWarning: use_inf_as_na option is deprecated and will be removed in a future version. Convert inf values to NaN before operating instead.\n",
      "  with pd.option_context('mode.use_inf_as_na', True):\n",
      "/Users/tillboehringer/anaconda3/envs/dataproject_UZH/lib/python3.11/site-packages/seaborn/_oldcore.py:1119: FutureWarning: use_inf_as_na option is deprecated and will be removed in a future version. Convert inf values to NaN before operating instead.\n",
      "  with pd.option_context('mode.use_inf_as_na', True):\n",
      "/Users/tillboehringer/anaconda3/envs/dataproject_UZH/lib/python3.11/site-packages/seaborn/_oldcore.py:1119: FutureWarning: use_inf_as_na option is deprecated and will be removed in a future version. Convert inf values to NaN before operating instead.\n",
      "  with pd.option_context('mode.use_inf_as_na', True):\n",
      "/Users/tillboehringer/anaconda3/envs/dataproject_UZH/lib/python3.11/site-packages/seaborn/_oldcore.py:1119: FutureWarning: use_inf_as_na option is deprecated and will be removed in a future version. Convert inf values to NaN before operating instead.\n",
      "  with pd.option_context('mode.use_inf_as_na', True):\n",
      "/Users/tillboehringer/anaconda3/envs/dataproject_UZH/lib/python3.11/site-packages/seaborn/_oldcore.py:1119: FutureWarning: use_inf_as_na option is deprecated and will be removed in a future version. Convert inf values to NaN before operating instead.\n",
      "  with pd.option_context('mode.use_inf_as_na', True):\n",
      "/Users/tillboehringer/anaconda3/envs/dataproject_UZH/lib/python3.11/site-packages/seaborn/_oldcore.py:1119: FutureWarning: use_inf_as_na option is deprecated and will be removed in a future version. Convert inf values to NaN before operating instead.\n",
      "  with pd.option_context('mode.use_inf_as_na', True):\n",
      "/Users/tillboehringer/anaconda3/envs/dataproject_UZH/lib/python3.11/site-packages/seaborn/_oldcore.py:1119: FutureWarning: use_inf_as_na option is deprecated and will be removed in a future version. Convert inf values to NaN before operating instead.\n",
      "  with pd.option_context('mode.use_inf_as_na', True):\n",
      "/Users/tillboehringer/anaconda3/envs/dataproject_UZH/lib/python3.11/site-packages/seaborn/_oldcore.py:1119: FutureWarning: use_inf_as_na option is deprecated and will be removed in a future version. Convert inf values to NaN before operating instead.\n",
      "  with pd.option_context('mode.use_inf_as_na', True):\n",
      "/Users/tillboehringer/anaconda3/envs/dataproject_UZH/lib/python3.11/site-packages/seaborn/_oldcore.py:1119: FutureWarning: use_inf_as_na option is deprecated and will be removed in a future version. Convert inf values to NaN before operating instead.\n",
      "  with pd.option_context('mode.use_inf_as_na', True):\n",
      "/Users/tillboehringer/anaconda3/envs/dataproject_UZH/lib/python3.11/site-packages/seaborn/_oldcore.py:1119: FutureWarning: use_inf_as_na option is deprecated and will be removed in a future version. Convert inf values to NaN before operating instead.\n",
      "  with pd.option_context('mode.use_inf_as_na', True):\n",
      "/Users/tillboehringer/anaconda3/envs/dataproject_UZH/lib/python3.11/site-packages/seaborn/_oldcore.py:1119: FutureWarning: use_inf_as_na option is deprecated and will be removed in a future version. Convert inf values to NaN before operating instead.\n",
      "  with pd.option_context('mode.use_inf_as_na', True):\n",
      "/Users/tillboehringer/anaconda3/envs/dataproject_UZH/lib/python3.11/site-packages/seaborn/_oldcore.py:1119: FutureWarning: use_inf_as_na option is deprecated and will be removed in a future version. Convert inf values to NaN before operating instead.\n",
      "  with pd.option_context('mode.use_inf_as_na', True):\n",
      "/Users/tillboehringer/anaconda3/envs/dataproject_UZH/lib/python3.11/site-packages/seaborn/_oldcore.py:1119: FutureWarning: use_inf_as_na option is deprecated and will be removed in a future version. Convert inf values to NaN before operating instead.\n",
      "  with pd.option_context('mode.use_inf_as_na', True):\n",
      "/Users/tillboehringer/anaconda3/envs/dataproject_UZH/lib/python3.11/site-packages/seaborn/_oldcore.py:1119: FutureWarning: use_inf_as_na option is deprecated and will be removed in a future version. Convert inf values to NaN before operating instead.\n",
      "  with pd.option_context('mode.use_inf_as_na', True):\n",
      "/Users/tillboehringer/anaconda3/envs/dataproject_UZH/lib/python3.11/site-packages/seaborn/_oldcore.py:1119: FutureWarning: use_inf_as_na option is deprecated and will be removed in a future version. Convert inf values to NaN before operating instead.\n",
      "  with pd.option_context('mode.use_inf_as_na', True):\n",
      "/Users/tillboehringer/anaconda3/envs/dataproject_UZH/lib/python3.11/site-packages/seaborn/_oldcore.py:1119: FutureWarning: use_inf_as_na option is deprecated and will be removed in a future version. Convert inf values to NaN before operating instead.\n",
      "  with pd.option_context('mode.use_inf_as_na', True):\n",
      "/Users/tillboehringer/anaconda3/envs/dataproject_UZH/lib/python3.11/site-packages/seaborn/_oldcore.py:1119: FutureWarning: use_inf_as_na option is deprecated and will be removed in a future version. Convert inf values to NaN before operating instead.\n",
      "  with pd.option_context('mode.use_inf_as_na', True):\n",
      "/Users/tillboehringer/anaconda3/envs/dataproject_UZH/lib/python3.11/site-packages/seaborn/_oldcore.py:1119: FutureWarning: use_inf_as_na option is deprecated and will be removed in a future version. Convert inf values to NaN before operating instead.\n",
      "  with pd.option_context('mode.use_inf_as_na', True):\n",
      "/Users/tillboehringer/anaconda3/envs/dataproject_UZH/lib/python3.11/site-packages/seaborn/_oldcore.py:1119: FutureWarning: use_inf_as_na option is deprecated and will be removed in a future version. Convert inf values to NaN before operating instead.\n",
      "  with pd.option_context('mode.use_inf_as_na', True):\n",
      "/Users/tillboehringer/anaconda3/envs/dataproject_UZH/lib/python3.11/site-packages/seaborn/_oldcore.py:1119: FutureWarning: use_inf_as_na option is deprecated and will be removed in a future version. Convert inf values to NaN before operating instead.\n",
      "  with pd.option_context('mode.use_inf_as_na', True):\n",
      "/Users/tillboehringer/anaconda3/envs/dataproject_UZH/lib/python3.11/site-packages/seaborn/_oldcore.py:1119: FutureWarning: use_inf_as_na option is deprecated and will be removed in a future version. Convert inf values to NaN before operating instead.\n",
      "  with pd.option_context('mode.use_inf_as_na', True):\n",
      "/Users/tillboehringer/anaconda3/envs/dataproject_UZH/lib/python3.11/site-packages/seaborn/_oldcore.py:1119: FutureWarning: use_inf_as_na option is deprecated and will be removed in a future version. Convert inf values to NaN before operating instead.\n",
      "  with pd.option_context('mode.use_inf_as_na', True):\n",
      "/Users/tillboehringer/anaconda3/envs/dataproject_UZH/lib/python3.11/site-packages/seaborn/_oldcore.py:1119: FutureWarning: use_inf_as_na option is deprecated and will be removed in a future version. Convert inf values to NaN before operating instead.\n",
      "  with pd.option_context('mode.use_inf_as_na', True):\n",
      "/Users/tillboehringer/anaconda3/envs/dataproject_UZH/lib/python3.11/site-packages/seaborn/_oldcore.py:1119: FutureWarning: use_inf_as_na option is deprecated and will be removed in a future version. Convert inf values to NaN before operating instead.\n",
      "  with pd.option_context('mode.use_inf_as_na', True):\n",
      "/Users/tillboehringer/anaconda3/envs/dataproject_UZH/lib/python3.11/site-packages/seaborn/_oldcore.py:1119: FutureWarning: use_inf_as_na option is deprecated and will be removed in a future version. Convert inf values to NaN before operating instead.\n",
      "  with pd.option_context('mode.use_inf_as_na', True):\n",
      "/Users/tillboehringer/anaconda3/envs/dataproject_UZH/lib/python3.11/site-packages/seaborn/_oldcore.py:1119: FutureWarning: use_inf_as_na option is deprecated and will be removed in a future version. Convert inf values to NaN before operating instead.\n",
      "  with pd.option_context('mode.use_inf_as_na', True):\n",
      "/Users/tillboehringer/anaconda3/envs/dataproject_UZH/lib/python3.11/site-packages/seaborn/_oldcore.py:1119: FutureWarning: use_inf_as_na option is deprecated and will be removed in a future version. Convert inf values to NaN before operating instead.\n",
      "  with pd.option_context('mode.use_inf_as_na', True):\n",
      "/Users/tillboehringer/anaconda3/envs/dataproject_UZH/lib/python3.11/site-packages/seaborn/_oldcore.py:1119: FutureWarning: use_inf_as_na option is deprecated and will be removed in a future version. Convert inf values to NaN before operating instead.\n",
      "  with pd.option_context('mode.use_inf_as_na', True):\n",
      "/Users/tillboehringer/anaconda3/envs/dataproject_UZH/lib/python3.11/site-packages/seaborn/_oldcore.py:1119: FutureWarning: use_inf_as_na option is deprecated and will be removed in a future version. Convert inf values to NaN before operating instead.\n",
      "  with pd.option_context('mode.use_inf_as_na', True):\n",
      "/Users/tillboehringer/anaconda3/envs/dataproject_UZH/lib/python3.11/site-packages/seaborn/_oldcore.py:1119: FutureWarning: use_inf_as_na option is deprecated and will be removed in a future version. Convert inf values to NaN before operating instead.\n",
      "  with pd.option_context('mode.use_inf_as_na', True):\n",
      "/Users/tillboehringer/anaconda3/envs/dataproject_UZH/lib/python3.11/site-packages/seaborn/_oldcore.py:1119: FutureWarning: use_inf_as_na option is deprecated and will be removed in a future version. Convert inf values to NaN before operating instead.\n",
      "  with pd.option_context('mode.use_inf_as_na', True):\n",
      "/Users/tillboehringer/anaconda3/envs/dataproject_UZH/lib/python3.11/site-packages/seaborn/_oldcore.py:1119: FutureWarning: use_inf_as_na option is deprecated and will be removed in a future version. Convert inf values to NaN before operating instead.\n",
      "  with pd.option_context('mode.use_inf_as_na', True):\n",
      "/Users/tillboehringer/anaconda3/envs/dataproject_UZH/lib/python3.11/site-packages/seaborn/_oldcore.py:1119: FutureWarning: use_inf_as_na option is deprecated and will be removed in a future version. Convert inf values to NaN before operating instead.\n",
      "  with pd.option_context('mode.use_inf_as_na', True):\n",
      "/Users/tillboehringer/anaconda3/envs/dataproject_UZH/lib/python3.11/site-packages/seaborn/_oldcore.py:1119: FutureWarning: use_inf_as_na option is deprecated and will be removed in a future version. Convert inf values to NaN before operating instead.\n",
      "  with pd.option_context('mode.use_inf_as_na', True):\n",
      "/Users/tillboehringer/anaconda3/envs/dataproject_UZH/lib/python3.11/site-packages/seaborn/_oldcore.py:1119: FutureWarning: use_inf_as_na option is deprecated and will be removed in a future version. Convert inf values to NaN before operating instead.\n",
      "  with pd.option_context('mode.use_inf_as_na', True):\n",
      "/Users/tillboehringer/anaconda3/envs/dataproject_UZH/lib/python3.11/site-packages/seaborn/_oldcore.py:1119: FutureWarning: use_inf_as_na option is deprecated and will be removed in a future version. Convert inf values to NaN before operating instead.\n",
      "  with pd.option_context('mode.use_inf_as_na', True):\n",
      "/Users/tillboehringer/anaconda3/envs/dataproject_UZH/lib/python3.11/site-packages/seaborn/_oldcore.py:1119: FutureWarning: use_inf_as_na option is deprecated and will be removed in a future version. Convert inf values to NaN before operating instead.\n",
      "  with pd.option_context('mode.use_inf_as_na', True):\n",
      "/Users/tillboehringer/anaconda3/envs/dataproject_UZH/lib/python3.11/site-packages/seaborn/_oldcore.py:1119: FutureWarning: use_inf_as_na option is deprecated and will be removed in a future version. Convert inf values to NaN before operating instead.\n",
      "  with pd.option_context('mode.use_inf_as_na', True):\n",
      "/Users/tillboehringer/anaconda3/envs/dataproject_UZH/lib/python3.11/site-packages/seaborn/_oldcore.py:1119: FutureWarning: use_inf_as_na option is deprecated and will be removed in a future version. Convert inf values to NaN before operating instead.\n",
      "  with pd.option_context('mode.use_inf_as_na', True):\n",
      "/Users/tillboehringer/anaconda3/envs/dataproject_UZH/lib/python3.11/site-packages/seaborn/_oldcore.py:1119: FutureWarning: use_inf_as_na option is deprecated and will be removed in a future version. Convert inf values to NaN before operating instead.\n",
      "  with pd.option_context('mode.use_inf_as_na', True):\n",
      "/Users/tillboehringer/anaconda3/envs/dataproject_UZH/lib/python3.11/site-packages/seaborn/_oldcore.py:1119: FutureWarning: use_inf_as_na option is deprecated and will be removed in a future version. Convert inf values to NaN before operating instead.\n",
      "  with pd.option_context('mode.use_inf_as_na', True):\n",
      "/Users/tillboehringer/anaconda3/envs/dataproject_UZH/lib/python3.11/site-packages/seaborn/_oldcore.py:1119: FutureWarning: use_inf_as_na option is deprecated and will be removed in a future version. Convert inf values to NaN before operating instead.\n",
      "  with pd.option_context('mode.use_inf_as_na', True):\n",
      "/Users/tillboehringer/anaconda3/envs/dataproject_UZH/lib/python3.11/site-packages/seaborn/_oldcore.py:1119: FutureWarning: use_inf_as_na option is deprecated and will be removed in a future version. Convert inf values to NaN before operating instead.\n",
      "  with pd.option_context('mode.use_inf_as_na', True):\n",
      "/Users/tillboehringer/anaconda3/envs/dataproject_UZH/lib/python3.11/site-packages/seaborn/_oldcore.py:1119: FutureWarning: use_inf_as_na option is deprecated and will be removed in a future version. Convert inf values to NaN before operating instead.\n",
      "  with pd.option_context('mode.use_inf_as_na', True):\n",
      "/Users/tillboehringer/anaconda3/envs/dataproject_UZH/lib/python3.11/site-packages/seaborn/_oldcore.py:1119: FutureWarning: use_inf_as_na option is deprecated and will be removed in a future version. Convert inf values to NaN before operating instead.\n",
      "  with pd.option_context('mode.use_inf_as_na', True):\n",
      "/Users/tillboehringer/anaconda3/envs/dataproject_UZH/lib/python3.11/site-packages/seaborn/_oldcore.py:1119: FutureWarning: use_inf_as_na option is deprecated and will be removed in a future version. Convert inf values to NaN before operating instead.\n",
      "  with pd.option_context('mode.use_inf_as_na', True):\n",
      "/Users/tillboehringer/anaconda3/envs/dataproject_UZH/lib/python3.11/site-packages/seaborn/_oldcore.py:1119: FutureWarning: use_inf_as_na option is deprecated and will be removed in a future version. Convert inf values to NaN before operating instead.\n",
      "  with pd.option_context('mode.use_inf_as_na', True):\n",
      "/Users/tillboehringer/anaconda3/envs/dataproject_UZH/lib/python3.11/site-packages/seaborn/_oldcore.py:1119: FutureWarning: use_inf_as_na option is deprecated and will be removed in a future version. Convert inf values to NaN before operating instead.\n",
      "  with pd.option_context('mode.use_inf_as_na', True):\n",
      "/Users/tillboehringer/anaconda3/envs/dataproject_UZH/lib/python3.11/site-packages/seaborn/_oldcore.py:1119: FutureWarning: use_inf_as_na option is deprecated and will be removed in a future version. Convert inf values to NaN before operating instead.\n",
      "  with pd.option_context('mode.use_inf_as_na', True):\n",
      "/Users/tillboehringer/anaconda3/envs/dataproject_UZH/lib/python3.11/site-packages/seaborn/_oldcore.py:1119: FutureWarning: use_inf_as_na option is deprecated and will be removed in a future version. Convert inf values to NaN before operating instead.\n",
      "  with pd.option_context('mode.use_inf_as_na', True):\n",
      "/Users/tillboehringer/anaconda3/envs/dataproject_UZH/lib/python3.11/site-packages/seaborn/_oldcore.py:1119: FutureWarning: use_inf_as_na option is deprecated and will be removed in a future version. Convert inf values to NaN before operating instead.\n",
      "  with pd.option_context('mode.use_inf_as_na', True):\n",
      "/Users/tillboehringer/anaconda3/envs/dataproject_UZH/lib/python3.11/site-packages/seaborn/_oldcore.py:1119: FutureWarning: use_inf_as_na option is deprecated and will be removed in a future version. Convert inf values to NaN before operating instead.\n",
      "  with pd.option_context('mode.use_inf_as_na', True):\n",
      "/Users/tillboehringer/anaconda3/envs/dataproject_UZH/lib/python3.11/site-packages/seaborn/_oldcore.py:1119: FutureWarning: use_inf_as_na option is deprecated and will be removed in a future version. Convert inf values to NaN before operating instead.\n",
      "  with pd.option_context('mode.use_inf_as_na', True):\n",
      "/Users/tillboehringer/anaconda3/envs/dataproject_UZH/lib/python3.11/site-packages/seaborn/_oldcore.py:1119: FutureWarning: use_inf_as_na option is deprecated and will be removed in a future version. Convert inf values to NaN before operating instead.\n",
      "  with pd.option_context('mode.use_inf_as_na', True):\n",
      "/Users/tillboehringer/anaconda3/envs/dataproject_UZH/lib/python3.11/site-packages/seaborn/_oldcore.py:1119: FutureWarning: use_inf_as_na option is deprecated and will be removed in a future version. Convert inf values to NaN before operating instead.\n",
      "  with pd.option_context('mode.use_inf_as_na', True):\n",
      "/Users/tillboehringer/anaconda3/envs/dataproject_UZH/lib/python3.11/site-packages/seaborn/_oldcore.py:1119: FutureWarning: use_inf_as_na option is deprecated and will be removed in a future version. Convert inf values to NaN before operating instead.\n",
      "  with pd.option_context('mode.use_inf_as_na', True):\n",
      "/Users/tillboehringer/anaconda3/envs/dataproject_UZH/lib/python3.11/site-packages/seaborn/_oldcore.py:1119: FutureWarning: use_inf_as_na option is deprecated and will be removed in a future version. Convert inf values to NaN before operating instead.\n",
      "  with pd.option_context('mode.use_inf_as_na', True):\n",
      "/Users/tillboehringer/anaconda3/envs/dataproject_UZH/lib/python3.11/site-packages/seaborn/_oldcore.py:1119: FutureWarning: use_inf_as_na option is deprecated and will be removed in a future version. Convert inf values to NaN before operating instead.\n",
      "  with pd.option_context('mode.use_inf_as_na', True):\n",
      "/Users/tillboehringer/anaconda3/envs/dataproject_UZH/lib/python3.11/site-packages/seaborn/_oldcore.py:1119: FutureWarning: use_inf_as_na option is deprecated and will be removed in a future version. Convert inf values to NaN before operating instead.\n",
      "  with pd.option_context('mode.use_inf_as_na', True):\n",
      "/Users/tillboehringer/anaconda3/envs/dataproject_UZH/lib/python3.11/site-packages/seaborn/_oldcore.py:1119: FutureWarning: use_inf_as_na option is deprecated and will be removed in a future version. Convert inf values to NaN before operating instead.\n",
      "  with pd.option_context('mode.use_inf_as_na', True):\n",
      "/Users/tillboehringer/anaconda3/envs/dataproject_UZH/lib/python3.11/site-packages/seaborn/_oldcore.py:1119: FutureWarning: use_inf_as_na option is deprecated and will be removed in a future version. Convert inf values to NaN before operating instead.\n",
      "  with pd.option_context('mode.use_inf_as_na', True):\n",
      "/Users/tillboehringer/anaconda3/envs/dataproject_UZH/lib/python3.11/site-packages/seaborn/_oldcore.py:1119: FutureWarning: use_inf_as_na option is deprecated and will be removed in a future version. Convert inf values to NaN before operating instead.\n",
      "  with pd.option_context('mode.use_inf_as_na', True):\n",
      "/Users/tillboehringer/anaconda3/envs/dataproject_UZH/lib/python3.11/site-packages/seaborn/_oldcore.py:1119: FutureWarning: use_inf_as_na option is deprecated and will be removed in a future version. Convert inf values to NaN before operating instead.\n",
      "  with pd.option_context('mode.use_inf_as_na', True):\n",
      "/Users/tillboehringer/anaconda3/envs/dataproject_UZH/lib/python3.11/site-packages/seaborn/_oldcore.py:1119: FutureWarning: use_inf_as_na option is deprecated and will be removed in a future version. Convert inf values to NaN before operating instead.\n",
      "  with pd.option_context('mode.use_inf_as_na', True):\n",
      "/Users/tillboehringer/anaconda3/envs/dataproject_UZH/lib/python3.11/site-packages/seaborn/_oldcore.py:1119: FutureWarning: use_inf_as_na option is deprecated and will be removed in a future version. Convert inf values to NaN before operating instead.\n",
      "  with pd.option_context('mode.use_inf_as_na', True):\n",
      "/Users/tillboehringer/anaconda3/envs/dataproject_UZH/lib/python3.11/site-packages/seaborn/_oldcore.py:1119: FutureWarning: use_inf_as_na option is deprecated and will be removed in a future version. Convert inf values to NaN before operating instead.\n",
      "  with pd.option_context('mode.use_inf_as_na', True):\n",
      "/Users/tillboehringer/anaconda3/envs/dataproject_UZH/lib/python3.11/site-packages/seaborn/_oldcore.py:1119: FutureWarning: use_inf_as_na option is deprecated and will be removed in a future version. Convert inf values to NaN before operating instead.\n",
      "  with pd.option_context('mode.use_inf_as_na', True):\n",
      "/Users/tillboehringer/anaconda3/envs/dataproject_UZH/lib/python3.11/site-packages/seaborn/_oldcore.py:1119: FutureWarning: use_inf_as_na option is deprecated and will be removed in a future version. Convert inf values to NaN before operating instead.\n",
      "  with pd.option_context('mode.use_inf_as_na', True):\n",
      "/Users/tillboehringer/anaconda3/envs/dataproject_UZH/lib/python3.11/site-packages/seaborn/_oldcore.py:1119: FutureWarning: use_inf_as_na option is deprecated and will be removed in a future version. Convert inf values to NaN before operating instead.\n",
      "  with pd.option_context('mode.use_inf_as_na', True):\n",
      "/Users/tillboehringer/anaconda3/envs/dataproject_UZH/lib/python3.11/site-packages/seaborn/_oldcore.py:1119: FutureWarning: use_inf_as_na option is deprecated and will be removed in a future version. Convert inf values to NaN before operating instead.\n",
      "  with pd.option_context('mode.use_inf_as_na', True):\n",
      "/Users/tillboehringer/anaconda3/envs/dataproject_UZH/lib/python3.11/site-packages/seaborn/_oldcore.py:1119: FutureWarning: use_inf_as_na option is deprecated and will be removed in a future version. Convert inf values to NaN before operating instead.\n",
      "  with pd.option_context('mode.use_inf_as_na', True):\n",
      "/Users/tillboehringer/anaconda3/envs/dataproject_UZH/lib/python3.11/site-packages/seaborn/_oldcore.py:1119: FutureWarning: use_inf_as_na option is deprecated and will be removed in a future version. Convert inf values to NaN before operating instead.\n",
      "  with pd.option_context('mode.use_inf_as_na', True):\n",
      "/Users/tillboehringer/anaconda3/envs/dataproject_UZH/lib/python3.11/site-packages/seaborn/_oldcore.py:1119: FutureWarning: use_inf_as_na option is deprecated and will be removed in a future version. Convert inf values to NaN before operating instead.\n",
      "  with pd.option_context('mode.use_inf_as_na', True):\n",
      "/Users/tillboehringer/anaconda3/envs/dataproject_UZH/lib/python3.11/site-packages/seaborn/_oldcore.py:1119: FutureWarning: use_inf_as_na option is deprecated and will be removed in a future version. Convert inf values to NaN before operating instead.\n",
      "  with pd.option_context('mode.use_inf_as_na', True):\n",
      "/Users/tillboehringer/anaconda3/envs/dataproject_UZH/lib/python3.11/site-packages/seaborn/_oldcore.py:1119: FutureWarning: use_inf_as_na option is deprecated and will be removed in a future version. Convert inf values to NaN before operating instead.\n",
      "  with pd.option_context('mode.use_inf_as_na', True):\n",
      "/Users/tillboehringer/anaconda3/envs/dataproject_UZH/lib/python3.11/site-packages/seaborn/_oldcore.py:1119: FutureWarning: use_inf_as_na option is deprecated and will be removed in a future version. Convert inf values to NaN before operating instead.\n",
      "  with pd.option_context('mode.use_inf_as_na', True):\n",
      "/Users/tillboehringer/anaconda3/envs/dataproject_UZH/lib/python3.11/site-packages/seaborn/_oldcore.py:1119: FutureWarning: use_inf_as_na option is deprecated and will be removed in a future version. Convert inf values to NaN before operating instead.\n",
      "  with pd.option_context('mode.use_inf_as_na', True):\n",
      "/Users/tillboehringer/anaconda3/envs/dataproject_UZH/lib/python3.11/site-packages/seaborn/_oldcore.py:1119: FutureWarning: use_inf_as_na option is deprecated and will be removed in a future version. Convert inf values to NaN before operating instead.\n",
      "  with pd.option_context('mode.use_inf_as_na', True):\n",
      "/Users/tillboehringer/anaconda3/envs/dataproject_UZH/lib/python3.11/site-packages/seaborn/_oldcore.py:1119: FutureWarning: use_inf_as_na option is deprecated and will be removed in a future version. Convert inf values to NaN before operating instead.\n",
      "  with pd.option_context('mode.use_inf_as_na', True):\n",
      "/Users/tillboehringer/anaconda3/envs/dataproject_UZH/lib/python3.11/site-packages/seaborn/_oldcore.py:1119: FutureWarning: use_inf_as_na option is deprecated and will be removed in a future version. Convert inf values to NaN before operating instead.\n",
      "  with pd.option_context('mode.use_inf_as_na', True):\n",
      "/Users/tillboehringer/anaconda3/envs/dataproject_UZH/lib/python3.11/site-packages/seaborn/_oldcore.py:1119: FutureWarning: use_inf_as_na option is deprecated and will be removed in a future version. Convert inf values to NaN before operating instead.\n",
      "  with pd.option_context('mode.use_inf_as_na', True):\n",
      "/Users/tillboehringer/anaconda3/envs/dataproject_UZH/lib/python3.11/site-packages/seaborn/_oldcore.py:1119: FutureWarning: use_inf_as_na option is deprecated and will be removed in a future version. Convert inf values to NaN before operating instead.\n",
      "  with pd.option_context('mode.use_inf_as_na', True):\n",
      "/Users/tillboehringer/anaconda3/envs/dataproject_UZH/lib/python3.11/site-packages/seaborn/_oldcore.py:1119: FutureWarning: use_inf_as_na option is deprecated and will be removed in a future version. Convert inf values to NaN before operating instead.\n",
      "  with pd.option_context('mode.use_inf_as_na', True):\n",
      "/Users/tillboehringer/anaconda3/envs/dataproject_UZH/lib/python3.11/site-packages/seaborn/_oldcore.py:1119: FutureWarning: use_inf_as_na option is deprecated and will be removed in a future version. Convert inf values to NaN before operating instead.\n",
      "  with pd.option_context('mode.use_inf_as_na', True):\n",
      "/Users/tillboehringer/anaconda3/envs/dataproject_UZH/lib/python3.11/site-packages/seaborn/_oldcore.py:1119: FutureWarning: use_inf_as_na option is deprecated and will be removed in a future version. Convert inf values to NaN before operating instead.\n",
      "  with pd.option_context('mode.use_inf_as_na', True):\n",
      "/Users/tillboehringer/anaconda3/envs/dataproject_UZH/lib/python3.11/site-packages/seaborn/_oldcore.py:1119: FutureWarning: use_inf_as_na option is deprecated and will be removed in a future version. Convert inf values to NaN before operating instead.\n",
      "  with pd.option_context('mode.use_inf_as_na', True):\n"
     ]
    },
    {
     "data": {
      "text/plain": [
       "<seaborn.axisgrid.PairGrid at 0x154d7ff90>"
      ]
     },
     "execution_count": 6,
     "metadata": {},
     "output_type": "execute_result"
    },
    {
     "data": {
      "image/png": "[encoded data removed]",
      "text/plain": [
       "<Figure size 3500x3500 with 210 Axes>"
      ]
     },
     "metadata": {},
     "output_type": "display_data"
    }
   ],
   "source": [
    "sns.pairplot(data=data, x_vars=cols, y_vars=cols, kind='hist')"
   ]
  },
  {
   "cell_type": "code",
   "execution_count": 7,
   "metadata": {},
   "outputs": [],
   "source": [
    "data_num = data.select_dtypes(include=[np.number])\n",
    "data_cat = data.select_dtypes(exclude=[np.number])"
   ]
  },
  {
   "cell_type": "code",
   "execution_count": 8,
   "metadata": {},
   "outputs": [
    {
     "data": {
      "text/plain": [
       "<Geographic 2D CRS: EPSG:4326>\n",
       "Name: WGS 84\n",
       "Axis Info [ellipsoidal]:\n",
       "- Lat[north]: Geodetic latitude (degree)\n",
       "- Lon[east]: Geodetic longitude (degree)\n",
       "Area of Use:\n",
       "- name: World.\n",
       "- bounds: (-180.0, -90.0, 180.0, 90.0)\n",
       "Datum: World Geodetic System 1984 ensemble\n",
       "- Ellipsoid: WGS 84\n",
       "- Prime Meridian: Greenwich"
      ]
     },
     "execution_count": 8,
     "metadata": {},
     "output_type": "execute_result"
    }
   ],
   "source": [
    "data_geo = gpd.GeoDataFrame(data, geometry=gpd.points_from_xy(data.Longitude, data.Latitude), crs='EPSG:4326')\n",
    "data_geo.crs"
   ]
  },
  {
   "cell_type": "code",
   "execution_count": 9,
   "metadata": {},
   "outputs": [
    {
     "data": {
      "image/png": "[encoded data removed]",
      "text/plain": [
       "<Figure size 2000x2000 with 1 Axes>"
      ]
     },
     "metadata": {},
     "output_type": "display_data"
    }
   ],
   "source": [
    "fig, ax = plt.subplots(figsize=(20,20))\n",
    "ax = data_geo.plot(column='Mag', ax=ax)\n",
    "cx.add_basemap(ax, source='OpenStreetMap.Mapnik')"
   ]
  },
  {
   "cell_type": "code",
   "execution_count": 22,
   "metadata": {},
   "outputs": [
    {
     "data": {
      "application/vnd.plotly.v1+json": {
       "config": {
        "plotlyServerURL": "https://plot.ly"
       },
       "data": [
        {
         "customdata": [
          [
           5.1,
           20899032.217218265
          ],
          [
           5.9,
           38290492.52524715
          ],
          [
           6.3,
           47881124.211321555
          ],
          [
           4.2,
           1307027.8669633863
          ],
          [
           5.3,
           5372795.096065223
          ],
          [
           7.6,
           166194397.27948016
          ],
          [
           6.1,
           79458490.03034495
          ],
          [
           6.1,
           74675010.25258036
          ],
          [
           6.5,
           97175865.50577684
          ],
          [
           6.7,
           162903250.85682935
          ],
          [
           5.5,
           652547.3852224685
          ],
          [
           7.6,
           261980743.04868883
          ],
          [
           7.9,
           399862299.80154335
          ],
          [
           6.7,
           89214994.39721459
          ],
          [
           5.4,
           57017716.077332154
          ],
          [
           4.1,
           853488.6614467502
          ],
          [
           6,
           17306824.35276915
          ],
          [
           6,
           34427704.99543106
          ],
          [
           5.4,
           28126377.964003664
          ],
          [
           6.4,
           102563773.6212488
          ],
          [
           6.5,
           273583.93415023584
          ],
          [
           6.5,
           272476.2855202317
          ],
          [
           7.9,
           229116774.85044193
          ],
          [
           5.4,
           7111149.979372067
          ],
          [
           6.4,
           55673926.97769576
          ],
          [
           6.5,
           44237469.41001588
          ],
          [
           8,
           10448336.039051428
          ],
          [
           7.8,
           9011557.394192755
          ],
          [
           7.8,
           9301253.382080672
          ],
          [
           6.8,
           87875752.61188585
          ],
          [
           7,
           77761801.19157362
          ],
          [
           7.5,
           188145599.5462829
          ],
          [
           7.6,
           1176867290.6107302
          ],
          [
           6.6,
           41176950.21750229
          ],
          [
           5.7,
           21366196.7172022
          ],
          [
           5.6,
           8063646.884444332
          ],
          [
           5.5,
           11692132.655434916
          ],
          [
           4.3,
           6090120.276890278
          ],
          [
           5.6,
           23281570.723612446
          ],
          [
           7.8,
           1632933110.1728666
          ],
          [
           6.8,
           170670153.55583212
          ],
          [
           5,
           6076757.144231021
          ],
          [
           8.4,
           476563413.44803184
          ],
          [
           6.6,
           19025038.023507856
          ],
          [
           7.6,
           93009974.4283087
          ],
          [
           5.8,
           4847458.927936057
          ],
          [
           5.5,
           18271314.446807913
          ],
          [
           6.5,
           66843924.6512782
          ],
          [
           6.1,
           72338.60181681553
          ],
          [
           7.5,
           159779820.05011964
          ],
          [
           6.8,
           197464883.38221404
          ],
          [
           4.5,
           39843694.54531407
          ],
          [
           5.3,
           8507450.9696711
          ],
          [
           4.9,
           1954361.148581356
          ],
          [
           6.7,
           5985744.397684558
          ],
          [
           7.6,
           13108903.115332888
          ],
          [
           5.6,
           1346568.6056049862
          ],
          [
           6.4,
           12068885.834396806
          ],
          [
           6.6,
           16739704.802173076
          ],
          [
           4.7,
           9185974.042382896
          ],
          [
           5.9,
           20670231.010904357
          ],
          [
           5.5,
           8471610.79540964
          ],
          [
           5.3,
           3268233.776461767
          ],
          [
           6.5,
           77214329.82958078
          ],
          [
           5.4,
           6159810.296295034
          ],
          [
           5.4,
           8803229.002161354
          ],
          [
           6.5,
           90529083.26623972
          ],
          [
           5.2,
           6328121.879958391
          ],
          [
           5.6,
           15238495.811847577
          ],
          [
           5.2,
           6741177.970947981
          ],
          [
           7.4,
           687291377.782464
          ],
          [
           6.1,
           49881262.90048822
          ],
          [
           5.5,
           21261257.570521086
          ],
          [
           7.5,
           225509960.73046863
          ],
          [
           6.4,
           49529992.22079194
          ],
          [
           7.1,
           529931006.6057618
          ],
          [
           4.3,
           1994435.4851216432
          ],
          [
           5.5,
           13170939.918766774
          ],
          [
           6,
           5299483.082805162
          ],
          [
           4.5,
           22448790.357859492
          ],
          [
           4.8,
           14501026.291385291
          ],
          [
           6.5,
           13733927.421890998
          ],
          [
           5.3,
           742901.252490891
          ],
          [
           5.5,
           1069340.7255545296
          ],
          [
           5.7,
           5848872.772865178
          ],
          [
           6.2,
           14487589.998005
          ],
          [
           6.4,
           1959400.5490553873
          ],
          [
           7.6,
           104897873.90438746
          ],
          [
           7.3,
           211668122.59247136
          ],
          [
           4.4,
           28800522.5889543
          ],
          [
           5.5,
           10915328.51022399
          ],
          [
           6,
           17176185.587143555
          ],
          [
           4.3,
           2206796.0103017045
          ],
          [
           5.7,
           19460360.22583707
          ],
          [
           6.5,
           25937450.23497585
          ],
          [
           4.8,
           14600851.059237456
          ],
          [
           4.2,
           666835.0886545163
          ],
          [
           6.2,
           51608786.66940735
          ],
          [
           5.4,
           15837596.152071426
          ],
          [
           6.3,
           124775440.71483114
          ],
          [
           5.7,
           3969246.3341098726
          ],
          [
           5.2,
           4594594.068974458
          ],
          [
           5.2,
           4776864.707613945
          ],
          [
           5.8,
           7296780.203850614
          ],
          [
           5,
           3606214.772842467
          ],
          [
           6.6,
           24412163.35096784
          ],
          [
           7.3,
           2276462.110089906
          ],
          [
           7.5,
           171275972.44757837
          ],
          [
           5.5,
           3574829.4083419936
          ],
          [
           4.6,
           24676345.819618464
          ],
          [
           6.5,
           23106149.621868197
          ],
          [
           7,
           40215105.95566463
          ],
          [
           6,
           1274278.200429997
          ],
          [
           4.9,
           952068.7328359932
          ],
          [
           4.7,
           4556759.7260797825
          ],
          [
           5,
           11612019.332499266
          ],
          [
           5.3,
           16371857.122365689
          ],
          [
           6.1,
           30518236.845560547
          ],
          [
           5.7,
           12794005.293216482
          ],
          [
           6.4,
           65395284.6545358
          ],
          [
           4.5,
           1878605.3356666565
          ],
          [
           5.4,
           12603020.458465831
          ],
          [
           5.3,
           4732864.4964268925
          ],
          [
           6.3,
           18544557.9945265
          ],
          [
           5.4,
           4244177.442421674
          ],
          [
           6.4,
           5829380.525103714
          ],
          [
           5.8,
           5793434.920009306
          ],
          [
           5.9,
           40642744.96271071
          ],
          [
           5.4,
           6388918.167398118
          ],
          [
           5.5,
           2910752.5802177335
          ],
          [
           5.6,
           27604834.629287012
          ],
          [
           5.8,
           9784454.214036943
          ],
          [
           5.1,
           8694749.53288848
          ],
          [
           5.6,
           56280796.75295971
          ],
          [
           4.7,
           6837143.589691557
          ],
          [
           6,
           6379076.660576264
          ],
          [
           5.8,
           26788683.164127786
          ],
          [
           6.3,
           69158521.0788095
          ],
          [
           6.5,
           79632525.8803419
          ],
          [
           5,
           6731355.919831427
          ],
          [
           4.7,
           9841031.31532672
          ],
          [
           5.5,
           52144252.81757136
          ],
          [
           6.8,
           83421961.30219324
          ],
          [
           5.7,
           16583381.086189777
          ],
          [
           7,
           108561624.21037082
          ],
          [
           5.5,
           15288844.053645954
          ],
          [
           5.7,
           50262461.77418731
          ],
          [
           8.3,
           1282352129.5192814
          ],
          [
           5.2,
           44597926.32008082
          ],
          [
           7,
           102556897.41518594
          ],
          [
           5.2,
           4463541.821944647
          ],
          [
           6.3,
           31511572.788214512
          ],
          [
           6.8,
           20646537.75053796
          ],
          [
           5.7,
           96555921.41658077
          ],
          [
           5.4,
           2463579.3425056087
          ],
          [
           7.2,
           3942228.502992881
          ],
          [
           4.8,
           434440.726179482
          ],
          [
           6.4,
           22060966.553943977
          ],
          [
           4.5,
           2512986.019876018
          ],
          [
           6.8,
           205822526.11938497
          ],
          [
           4.4,
           1261816.9536166787
          ],
          [
           5.8,
           16943990.72275074
          ],
          [
           6.7,
           12156989.00154164
          ],
          [
           7,
           5872300.130512663
          ],
          [
           7.3,
           33734094.061840795
          ],
          [
           5.1,
           6620880.148439784
          ],
          [
           6,
           15834507.474213284
          ],
          [
           5.4,
           6873698.769166117
          ],
          [
           5.5,
           27307373.370689183
          ],
          [
           6.7,
           20145320.67287913
          ],
          [
           7.5,
           126998525.36160035
          ],
          [
           7.1,
           8199266.173467602
          ],
          [
           9.1,
           4137370227.268293
          ],
          [
           6.1,
           51894769.92598243
          ],
          [
           2.2,
           114797.08960151672
          ],
          [
           4.4,
           6038680.38322711
          ],
          [
           4.5,
           6438741.774919152
          ],
          [
           4.5,
           6407840.408328295
          ],
          [
           5.2,
           1536480.9516127035
          ],
          [
           5,
           3406168.973952487
          ],
          [
           6.3,
           49686828.1814056
          ],
          [
           5.6,
           5350219.842695671
          ],
          [
           4.8,
           3105606.084962696
          ],
          [
           5,
           3799005.698552996
          ],
          [
           5.3,
           16924267.85469708
          ],
          [
           5.4,
           38137665.33443867
          ],
          [
           4.5,
           1991422.565306306
          ],
          [
           4.7,
           10131162.005569778
          ],
          [
           6.4,
           58697576.61289524
          ],
          [
           5.2,
           2464534.4956489224
          ],
          [
           5.2,
           566425.2889835378
          ],
          [
           5.4,
           1280038.7716164307
          ],
          [
           5.4,
           316276.07550785784
          ],
          [
           5.4,
           33884182.430816434
          ],
          [
           5.2,
           11188756.934187826
          ],
          [
           4.4,
           2815497.2396011353
          ],
          [
           5.6,
           9428927.85978002
          ],
          [
           5.6,
           9198701.33759967
          ],
          [
           5.1,
           5423365.222473888
          ],
          [
           4,
           363663.2447550297
          ],
          [
           5.6,
           9148244.577017806
          ],
          [
           5.7,
           18456115.692675717
          ],
          [
           5.4,
           8465667.236741692
          ],
          [
           6.5,
           170053075.44370812
          ],
          [
           4.6,
           1142196.1230870483
          ],
          [
           5.2,
           12263182.99519688
          ],
          [
           5.2,
           22127906.66191218
          ],
          [
           6.6,
           138325510.42919883
          ],
          [
           6.6,
           16772205.698812274
          ],
          [
           5.9,
           4048167.1230407306
          ],
          [
           4.1,
           3427584.538065076
          ],
          [
           4.6,
           334367.82835945487
          ],
          [
           5.2,
           6353652.27791443
          ],
          [
           5.4,
           2131835.7712850096
          ],
          [
           7.1,
           1248267.12570014
          ],
          [
           7.2,
           213709132.78727567
          ],
          [
           7.4,
           278608880.3630156
          ],
          [
           6.6,
           110168200.7762378
          ],
          [
           5.9,
           73865583.94814512
          ],
          [
           5.5,
           56535591.87178323
          ],
          [
           7,
           78391868.50581118
          ],
          [
           6.8,
           57413190.07748231
          ],
          [
           5.8,
           5634198.587312438
          ],
          [
           6.1,
           6065464.7009404525
          ],
          [
           4.8,
           1245746.4993702313
          ],
          [
           5.6,
           10203610.470217962
          ],
          [
           5.8,
           23000031.3069396
          ],
          [
           6.6,
           7663210.630458107
          ],
          [
           7.2,
           99499226.75633006
          ],
          [
           6.4,
           20461883.132299032
          ],
          [
           5.1,
           12454015.06103536
          ],
          [
           4.8,
           9953720.514299424
          ],
          [
           5.4,
           59852255.29373449
          ],
          [
           8.1,
           22314663.305608533
          ],
          [
           5.4,
           4401503.5853529945
          ],
          [
           6.4,
           23106730.312686633
          ],
          [
           6,
           3521833.020574328
          ],
          [
           5.1,
           3886770.709076851
          ],
          [
           6,
           9908038.812338062
          ],
          [
           6.6,
           91298627.2825206
          ],
          [
           6.6,
           113368140.9233991
          ],
          [
           5.9,
           59798831.107694566
          ],
          [
           7.2,
           128172944.51569092
          ],
          [
           7,
           79323196.40215337
          ],
          [
           5.3,
           853527.7326436834
          ],
          [
           6.3,
           18534619.518630803
          ],
          [
           4.8,
           41745133.24464631
          ],
          [
           8.6,
           3637846570.425876
          ],
          [
           6.7,
           69123104.34711066
          ],
          [
           6.7,
           62449944.351165935
          ],
          [
           5.9,
           8000008.2288274355
          ],
          [
           5.3,
           2760488.909567371
          ],
          [
           6.1,
           15359157.832298478
          ],
          [
           4.8,
           3745685.051140899
          ],
          [
           4.8,
           2550155.118874237
          ],
          [
           6.1,
           11767970.036041934
          ],
          [
           4.7,
           3982340.994011078
          ],
          [
           4.8,
           6104014.1902143955
          ],
          [
           4.5,
           3412446.3173439503
          ],
          [
           4.2,
           2352642.3609912395
          ],
          [
           5.2,
           41164650.60553691
          ],
          [
           5.9,
           24241514.08784539
          ],
          [
           5.6,
           10713010.62831926
          ],
          [
           5.8,
           15444361.672518533
          ],
          [
           5.3,
           8572395.60683674
          ],
          [
           5.9,
           27404005.21851076
          ],
          [
           4.4,
           1678532.6115769148
          ],
          [
           4.3,
           3904389.739414092
          ],
          [
           4.4,
           1021489.5392731504
          ],
          [
           5.1,
           21407847.733958364
          ],
          [
           4.9,
           12786580.565881908
          ],
          [
           4.3,
           4998299.663832009
          ],
          [
           7.2,
           159080049.93379754
          ],
          [
           4.4,
           8093776.10232991
          ],
          [
           4.4,
           2294717.8299826793
          ],
          [
           4.7,
           10681515.11134976
          ],
          [
           5.3,
           29020426.083196133
          ],
          [
           4.9,
           2044668.7237102983
          ],
          [
           7.6,
           1248901386.839897
          ],
          [
           4.3,
           843527.8875084473
          ],
          [
           4.3,
           843527.8875084473
          ],
          [
           4.3,
           843527.8875084473
          ],
          [
           4.3,
           843527.8875084473
          ],
          [
           7.7,
           130828918.68588395
          ],
          [
           5.8,
           2205024.3036722858
          ],
          [
           5.2,
           6586294.938225167
          ],
          [
           7.7,
           9791320.217972456
          ],
          [
           5.6,
           11994756.831547815
          ],
          [
           7.5,
           104586618.1462468
          ],
          [
           5.3,
           2485401.6947337124
          ],
          [
           5.4,
           4970376.601667693
          ],
          [
           6.8,
           118955828.736081
          ],
          [
           6.5,
           178680506.14607692
          ],
          [
           5.6,
           8133.126537784934
          ],
          [
           6.3,
           90792543.38591003
          ],
          [
           6.4,
           6578085.861130893
          ],
          [
           6.7,
           64034290.8649245
          ],
          [
           5.5,
           2737320.070921473
          ],
          [
           7.6,
           129334885.36067876
          ],
          [
           6.7,
           14273049.104685316
          ],
          [
           5,
           2446212.37745817
          ],
          [
           5.5,
           48404878.289988294
          ],
          [
           6.3,
           133926863.18576156
          ],
          [
           7.7,
           277649514.4468362
          ],
          [
           5.2,
           6724632.94769102
          ],
          [
           6.2,
           5938086.773544384
          ],
          [
           6.3,
           21049139.824667845
          ],
          [
           5.8,
           24922809.027774785
          ],
          [
           5.3,
           38390279.3052306
          ],
          [
           5.5,
           39584267.10159073
          ],
          [
           5.5,
           34749465.5229091
          ],
          [
           4.2,
           7384406.568900108
          ],
          [
           7,
           84575007.22806388
          ],
          [
           5.8,
           81655013.91539732
          ],
          [
           6,
           7894202.369826198
          ],
          [
           5.9,
           9035834.386873432
          ],
          [
           6.1,
           48353721.71350667
          ],
          [
           4.1,
           375463.06435608864
          ],
          [
           5.1,
           1584020.4049726457
          ],
          [
           4.9,
           29232435.45616126
          ],
          [
           4.8,
           15123128.493484763
          ],
          [
           4.9,
           5800390.234232485
          ],
          [
           4.9,
           5515993.661263933
          ],
          [
           5.7,
           1282486.8215159436
          ],
          [
           4.5,
           2010286.107103172
          ],
          [
           4.9,
           11724578.19227347
          ],
          [
           4.6,
           7852859.400448129
          ],
          [
           4.5,
           8073983.487364203
          ],
          [
           4.7,
           1192152.7453705668
          ],
          [
           4.7,
           514897.49263322435
          ],
          [
           6.2,
           53037412.93774189
          ],
          [
           7,
           327434318.12622887
          ],
          [
           4.5,
           741687.3808689779
          ],
          [
           4.1,
           281005.5492873192
          ],
          [
           3.8,
           912997.850002598
          ],
          [
           4.5,
           1184343.467953652
          ],
          [
           5.6,
           14308624.423456334
          ],
          [
           4.7,
           4143807.8058818057
          ],
          [
           5.6,
           9549206.382929187
          ],
          [
           4.3,
           833593.0798670948
          ],
          [
           4.7,
           1085117.2411441542
          ],
          [
           6.7,
           22871759.9296316
          ],
          [
           4.8,
           3151655.365282137
          ],
          [
           4.1,
           3126795.5189442635
          ],
          [
           3.9,
           1801945.3195781708
          ],
          [
           4.6,
           2630961.67036736
          ],
          [
           5.8,
           6722194.014251055
          ],
          [
           6,
           30891019.347174194
          ],
          [
           4.5,
           1463037.531294315
          ],
          [
           4.7,
           2572908.3465604
          ],
          [
           6.1,
           49960601.115525834
          ],
          [
           5.6,
           5142556.0896001
          ],
          [
           5.1,
           3253726.7486600354
          ],
          [
           5.7,
           18634470.187333018
          ],
          [
           5.7,
           16818221.83191468
          ],
          [
           5.6,
           12924912.609852811
          ],
          [
           7.5,
           183356031.99611652
          ],
          [
           6.4,
           62283642.43267884
          ],
          [
           6.1,
           3762078.518142882
          ],
          [
           6.9,
           46020130.975163616
          ],
          [
           7.5,
           264696050.3158934
          ],
          [
           4.8,
           10673772.931349516
          ],
          [
           8.4,
           2877665302.097481
          ],
          [
           7.9,
           530150755.5518597
          ],
          [
           6.5,
           46626355.673351355
          ],
          [
           4.9,
           4642989.780933797
          ],
          [
           5.1,
           10473960.279751765
          ],
          [
           5,
           3316340.4961577803
          ],
          [
           6.8,
           65094270.934370235
          ],
          [
           4.7,
           2608348.5115472972
          ],
          [
           5.5,
           25917733.125785157
          ],
          [
           5,
           1592344.2845522575
          ],
          [
           4.8,
           2086529.197437644
          ],
          [
           6.7,
           129022977.6636944
          ],
          [
           4.6,
           24190185.11431098
          ],
          [
           6.6,
           111859047.78757896
          ],
          [
           7.5,
           145770211.03536624
          ],
          [
           5.8,
           7023541.866952877
          ],
          [
           8.1,
           24740117.705279578
          ],
          [
           7.2,
           1196295.196915842
          ],
          [
           6,
           44402659.03407705
          ],
          [
           4.5,
           2383786.7178701703
          ],
          [
           6.2,
           925002.9958138271
          ],
          [
           7.7,
           119914179.31626448
          ],
          [
           5.9,
           11413736.93677557
          ],
          [
           4.6,
           4225382.068932246
          ],
          [
           6.7,
           53299902.81092513
          ],
          [
           4.5,
           1365639.3692317111
          ],
          [
           5.2,
           6310961.042550899
          ],
          [
           4.3,
           2690975.9572592825
          ],
          [
           4.4,
           6275562.410214841
          ],
          [
           5.1,
           11784139.89699173
          ],
          [
           4.7,
           45862971.45447159
          ],
          [
           8,
           170752785.24418244
          ],
          [
           7.4,
           4127793.2106228583
          ],
          [
           6.8,
           1452761.2312397924
          ],
          [
           6.6,
           3658227.959016924
          ],
          [
           4.8,
           283419.83025278104
          ],
          [
           5.1,
           18833863.08482611
          ],
          [
           4.6,
           317203.66244200256
          ],
          [
           5.6,
           11095037.79173408
          ],
          [
           6.6,
           95611016.6995794
          ],
          [
           5.6,
           18433750.30552095
          ],
          [
           6.1,
           30044347.883197296
          ],
          [
           5.9,
           973128.5234306238
          ],
          [
           6.1,
           21361922.754122034
          ],
          [
           7.4,
           289234799.4160594
          ],
          [
           6.5,
           53567427.0242187
          ],
          [
           5.4,
           11592150.030932602
          ],
          [
           7.3,
           169110784.81424204
          ],
          [
           4.6,
           4129160.121737588
          ],
          [
           5.5,
           10381194.601122454
          ],
          [
           5.9,
           40911949.721516974
          ],
          [
           4.3,
           12585145.31388712
          ],
          [
           4.5,
           2296204.661218036
          ],
          [
           3.8,
           5075687.656513214
          ],
          [
           5,
           20037650.6538254
          ],
          [
           5.1,
           2192553.3820832884
          ],
          [
           4.9,
           4765021.780685231
          ],
          [
           4.5,
           2068088.9080924988
          ],
          [
           5,
           4543423.200344712
          ],
          [
           6.1,
           14617483.695684765
          ],
          [
           5.4,
           4770410.878561473
          ],
          [
           4.9,
           14711355.463984847
          ],
          [
           4.8,
           5506158.288005472
          ],
          [
           4.3,
           909053.0598960844
          ],
          [
           0,
           23739420.891307615
          ],
          [
           7.2,
           777717363.174017
          ],
          [
           7.9,
           2116100354.1329472
          ],
          [
           6,
           106123677.1718704
          ],
          [
           5.7,
           68480021.29967834
          ],
          [
           5.6,
           59426727.44849643
          ],
          [
           5.7,
           75335531.11817189
          ],
          [
           6,
           99917889.69225632
          ],
          [
           5,
           3649326.5507250465
          ],
          [
           6,
           29810241.71694926
          ],
          [
           6.7,
           474419923.034914
          ],
          [
           5.9,
           49889647.71579622
          ],
          [
           6.3,
           118363886.28605488
          ],
          [
           6.3,
           3268571.3147361577
          ],
          [
           4.5,
           3260206.655656928
          ],
          [
           4.8,
           2413182.613469124
          ],
          [
           5.3,
           10385964.627743134
          ],
          [
           5.5,
           12642569.396678312
          ],
          [
           6.2,
           9492989.782995053
          ],
          [
           6.8,
           102122517.31370026
          ],
          [
           6.9,
           109493446.27704471
          ],
          [
           6.9,
           102665460.94622228
          ],
          [
           6.8,
           103976842.09340394
          ],
          [
           6.8,
           80187701.50864121
          ],
          [
           5.6,
           23150895.88516307
          ],
          [
           6.3,
           296813.9331605207
          ],
          [
           6.3,
           23621261.170814477
          ],
          [
           5.2,
           3103114.0384801533
          ],
          [
           6,
           28231186.78627366
          ],
          [
           5.5,
           1439339.2533628764
          ],
          [
           4.1,
           1137614.0317639932
          ],
          [
           6.4,
           106906272.3939867
          ],
          [
           6.4,
           110806470.34957127
          ],
          [
           6.1,
           8165354.768029849
          ],
          [
           4.1,
           858416.7068927921
          ],
          [
           7.6,
           132424940.1951659
          ],
          [
           7.3,
           60725130.93393008
          ],
          [
           6.1,
           11452573.121694192
          ],
          [
           4.6,
           1182710.0635728184
          ],
          [
           7.2,
           107984055.36509097
          ],
          [
           6.7,
           74645460.16813824
          ],
          [
           7,
           176518239.89960712
          ],
          [
           5.7,
           17733351.542301036
          ],
          [
           7.5,
           321618499.6408519
          ],
          [
           6.6,
           111601733.18081015
          ],
          [
           6.6,
           53965083.7658087
          ],
          [
           5.5,
           3135984.1396958893
          ],
          [
           5.7,
           33149226.247360528
          ],
          [
           5.8,
           478587.3662700847
          ],
          [
           3.4,
           1814992.5665073397
          ],
          [
           6.2,
           2144054.080807887
          ],
          [
           4.9,
           6735025.595611632
          ],
          [
           4.1,
           4317389.611996651
          ],
          [
           5.2,
           7629410.58465898
          ],
          [
           4.9,
           11583204.785747975
          ],
          [
           7.5,
           1367702334.2662606
          ],
          [
           5.1,
           19070924.675491333
          ],
          [
           4.4,
           1702174.8179414272
          ],
          [
           6.3,
           62426556.517863914
          ],
          [
           5.5,
           17646435.105118036
          ],
          [
           5.4,
           27351751.78406617
          ],
          [
           6.1,
           65931053.43545552
          ],
          [
           4.6,
           196919.4411378093
          ],
          [
           5.7,
           1940375.3878187707
          ],
          [
           7.3,
           151974215.0390255
          ],
          [
           5.4,
           2430606.595180599
          ],
          [
           6.4,
           31172748.421571456
          ],
          [
           6,
           4558159.875965613
          ],
          [
           7.8,
           15052475.749837086
          ],
          [
           6.4,
           101049966.6628319
          ],
          [
           4.9,
           37100632.30928996
          ],
          [
           6,
           18590883.18365341
          ],
          [
           6.3,
           26608339.58668194
          ],
          [
           5.4,
           10220638.519269396
          ],
          [
           5.7,
           18817103.245917704
          ],
          [
           6.1,
           161639669.53750354
          ],
          [
           5.3,
           22367451.901278887
          ],
          [
           5.2,
           17783346.62883034
          ],
          [
           3.1,
           204634.74467864563
          ],
          [
           7.8,
           9359654.214671765
          ],
          [
           5.4,
           8670302.927009359
          ],
          [
           5.1,
           1539088.4402781017
          ],
          [
           3.5,
           658103.8514283022
          ],
          [
           3.5,
           658103.8514283022
          ],
          [
           3.5,
           658103.8514283022
          ],
          [
           3.5,
           658103.8514283022
          ],
          [
           5.9,
           10350345.020544607
          ],
          [
           6,
           11372161.37082921
          ],
          [
           6.4,
           100297033.82011
          ],
          [
           5.9,
           17662504.877836507
          ],
          [
           5.1,
           1089200.462651885
          ],
          [
           6.6,
           1175284.9051560815
          ],
          [
           7.1,
           2105836.796090036
          ],
          [
           6.8,
           1503724.3263067752
          ],
          [
           5.1,
           33685671.195068836
          ],
          [
           7.8,
           813646625.5790102
          ],
          [
           7.2,
           203284608.6136839
          ],
          [
           7,
           8264533.394052274
          ],
          [
           7.8,
           406177518.36378086
          ],
          [
           7,
           61913191.67628673
          ],
          [
           5.5,
           5211359.856135357
          ],
          [
           5,
           3905902.408981681
          ],
          [
           5.8,
           11820774.436230078
          ],
          [
           5.4,
           6283873.39819032
          ],
          [
           5.7,
           5518280.878436752
          ],
          [
           5.8,
           10201364.72683161
          ],
          [
           4.9,
           3296112.241429448
          ],
          [
           6.5,
           20645476.243909493
          ],
          [
           4.4,
           3960777.158068657
          ],
          [
           4.7,
           26339297.240249634
          ],
          [
           4.8,
           8336981.276452064
          ],
          [
           6.9,
           130272020.44013664
          ],
          [
           4.9,
           7638978.758119449
          ],
          [
           7,
           153614180.7442272
          ],
          [
           7.4,
           121547306.60573916
          ],
          [
           8.8,
           444242340.62515223
          ],
          [
           6.9,
           24982079.614204675
          ],
          [
           6.3,
           6829900.366574403
          ],
          [
           6.3,
           79950438.07458349
          ],
          [
           6.1,
           34410748.040322855
          ],
          [
           6.7,
           45255025.56412371
          ],
          [
           4.5,
           2433633.069666809
          ],
          [
           7.5,
           819672232.7947893
          ],
          [
           5.9,
           1044165.541641403
          ],
          [
           5.2,
           17492509.359724946
          ],
          [
           7.2,
           73491434.97115429
          ],
          [
           6.2,
           54601171.28404778
          ],
          [
           5.6,
           17226149.29867059
          ],
          [
           5.2,
           36052.55283924814
          ],
          [
           6.2,
           7665149.908181634
          ],
          [
           5.2,
           13360639.054795386
          ],
          [
           5.8,
           5943758.968373295
          ],
          [
           5.2,
           2357998.429913588
          ],
          [
           7.6,
           464324408.99946976
          ],
          [
           7.1,
           70486234.08255431
          ],
          [
           7,
           4141463.036380928
          ],
          [
           5,
           511739.5654328916
          ],
          [
           5.1,
           301107.8900896216
          ],
          [
           5,
           470162.23290676373
          ],
          [
           4.5,
           441998.4632697522
          ],
          [
           4.8,
           61682265.64117527
          ],
          [
           5.2,
           44649849.57794829
          ],
          [
           4.7,
           2475419.8428800106
          ],
          [
           5.1,
           20343764.372983813
          ],
          [
           4.5,
           1119758.5409846604
          ],
          [
           7.2,
           455745802.8466051
          ],
          [
           4.8,
           3499830.7733169496
          ],
          [
           5.5,
           12107696.277369786
          ],
          [
           5.1,
           614946.7703477759
          ],
          [
           5.3,
           5209583.176380015
          ],
          [
           5.3,
           10479272.515643854
          ],
          [
           5.3,
           737873.2845182868
          ],
          [
           5,
           5484655.061195273
          ],
          [
           5.7,
           5458843.96225935
          ],
          [
           5.6,
           4412724.083896473
          ],
          [
           5.3,
           4651053.480823682
          ],
          [
           6.8,
           19930028.658819143
          ],
          [
           6.1,
           1553568.519269602
          ],
          [
           6,
           1356259.4664156488
          ],
          [
           7.6,
           0
          ],
          [
           5.3,
           814556.2558001074
          ],
          [
           5.8,
           1280327.5102816843
          ],
          [
           5.5,
           16433444.683608592
          ],
          [
           5,
           12045729.486248195
          ],
          [
           7.5,
           183477436.1927815
          ],
          [
           9.1,
           0
          ],
          [
           7.9,
           501373308.99668473
          ],
          [
           7.6,
           173708646.98282862
          ],
          [
           7.1,
           117738101.0228818
          ],
          [
           6.6,
           102580496.17219506
          ],
          [
           7,
           101345100.1479882
          ],
          [
           6.8,
           256608951.8111828
          ],
          [
           6.1,
           13193037.590295851
          ],
          [
           6.7,
           74194354.45776804
          ],
          [
           5.1,
           4268759.27251742
          ],
          [
           4.3,
           729659.4859999046
          ],
          [
           7.1,
           218436769.96364
          ],
          [
           5.7,
           19176929.12260305
          ],
          [
           6.1,
           34251802.998970956
          ],
          [
           4.3,
           37348774.50638199
          ],
          [
           6.9,
           650438563.5867159
          ],
          [
           5,
           9626178.281062484
          ],
          [
           3.5,
           425395.3655477762
          ],
          [
           5.8,
           30710413.389624458
          ],
          [
           5.6,
           24713048.58097376
          ],
          [
           6.9,
           28605483.338897984
          ],
          [
           4,
           2724066.9403768033
          ],
          [
           6.4,
           76735207.30453598
          ],
          [
           5.3,
           7820516.355291516
          ],
          [
           5.2,
           1322333.7822245655
          ],
          [
           5.4,
           11903166.150072388
          ],
          [
           6.5,
           97423003.35256094
          ],
          [
           5.7,
           3686107.19964695
          ],
          [
           6.4,
           19356928.043985605
          ],
          [
           6.7,
           93929526.72327244
          ],
          [
           5.6,
           25174832.36317712
          ],
          [
           5.8,
           27001468.239966184
          ],
          [
           7.6,
           411893887.9182649
          ],
          [
           5.9,
           38994756.33552063
          ],
          [
           5.9,
           4840494.864493549
          ],
          [
           5.5,
           11316929.408996409
          ],
          [
           6.3,
           14427251.717947766
          ],
          [
           4.9,
           34857748.0780224
          ],
          [
           5.6,
           56237350.34378374
          ],
          [
           5.1,
           3486.3084479168756
          ],
          [
           6.9,
           72353665.02503818
          ],
          [
           7.2,
           113436810.11327596
          ],
          [
           7.4,
           169145224.29215136
          ],
          [
           7.2,
           32079553.899893284
          ],
          [
           6.7,
           21716452.30548051
          ],
          [
           6.3,
           12246371.30418545
          ],
          [
           8.6,
           3963911441.312491
          ],
          [
           8.2,
           2752129081.259176
          ],
          [
           5.8,
           75560635.97924417
          ],
          [
           6.5,
           48407719.74904893
          ],
          [
           6.3,
           21894086.929053266
          ],
          [
           5.7,
           16408988.592672257
          ],
          [
           5.4,
           42012974.05760932
          ],
          [
           5,
           12712019.328869104
          ],
          [
           5.7,
           25581293.04231728
          ],
          [
           4.1,
           495388.8744392246
          ],
          [
           6.1,
           61986425.33260043
          ],
          [
           5.1,
           13813577.390930803
          ],
          [
           5.9,
           41075435.68772194
          ],
          [
           5.6,
           15253187.50773814
          ],
          [
           6.1,
           17588785.507065706
          ],
          [
           5.3,
           10811158.342556523
          ],
          [
           5.8,
           37669320.20920529
          ],
          [
           6.4,
           770809.7110352926
          ],
          [
           7.3,
           148309693.4877551
          ],
          [
           7.6,
           261409775.3624916
          ],
          [
           7.7,
           43016489.4139559
          ],
          [
           7.3,
           157762443.90626103
          ],
          [
           6.1,
           16784653.227424666
          ],
          [
           5.1,
           7592418.429246753
          ],
          [
           6.1,
           22076323.621558193
          ],
          [
           5.7,
           57434364.54818408
          ],
          [
           5.4,
           3844442.839313507
          ],
          [
           7.9,
           13118061.425728898
          ],
          [
           7,
           705775.9829808064
          ],
          [
           7,
           76143661.9296954
          ],
          [
           4.9,
           8219969.837973423
          ],
          [
           5.4,
           14034216.947456827
          ],
          [
           5.1,
           1926523.416355724
          ],
          [
           6.6,
           235504347.2742855
          ],
          [
           6,
           42900903.43602849
          ],
          [
           5.7,
           2639241.6683533564
          ],
          [
           5.2,
           1676982.3672804092
          ],
          [
           5.6,
           4882565.633551961
          ],
          [
           5.3,
           18261103.516367897
          ],
          [
           5.1,
           10616695.664296582
          ],
          [
           5.3,
           2717440.9105388066
          ],
          [
           7.1,
           38069899.19219823
          ],
          [
           6,
           47232516.62309205
          ],
          [
           6.3,
           89998338.01173425
          ],
          [
           6.3,
           42137329.84556146
          ],
          [
           6.1,
           14001563.613498667
          ],
          [
           5.8,
           10457470.097797642
          ],
          [
           5.4,
           9868526.39569865
          ],
          [
           5.8,
           45439080.80554296
          ],
          [
           5.8,
           60880912.08202852
          ],
          [
           7.1,
           101997300.4784005
          ],
          [
           6,
           44843557.96510556
          ],
          [
           6.2,
           67180421.79602525
          ],
          [
           5.5,
           35418727.62107462
          ],
          [
           5.7,
           87633029.18882763
          ],
          [
           5.2,
           22870112.873861782
          ],
          [
           4.9,
           5859509.004660457
          ],
          [
           4.8,
           8676639.051109135
          ],
          [
           5.7,
           22626150.92307405
          ],
          [
           7.1,
           107508345.11699624
          ],
          [
           6.2,
           14583551.284914168
          ],
          [
           5.3,
           6706428.096704032
          ],
          [
           6.6,
           48969178.579625726
          ],
          [
           6.5,
           4039744.257711699
          ],
          [
           6.5,
           4094122.161742652
          ],
          [
           6.4,
           47751248.236090936
          ],
          [
           7.7,
           1349869818.6565847
          ],
          [
           6.8,
           194439191.9907953
          ],
          [
           5.2,
           9074743.101592503
          ],
          [
           5.2,
           1458944.265866965
          ],
          [
           5.3,
           2365515.8369803056
          ],
          [
           6.2,
           73564851.0484992
          ],
          [
           5.5,
           17612752.7867411
          ],
          [
           6.4,
           16148560.90170136
          ],
          [
           6.1,
           2531150.5880751293
          ],
          [
           6.1,
           133993972.11860166
          ],
          [
           7.1,
           71325440.56236531
          ],
          [
           6.1,
           15850584.042472614
          ],
          [
           6,
           9428278.61271458
          ],
          [
           6.9,
           190430404.35581192
          ],
          [
           5.4,
           39619356.62252234
          ],
          [
           5.8,
           21637213.480768733
          ],
          [
           5.9,
           25341207.995235384
          ],
          [
           6.2,
           158420808.9101158
          ],
          [
           5,
           10163717.332963916
          ],
          [
           6.1,
           50263949.32634469
          ],
          [
           5.9,
           40342808.56801008
          ],
          [
           5.6,
           24146626.308295693
          ],
          [
           4.5,
           34925.703054308644
          ],
          [
           6.3,
           74738645.93116374
          ],
          [
           6.5,
           74599964.08883187
          ],
          [
           6.2,
           100753506.35408875
          ],
          [
           6.7,
           17654475.234904543
          ],
          [
           8.2,
           380438104.2481197
          ],
          [
           7.7,
           137851211.60700327
          ],
          [
           7,
           5550.343872509897
          ],
          [
           6.1,
           27447722.97511689
          ],
          [
           5.2,
           5969220.697787851
          ],
          [
           7.1,
           4520495.475642487
          ],
          [
           7.5,
           10917933.67616529
          ],
          [
           7.6,
           10464482.69333658
          ],
          [
           7.4,
           3303458.4377597217
          ],
          [
           7.2,
           129528781.70062962
          ],
          [
           6.4,
           78687158.80758843
          ],
          [
           6.3,
           71115137.66761112
          ],
          [
           6.1,
           47033522.98705578
          ],
          [
           4.5,
           7667962.72624287
          ],
          [
           3.6,
           2425717.1239061356
          ],
          [
           5,
           3299200.277289979
          ],
          [
           5.5,
           16101706.64905274
          ],
          [
           4.9,
           9297731.238804547
          ],
          [
           5.4,
           18766443.391798757
          ],
          [
           5.4,
           18766443.391798757
          ],
          [
           5.4,
           18766443.391798757
          ],
          [
           5.4,
           18766443.391798757
          ],
          [
           5.1,
           7221049.141694009
          ],
          [
           5.2,
           14409730.309721855
          ],
          [
           4.9,
           1292531.0622555949
          ],
          [
           7.3,
           160296434.9060354
          ],
          [
           5.3,
           38921560.938459195
          ],
          [
           4.5,
           1912841.4455930889
          ],
          [
           5.1,
           1918180.872879464
          ],
          [
           5.2,
           8755581.667690635
          ],
          [
           4.6,
           19680178.156203523
          ],
          [
           6.4,
           57890052.39303701
          ],
          [
           6.7,
           82754556.5824089
          ],
          [
           5.7,
           10954.429006025195
          ],
          [
           7.8,
           503982462.0607095
          ],
          [
           6.7,
           96774133.80436648
          ],
          [
           5.4,
           52765797.26461925
          ],
          [
           5.1,
           39307810.40449258
          ],
          [
           4.8,
           1339621.2277140245
          ],
          [
           6.2,
           59153733.30820125
          ],
          [
           7.5,
           12579942.399379505
          ],
          [
           7.5,
           13257037.764359651
          ],
          [
           6.4,
           95055328.31337884
          ],
          [
           7.8,
           2022965299.8569672
          ],
          [
           7.3,
           1337576074.516122
          ],
          [
           6,
           5659583.217414606
          ],
          [
           5.1,
           26047382.730623446
          ],
          [
           6.1,
           43741907.53706133
          ],
          [
           6.7,
           1255298.3435490225
          ],
          [
           7,
           805481.1797479279
          ],
          [
           6.8,
           1390309.8410391156
          ],
          [
           7,
           11566311.87116281
          ],
          [
           6.6,
           6521087.786085362
          ],
          [
           6.5,
           19613731.41575784
          ],
          [
           5.8,
           47740304.41785085
          ],
          [
           4.5,
           4852713.223753691
          ],
          [
           8.3,
           322339499.4460496
          ],
          [
           6.9,
           25934211.752167948
          ],
          [
           5.8,
           4227256.364080216
          ],
          [
           7.5,
           1051630179.7994812
          ],
          [
           5.3,
           8008771.661961149
          ],
          [
           5.1,
           5150951.250594113
          ],
          [
           6.5,
           43311816.59475022
          ],
          [
           5.6,
           11806290.619569603
          ],
          [
           7.2,
           538535196.9714408
          ],
          [
           6.6,
           93652203.36421087
          ],
          [
           6.7,
           387856237.6941506
          ],
          [
           6.9,
           434507451.5302511
          ],
          [
           5.6,
           1382365.7290230244
          ],
          [
           7.8,
           545135701.1639316
          ],
          [
           6.6,
           110932131.99028768
          ],
          [
           6.3,
           7154180.168921615
          ],
          [
           5.6,
           6311154.402910933
          ],
          [
           6.5,
           51913799.55712768
          ],
          [
           6.3,
           60031915.61634869
          ],
          [
           6.4,
           110669469.74828646
          ],
          [
           6.6,
           256174713.2344629
          ],
          [
           7,
           156671152.13788122
          ],
          [
           6,
           9432136.625049911
          ],
          [
           6.2,
           61555384.6205153
          ],
          [
           6.9,
           107642329.27883393
          ],
          [
           7.8,
           295313880.71650636
          ],
          [
           6.9,
           70055925.29203053
          ],
          [
           5.4,
           7260229.49642244
          ],
          [
           5.2,
           535223.6763311143
          ],
          [
           4.8,
           4644085.529732764
          ],
          [
           4.9,
           10618694.512043804
          ],
          [
           6.6,
           119031432.12218568
          ],
          [
           6,
           9502448.92304376
          ],
          [
           5.4,
           16337312.953557394
          ],
          [
           5,
           1663561.9381229058
          ],
          [
           5.5,
           3994839.337995138
          ],
          [
           6.2,
           10750837.78187962
          ],
          [
           6.2,
           54561341.51877893
          ],
          [
           6.1,
           44507038.045386195
          ],
          [
           6.6,
           126821287.18424982
          ],
          [
           7,
           4056521.734264859
          ],
          [
           7.8,
           6688965.192070188
          ],
          [
           5.9,
           81324527.92039612
          ],
          [
           4.8,
           17282816.800385475
          ],
          [
           5.5,
           11349532.83899564
          ],
          [
           6.9,
           60320811.93476835
          ],
          [
           5.4,
           43827384.09816665
          ],
          [
           5.4,
           68720313.132369
          ],
          [
           4.2,
           1152235.8471961915
          ],
          [
           5.3,
           5288710.252168883
          ],
          [
           7.8,
           15192791.485100891
          ],
          [
           6.9,
           1144332.723097209
          ],
          [
           7.9,
           16657059.182564748
          ],
          [
           7.6,
           57765709.98346733
          ],
          [
           5.7,
           155782545.96289474
          ],
          [
           5,
           1816221.3205556944
          ],
          [
           6.1,
           16603221.376823304
          ],
          [
           5.1,
           5957719.094138399
          ],
          [
           5.6,
           7402194.395554766
          ],
          [
           7.3,
           283053978.2202929
          ],
          [
           6.1,
           8073792.594602615
          ],
          [
           4.9,
           17735316.015469074
          ],
          [
           4,
           13032959.575114608
          ],
          [
           5.5,
           12393173.68660944
          ],
          [
           5.7,
           23334670.3129688
          ],
          [
           4.2,
           3973011.3989812434
          ],
          [
           7.9,
           19499962.893572785
          ],
          [
           5.3,
           7229436.077297234
          ],
          [
           4.9,
           7366808.771686003
          ],
          [
           6.6,
           103139848.13041204
          ],
          [
           5.5,
           27573524.063331
          ],
          [
           6.3,
           27055379.361858163
          ],
          [
           6.5,
           91493662.71887976
          ],
          [
           5.7,
           28285661.018201277
          ],
          [
           5.9,
           56157505.110847786
          ],
          [
           6.9,
           65496734.19225583
          ],
          [
           6.5,
           98914508.24836896
          ],
          [
           5,
           9630787.940177144
          ],
          [
           5.7,
           26450806.76860693
          ],
          [
           5.9,
           11474777.222114
          ],
          [
           5.6,
           19931144.76406158
          ],
          [
           6.6,
           32196672.37279065
          ],
          [
           6.1,
           2379906.8754325304
          ],
          [
           5.8,
           1267576.6634505787
          ],
          [
           6.5,
           168661943.5072519
          ],
          [
           5,
           6607659.571524441
          ],
          [
           5.4,
           3371825.31835657
          ],
          [
           6.5,
           190777706.0948456
          ],
          [
           6.3,
           13935533.079754468
          ],
          [
           6.4,
           76553674.61625649
          ],
          [
           5.1,
           15380888.401508152
          ],
          [
           4.8,
           7955696.859401703
          ],
          [
           6.9,
           27105766.182317976
          ],
          [
           5.4,
           12710099.370817766
          ],
          [
           6,
           32166989.766985223
          ],
          [
           4.4,
           4332549.354274094
          ],
          [
           6.3,
           55552624.23854207
          ],
          [
           6.9,
           112142987.17378004
          ],
          [
           6.8,
           75684481.47636312
          ],
          [
           3.2,
           5001388.235387802
          ],
          [
           5.6,
           6983626.950287468
          ],
          [
           6.4,
           21572014.91069226
          ],
          [
           5.6,
           2545507.988833347
          ],
          [
           5.8,
           16837906.274158016
          ],
          [
           8.2,
           695471429.7120726
          ],
          [
           7.1,
           141690700.14953372
          ],
          [
           6.1,
           33386608.56750455
          ],
          [
           6.5,
           30131915.054515447
          ],
          [
           5,
           4366426.746886134
          ],
          [
           5.5,
           28325966.27419487
          ],
          [
           5,
           3786672.7644705777
          ],
          [
           5.3,
           6527070.055669319
          ],
          [
           5.8,
           37313467.2602185
          ],
          [
           6,
           45668700.11244613
          ],
          [
           5.6,
           3776663.386613159
          ],
          [
           6.3,
           75301254.43144673
          ],
          [
           7.5,
           285856045.0041837
          ],
          [
           7.1,
           42063356.93263966
          ],
          [
           5.9,
           85538866.43119672
          ],
          [
           4.5,
           21172698.310176138
          ],
          [
           4.6,
           5107472.761556506
          ],
          [
           5.2,
           9700111.77689292
          ],
          [
           6.4,
           65744367.52542375
          ],
          [
           6.9,
           122137191.24588896
          ],
          [
           5.9,
           18886945.514410235
          ],
          [
           6.3,
           53932089.853008375
          ],
          [
           6.9,
           119210751.06978483
          ],
          [
           6.1,
           14279281.702313287
          ],
          [
           7.5,
           393722471.272991
          ],
          [
           6,
           49069288.08268159
          ],
          [
           5.5,
           8159893.724826314
          ],
          [
           5.2,
           5388590.949028781
          ],
          [
           6.4,
           114863755.64618053
          ],
          [
           7.2,
           156139552.99148315
          ],
          [
           7.5,
           19843082.624202564
          ],
          [
           6.1,
           7984201.594214755
          ],
          [
           6,
           6079158.731637782
          ],
          [
           6.7,
           12794146.071218168
          ],
          [
           6.3,
           10223589.474759318
          ],
          [
           4.9,
           4113563.392482955
          ],
          [
           7.3,
           113931923.00789776
          ],
          [
           5.7,
           22523333.454379104
          ],
          [
           5.4,
           9064.918688327074
          ],
          [
           5.5,
           40626134.7731522
          ],
          [
           6.6,
           24116995.01279669
          ],
          [
           4.7,
           3617221.911325936
          ],
          [
           5,
           3590943.592311629
          ],
          [
           5.2,
           12400648.014503136
          ],
          [
           2.1,
           146270.5114296358
          ],
          [
           2.1,
           146270.5114296358
          ],
          [
           2.1,
           146270.5114296358
          ],
          [
           2.1,
           146270.5114296358
          ],
          [
           4.1,
           4272237.719159842
          ],
          [
           5.4,
           16464100.04361935
          ],
          [
           6.2,
           108833464.39586043
          ],
          [
           4.9,
           3912641.121176005
          ],
          [
           5.9,
           2253773.1494106203
          ],
          [
           5.3,
           20223691.20849675
          ],
          [
           5,
           14404760.573916554
          ],
          [
           5.7,
           33403274.269907273
          ],
          [
           5.3,
           50816529.77903243
          ],
          [
           5.3,
           8525582.500887355
          ],
          [
           4.9,
           3443127.695028711
          ],
          [
           5.3,
           65898047.36833535
          ],
          [
           5.9,
           20677038.691924393
          ],
          [
           6.8,
           81473221.67893253
          ],
          [
           4.8,
           14126182.136419296
          ],
          [
           4.9,
           24544640.054084808
          ],
          [
           4.8,
           5036043.519570136
          ],
          [
           5.8,
           112259542.90457796
          ],
          [
           5.1,
           46842907.6928314
          ],
          [
           5,
           6717873.393041074
          ],
          [
           5.2,
           59791167.03767809
          ],
          [
           5.6,
           31969890.872340273
          ],
          [
           5.7,
           22606595.99311086
          ],
          [
           0,
           89035679.80436069
          ],
          [
           3.7,
           433076.0688486695
          ],
          [
           3.9,
           2245678.9646899104
          ],
          [
           3.1,
           1457928.449447155
          ],
          [
           6.7,
           23506937.96422749
          ],
          [
           6.4,
           16175918.350662006
          ],
          [
           6.1,
           3781939.959193693
          ],
          [
           6.8,
           23319437.100807063
          ],
          [
           5.6,
           30526951.293301865
          ],
          [
           3.6,
           1772786.6356554031
          ],
          [
           3.8,
           2773088.4672260284
          ],
          [
           6.7,
           103124786.4470192
          ],
          [
           5,
           3544968.4572746456
          ],
          [
           7.5,
           174504088.9711343
          ],
          [
           5.4,
           13529463.54921534
          ],
          [
           5.6,
           11500093.359248592
          ],
          [
           6.8,
           47189904.14651527
          ],
          [
           7.3,
           105038659.90102255
          ],
          [
           6.9,
           179049674.23674446
          ],
          [
           6.5,
           12246387.956353396
          ],
          [
           5,
           1148111.960737154
          ],
          [
           5,
           1140586.3651048243
          ],
          [
           7.1,
           79545923.7106275
          ],
          [
           7,
           42752161.18952766
          ],
          [
           8,
           257434810.8922681
          ],
          [
           5.5,
           6917351.391421892
          ],
          [
           6.1,
           55633473.62012518
          ],
          [
           5.9,
           35828876.53761563
          ],
          [
           6.1,
           62325906.02054481
          ],
          [
           5.6,
           22090726.863083657
          ],
          [
           5.8,
           30782864.75645238
          ],
          [
           6,
           10020222.72373061
          ],
          [
           6.4,
           47075038.52953562
          ],
          [
           6.6,
           56630391.49352468
          ],
          [
           6.5,
           51541167.95859906
          ],
          [
           5.9,
           34397746.85307917
          ],
          [
           6.8,
           69526523.79359066
          ],
          [
           7.2,
           15531267.549544236
          ],
          [
           7.6,
           16827079.659504425
          ],
          [
           6.6,
           57879361.1876914
          ],
          [
           5.2,
           5478690.561497053
          ],
          [
           5.6,
           11326049.754993448
          ],
          [
           6.4,
           58126785.72147841
          ],
          [
           6.4,
           103872817.82947417
          ],
          [
           5.3,
           5801647.214937019
          ],
          [
           5.8,
           20178679.56518101
          ],
          [
           5.7,
           34430006.33470198
          ],
          [
           5.6,
           141143516.14232057
          ],
          [
           4.8,
           4565080.678939896
          ],
          [
           6.4,
           18213522.318477623
          ],
          [
           6,
           10311544.656744888
          ],
          [
           5.3,
           715052.6284486746
          ],
          [
           5.2,
           18606614.15089566
          ],
          [
           6.7,
           155565780.0057282
          ],
          [
           6,
           34259333.868745714
          ],
          [
           5.9,
           20405475.585319653
          ],
          [
           5.4,
           12973066.72377162
          ],
          [
           7.7,
           327431066.660398
          ],
          [
           5,
           64223103.90601921
          ],
          [
           0,
           87791289.69618133
          ],
          [
           6.4,
           23155136.714323483
          ],
          [
           6.6,
           104817023.03030582
          ],
          [
           7,
           206244088.55817357
          ],
          [
           4.6,
           12733188.099439384
          ],
          [
           4.5,
           613960.3407887109
          ],
          [
           7.4,
           209132112.77316865
          ],
          [
           7,
           11377058.194115749
          ],
          [
           6.6,
           109825181.33834933
          ],
          [
           6.7,
           20698547.733843975
          ]
         ],
         "geo": "geo",
         "hovertemplate": "<b>%{hovertext}</b><br><br>Latitude=%{lat}<br>Longitude=%{lon}<br>Mag=%{marker.color}<br>pop_total=%{customdata[1]}<extra></extra>",
         "hovertext": [
          "CHINA",
          "CHINA",
          "CHINA",
          "CHINA",
          "IRAN",
          "JAPAN",
          "JAPAN",
          "JAPAN",
          "JAPAN",
          "JAPAN",
          "GREECE",
          "INDONESIA",
          "INDONESIA",
          "INDONESIA",
          "INDONESIA",
          "TURKEY",
          "TURKEY",
          "TURKEY",
          "TAIWAN",
          "TAIWAN",
          "ICELAND",
          "ICELAND",
          "AUSTRALIA",
          "NICARAGUA",
          "PHILIPPINES",
          "TANZANIA",
          "PAPUA NEW GUINEA",
          "PAPUA NEW GUINEA",
          "PAPUA NEW GUINEA",
          "AZERBAIJAN",
          "TURKMENISTAN",
          "PHILIPPINES",
          "INDIA",
          "EL SALVADOR",
          "EL SALVADOR",
          "CHINA",
          "CHINA",
          "CHINA",
          "CHINA",
          "CHINA",
          "JAPAN",
          "AFGHANISTAN",
          "PERU",
          "PERU",
          "PERU",
          "PERU",
          "TURKEY",
          "GREECE",
          "CANADA",
          "INDONESIA",
          "TAIWAN",
          "BANGLADESH",
          "TAJIKISTAN",
          "TAJIKISTAN",
          "PAPUA NEW GUINEA",
          "PAPUA NEW GUINEA",
          "CHILE",
          "CHILE",
          "CHILE",
          "RWANDA",
          "MEXICO",
          "MEXICO",
          "MEXICO",
          "TURKEY",
          "IRAN",
          "IRAN",
          "IRAN",
          "IRAN",
          "IRAN",
          "IRAN",
          "AFGHANISTAN",
          "AFGHANISTAN",
          "AFGHANISTAN",
          "PHILIPPINES",
          "JAPAN",
          "TAIWAN",
          "GEORGIA",
          "TANZANIA",
          "ARGENTINA",
          "BANGLADESH",
          "GERMANY",
          "PANAMA",
          "CHINA",
          "CHINA",
          "CHINA",
          "INDONESIA",
          "INDONESIA",
          "INDONESIA",
          "INDONESIA",
          "EGYPT",
          "KYRGYZSTAN",
          "ITALY",
          "ITALY",
          "ITALY",
          "INDIA",
          "UNITED KINGDOM",
          "FRANCE",
          "CONGO",
          "PAKISTAN",
          "PAKISTAN",
          "GREECE",
          "IRAN",
          "IRAN",
          "IRAN",
          "IRAN",
          "IRAN",
          "SOLOMON ISLANDS",
          "MEXICO",
          "INDONESIA",
          "INDONESIA",
          "INDONESIA",
          "INDONESIA",
          "INDONESIA",
          "INDONESIA",
          "ITALY",
          "ITALY",
          "ITALY",
          "TURKEY",
          "TURKEY",
          "TURKEY",
          "TURKEY",
          "TURKEY",
          "CHINA",
          "CHINA",
          "CHINA",
          "CHINA",
          "CHINA",
          "CHINA",
          "CHINA",
          "CHINA",
          "CHINA",
          "CHINA",
          "CHINA",
          "CHINA",
          "CHINA",
          "CHINA",
          "PHILIPPINES",
          "PHILIPPINES",
          "PHILIPPINES",
          "FRANCE",
          "GERMANY",
          "BHUTAN",
          "ALGERIA",
          "ALGERIA",
          "JAPAN",
          "JAPAN",
          "JAPAN",
          "JAPAN",
          "JAPAN",
          "JAPAN",
          "GREECE",
          "GREECE",
          "CHILE",
          "BANGLADESH",
          "PANAMA",
          "NEW ZEALAND",
          "NEW ZEALAND",
          "DOMINICAN REPUBLIC",
          "DOMINICAN REPUBLIC",
          "TAIWAN",
          "BULGARIA",
          "INDONESIA",
          "INDONESIA",
          "INDONESIA",
          "INDONESIA",
          "INDONESIA",
          "INDONESIA",
          "INDONESIA",
          "INDONESIA",
          "INDONESIA",
          "INDONESIA",
          "INDONESIA",
          "INDONESIA",
          "MEXICO",
          "SLOVAKIA",
          "ALGERIA",
          "ALGERIA",
          "ALGERIA",
          "IRAN",
          "IRAN",
          "IRAN",
          "IRAN",
          "IRAN",
          "IRAN",
          "JORDAN",
          "PAKISTAN",
          "PAKISTAN",
          "BURUNDI",
          "MOROCCO",
          "GREECE",
          "GREECE",
          "CHINA",
          "CHINA",
          "CHINA",
          "CHINA",
          "CHINA",
          "TURKEY",
          "TURKEY",
          "TURKEY",
          "TURKEY",
          "TURKEY",
          "TURKEY",
          "TURKEY",
          "AFGHANISTAN",
          "AFGHANISTAN",
          "AFGHANISTAN",
          "TAIWAN",
          "TAIWAN",
          "CHILE",
          "CHILE",
          "PHILIPPINES",
          "SAUDI ARABIA",
          "SLOVENIA",
          "NEW ZEALAND",
          "NEW ZEALAND",
          "JAPAN",
          "JAPAN",
          "JAPAN",
          "JAPAN",
          "JAPAN",
          "JAPAN",
          "JAPAN",
          "JAPAN",
          "ARGENTINA",
          "POLAND",
          "NICARAGUA",
          "ROMANIA",
          "CANADA",
          "COLOMBIA",
          "COSTA RICA",
          "ITALY",
          "GERMANY",
          "INDIA",
          "AUSTRALIA",
          "IRAN",
          "IRAN",
          "IRAN",
          "IRAN",
          "IRAN",
          "JAPAN",
          "JAPAN",
          "JAPAN",
          "JAPAN",
          "JAPAN",
          "NEW ZEALAND",
          "INDONESIA",
          "INDONESIA",
          "INDONESIA",
          "INDONESIA",
          "INDONESIA",
          "INDONESIA",
          "INDONESIA",
          "ECUADOR",
          "ECUADOR",
          "CHINA",
          "CHINA",
          "CHINA",
          "CHINA",
          "CHINA",
          "CHINA",
          "CHINA",
          "TURKEY",
          "TURKEY",
          "TURKEY",
          "TURKEY",
          "TURKEY",
          "TURKEY",
          "TURKEY",
          "SPAIN",
          "INDIA",
          "INDIA",
          "INDIA",
          "INDIA",
          "INDIA",
          "INDIA",
          "INDIA",
          "INDIA",
          "PAKISTAN",
          "PAKISTAN",
          "SOUTH AFRICA",
          "SOUTH AFRICA",
          "SOUTH AFRICA",
          "SOUTH AFRICA",
          "CHILE",
          "CHILE",
          "ALBANIA",
          "PAPUA NEW GUINEA",
          "ETHIOPIA",
          "PERU",
          "PERU",
          "PERU",
          "CONGO",
          "AFGHANISTAN",
          "JAPAN",
          "JAPAN",
          "JAPAN",
          "GREECE",
          "GREECE",
          "INDONESIA",
          "INDONESIA",
          "INDONESIA",
          "INDONESIA",
          "INDONESIA",
          "INDONESIA",
          "INDONESIA",
          "INDONESIA",
          "INDONESIA",
          "INDONESIA",
          "INDIA",
          "INDIA",
          "INDIA",
          "INDIA",
          "MOZAMBIQUE",
          "BHUTAN",
          "IRAN",
          "IRAN",
          "IRAN",
          "IRAN",
          "IRAN",
          "PAKISTAN",
          "PAKISTAN",
          "ALGERIA",
          "CHINA",
          "CHINA",
          "CHINA",
          "CHINA",
          "CHINA",
          "CHINA",
          "CHINA",
          "CHINA",
          "TAIWAN",
          "TAIWAN",
          "PANAMA",
          "TURKEY",
          "MALAWI",
          "ALBANIA",
          "TAJIKISTAN",
          "TAJIKISTAN",
          "ARGENTINA",
          "FRANCE",
          "FRANCE",
          "PERU",
          "HUNGARY",
          "HUNGARY",
          "SWITZERLAND",
          "THAILAND",
          "KYRGYZSTAN",
          "KYRGYZSTAN",
          "CHINA",
          "CHINA",
          "CHINA",
          "CHINA",
          "TURKEY",
          "TURKEY",
          "TURKEY",
          "TURKEY",
          "INDONESIA",
          "INDONESIA",
          "INDONESIA",
          "INDONESIA",
          "INDONESIA",
          "INDONESIA",
          "INDONESIA",
          "INDONESIA",
          "INDONESIA",
          "PHILIPPINES",
          "PHILIPPINES",
          "COLOMBIA",
          "COLOMBIA",
          "IRAN",
          "IRAN",
          "IRAN",
          "IRAN",
          "JAPAN",
          "JAPAN",
          "JAPAN",
          "JAPAN",
          "GREECE",
          "SOLOMON ISLANDS",
          "SOLOMON ISLANDS",
          "MEXICO",
          "ALBANIA",
          "CHILE",
          "CHILE",
          "CHILE",
          "UNITED KINGDOM",
          "GUATEMALA",
          "ECUADOR",
          "TAJIKISTAN",
          "INDIA",
          "INDIA",
          "INDIA",
          "INDIA",
          "PERU",
          "NEW ZEALAND",
          "NEW ZEALAND",
          "NEW ZEALAND",
          "PAKISTAN",
          "BANGLADESH",
          "BRAZIL",
          "KYRGYZSTAN",
          "KYRGYZSTAN",
          "GUATEMALA",
          "GUATEMALA",
          "INDONESIA",
          "INDONESIA",
          "INDONESIA",
          "INDONESIA",
          "INDONESIA",
          "INDONESIA",
          "ALGERIA",
          "ALGERIA",
          "CONGO",
          "INDIA",
          "INDIA",
          "INDIA",
          "INDIA",
          "MEXICO",
          "IRAN",
          "IRAN",
          "IRAN",
          "IRAN",
          "IRAN",
          "RWANDA",
          "UNITED KINGDOM",
          "BRAZIL",
          "BRAZIL",
          "CHINA",
          "CHINA",
          "CHINA",
          "CHINA",
          "CHINA",
          "CHINA",
          "CHINA",
          "CHINA",
          "CHINA",
          "CHINA",
          "CHINA",
          "CHINA",
          "CHINA",
          "CHINA",
          "CHINA",
          "PERU",
          "PERU",
          "PERU",
          "JAPAN",
          "JAPAN",
          "JAPAN",
          "JAPAN",
          "JAPAN",
          "COLOMBIA",
          "ICELAND",
          "GREECE",
          "VENEZUELA",
          "PHILIPPINES",
          "NEW ZEALAND",
          "TURKEY",
          "PAKISTAN",
          "PAKISTAN",
          "PANAMA",
          "ARGENTINA",
          "PAPUA NEW GUINEA",
          "PAPUA NEW GUINEA",
          "COSTA RICA",
          "PERU",
          "INDONESIA",
          "INDONESIA",
          "INDONESIA",
          "INDONESIA",
          "INDONESIA",
          "INDONESIA",
          "INDONESIA",
          "CHINA",
          "CHINA",
          "CHINA",
          "CHINA",
          "CHINA",
          "CHINA",
          "INDIA",
          "INDIA",
          "INDIA",
          "INDIA",
          "INDIA",
          "NICARAGUA",
          "ITALY",
          "ITALY",
          "AFGHANISTAN",
          "AFGHANISTAN",
          "SAUDI ARABIA",
          "SAUDI ARABIA",
          "HONDURAS",
          "KAZAKHSTAN",
          "GREECE",
          "PANAMA",
          "NEW ZEALAND",
          "JAPAN",
          "JAPAN",
          "GEORGIA",
          "VENEZUELA",
          "VENEZUELA",
          "PHILIPPINES",
          "BHUTAN",
          "BHUTAN",
          "BHUTAN",
          "AUSTRALIA",
          "SOLOMON ISLANDS",
          "ECUADOR",
          "IRAN",
          "SOUTH AFRICA",
          "SOUTH AFRICA",
          "SOUTH AFRICA",
          "SOUTH AFRICA",
          "MALAWI",
          "MALAWI",
          "TAIWAN",
          "MEXICO",
          "TAJIKISTAN",
          "SOLOMON ISLANDS",
          "SOLOMON ISLANDS",
          "SOLOMON ISLANDS",
          "INDONESIA",
          "INDONESIA",
          "INDONESIA",
          "INDONESIA",
          "INDONESIA",
          "HAITI",
          "VENEZUELA",
          "IRAN",
          "IRAN",
          "IRAN",
          "IRAN",
          "IRAN",
          "IRAN",
          "IRAN",
          "CHINA",
          "CHINA",
          "CHINA",
          "CHINA",
          "CHINA",
          "JAPAN",
          "JAPAN",
          "CHILE",
          "CHILE",
          "ARGENTINA",
          "TAIWAN",
          "TURKEY",
          "INDIA",
          "INDIA",
          "INDIA",
          "INDIA",
          "INDIA",
          "MEXICO",
          "MEXICO",
          "AFGHANISTAN",
          "AUSTRALIA",
          "PERU",
          "ALGERIA",
          "PUERTO RICO",
          "CANADA",
          "PHILIPPINES",
          "ECUADOR",
          "NEW ZEALAND",
          "NEW ZEALAND",
          "NEW ZEALAND",
          "NEW ZEALAND",
          "NEW ZEALAND",
          "BANGLADESH",
          "PAKISTAN",
          "PAKISTAN",
          "ETHIOPIA",
          "IRAN",
          "PAKISTAN",
          "CHINA",
          "CHINA",
          "CHINA",
          "CHINA",
          "CHINA",
          "CHINA",
          "CHINA",
          "CHINA",
          "CHINA",
          "CHINA",
          "CHILE",
          "NEW ZEALAND",
          "NEW ZEALAND",
          "NEW ZEALAND",
          "NEW ZEALAND",
          "NEW ZEALAND",
          "PHILIPPINES",
          "PHILIPPINES",
          "JAPAN",
          "JAPAN",
          "JAPAN",
          "JAPAN",
          "JAPAN",
          "JAPAN",
          "JAPAN",
          "MYANMAR",
          "INDONESIA",
          "INDONESIA",
          "SPAIN",
          "TURKEY",
          "TURKEY",
          "TURKEY",
          "UZBEKISTAN",
          "INDIA",
          "INDIA",
          "INDIA",
          "INDIA",
          "INDIA",
          "GUATEMALA",
          "PERU",
          "ECUADOR",
          "MEXICO",
          "IRAN",
          "IRAN",
          "IRAN",
          "IRAN",
          "IRAN",
          "PERU",
          "PHILIPPINES",
          "PHILIPPINES",
          "PHILIPPINES",
          "PHILIPPINES",
          "TAIWAN",
          "CHINA",
          "CHINA",
          "CHINA",
          "CHINA",
          "CHINA",
          "CHINA",
          "JAPAN",
          "JAPAN",
          "MEXICO",
          "CHILE",
          "CHILE",
          "CHILE",
          "INDONESIA",
          "INDONESIA",
          "INDONESIA",
          "INDONESIA",
          "INDONESIA",
          "AZERBAIJAN",
          "INDIA",
          "INDIA",
          "TAJIKISTAN",
          "BRAZIL",
          "ITALY",
          "ITALY",
          "ITALY",
          "BULGARIA",
          "TURKEY",
          "TURKEY",
          "AFGHANISTAN",
          "SOLOMON ISLANDS",
          "NICARAGUA",
          "COSTA RICA",
          "CANADA",
          "GUATEMALA",
          "INDONESIA",
          "INDONESIA",
          "INDONESIA",
          "INDONESIA",
          "INDONESIA",
          "SOLOMON ISLANDS",
          "SOLOMON ISLANDS",
          "COLOMBIA",
          "CHINA",
          "CHINA",
          "CHINA",
          "CHINA",
          "CHINA",
          "CHINA",
          "CHINA",
          "CHINA",
          "CHINA",
          "CHINA",
          "PERU",
          "PERU",
          "TAIWAN",
          "TAIWAN",
          "IRAN",
          "IRAN",
          "IRAN",
          "HONDURAS",
          "JAPAN",
          "JAPAN",
          "JAPAN",
          "MEXICO",
          "MEXICO",
          "AFGHANISTAN",
          "INDIA",
          "INDIA",
          "ALGERIA",
          "ALGERIA",
          "PHILIPPINES",
          "PHILIPPINES",
          "GREECE",
          "GREECE",
          "GREECE",
          "NEW ZEALAND",
          "NEW ZEALAND",
          "GUATEMALA",
          "PAKISTAN",
          "PAKISTAN",
          "TAJIKISTAN",
          "IRAN",
          "IRAN",
          "IRAN",
          "COLOMBIA",
          "PUERTO RICO",
          "NEW ZEALAND",
          "INDONESIA",
          "INDONESIA",
          "GREECE",
          "GREECE",
          "CHINA",
          "CHINA",
          "CHINA",
          "CHINA",
          "CHINA",
          "CHINA",
          "CHINA",
          "CHINA",
          "CHINA",
          "AUSTRALIA",
          "JAPAN",
          "JAPAN",
          "JAPAN",
          "CHILE",
          "CHILE",
          "CHILE",
          "CHILE",
          "NICARAGUA",
          "NICARAGUA",
          "PAPUA NEW GUINEA",
          "PAPUA NEW GUINEA",
          "SOLOMON ISLANDS",
          "SOLOMON ISLANDS",
          "MEXICO",
          "MEXICO",
          "MEXICO",
          "THAILAND",
          "PAKISTAN",
          "GERMANY",
          "ALBANIA",
          "ALGERIA",
          "ALGERIA",
          "SOUTH AFRICA",
          "SOUTH AFRICA",
          "SOUTH AFRICA",
          "SOUTH AFRICA",
          "ECUADOR",
          "PHILIPPINES",
          "PERU",
          "EL SALVADOR",
          "CHINA",
          "CHINA",
          "CHINA",
          "CHINA",
          "CHINA",
          "CHINA",
          "JAPAN",
          "JAPAN",
          "JAPAN",
          "JAPAN",
          "PAKISTAN",
          "PAKISTAN",
          "PERU",
          "COLOMBIA",
          "PAPUA NEW GUINEA",
          "PAPUA NEW GUINEA",
          "TAIWAN",
          "NEPAL",
          "NEPAL",
          "MALAYSIA",
          "INDIA",
          "PHILIPPINES",
          "SOLOMON ISLANDS",
          "SOLOMON ISLANDS",
          "SOLOMON ISLANDS",
          "INDONESIA",
          "INDONESIA",
          "INDONESIA",
          "RWANDA",
          "EL SALVADOR",
          "CHILE",
          "CHILE",
          "ARGENTINA",
          "AFGHANISTAN",
          "VENEZUELA",
          "VENEZUELA",
          "GREECE",
          "KYRGYZSTAN",
          "TAJIKISTAN",
          "MEXICO",
          "INDIA",
          "INDIA",
          "INDONESIA",
          "INDONESIA",
          "INDONESIA",
          "INDONESIA",
          "INDONESIA",
          "INDONESIA",
          "MOROCCO",
          "TAIWAN",
          "AFGHANISTAN",
          "JAPAN",
          "JAPAN",
          "JAPAN",
          "JAPAN",
          "ECUADOR",
          "ECUADOR",
          "ECUADOR",
          "CHINA",
          "CHINA",
          "CHINA",
          "CHINA",
          "CHINA",
          "ALGERIA",
          "TAJIKISTAN",
          "PERU",
          "PERU",
          "ITALY",
          "ITALY",
          "ITALY",
          "NEW ZEALAND",
          "NEW ZEALAND",
          "TANZANIA",
          "RWANDA",
          "NICARAGUA",
          "NICARAGUA",
          "PAKISTAN",
          "NEPAL",
          "POLAND",
          "COSTA RICA",
          "SOLOMON ISLANDS",
          "SOLOMON ISLANDS",
          "PAPUA NEW GUINEA",
          "CHILE",
          "INDIA",
          "IRAN",
          "IRAN",
          "IRAN",
          "IRAN",
          "IRAN",
          "IRAN",
          "IRAN",
          "IRAN",
          "MADAGASCAR",
          "ITALY",
          "ITALY",
          "PAPUA NEW GUINEA",
          "TURKEY",
          "TURKEY",
          "TURKEY",
          "COLOMBIA",
          "PAKISTAN",
          "PHILIPPINES",
          "PHILIPPINES",
          "PHILIPPINES",
          "PHILIPPINES",
          "PHILIPPINES",
          "PHILIPPINES",
          "PHILIPPINES",
          "ZAMBIA",
          "INDONESIA",
          "INDONESIA",
          "INDONESIA",
          "INDONESIA",
          "INDONESIA",
          "CHINA",
          "CHINA",
          "CHINA",
          "CHINA",
          "CHINA",
          "CHINA",
          "EL SALVADOR",
          "CHILE",
          "CHILE",
          "KYRGYZSTAN",
          "TANZANIA",
          "GREECE",
          "GUATEMALA",
          "GUATEMALA",
          "NEPAL",
          "MOZAMBIQUE",
          "PERU",
          "PERU",
          "PERU",
          "MEXICO",
          "MEXICO",
          "MEXICO",
          "COSTA RICA",
          "IRAN",
          "IRAN",
          "IRAN",
          "IRAN",
          "IRAN",
          "IRAN",
          "IRAN",
          "IRAN",
          "HONDURAS",
          "PERU",
          "INDONESIA",
          "INDONESIA",
          "INDONESIA",
          "INDONESIA",
          "INDONESIA",
          "INDONESIA",
          "INDONESIA",
          "INDONESIA",
          "INDONESIA",
          "INDONESIA",
          "INDONESIA",
          "INDONESIA",
          "INDONESIA",
          "ECUADOR",
          "TAIWAN",
          "MEXICO",
          "PAPUA NEW GUINEA",
          "PAPUA NEW GUINEA",
          "PAPUA NEW GUINEA",
          "PAPUA NEW GUINEA",
          "PAPUA NEW GUINEA",
          "VENEZUELA",
          "VENEZUELA",
          "JAPAN",
          "JAPAN",
          "JAPAN",
          "JAPAN",
          "ITALY",
          "ITALY",
          "TURKEY",
          "SOUTH AFRICA",
          "SOUTH AFRICA",
          "SOUTH AFRICA",
          "SOUTH AFRICA",
          "POLAND",
          "EL SALVADOR",
          "AFGHANISTAN",
          "AFGHANISTAN",
          "COMOROS",
          "CHINA",
          "CHINA",
          "CHINA",
          "CHINA",
          "AZERBAIJAN",
          "COLOMBIA",
          "INDIA",
          "HAITI",
          "GREECE",
          "CHINA",
          "CHINA",
          "CHINA",
          "CHINA",
          "CHINA",
          "CHINA",
          "CHINA",
          "IRAN",
          "IRAN",
          "IRAN",
          "POLAND",
          "POLAND",
          "POLAND",
          "CHILE",
          "CHILE",
          "CHILE",
          "CHILE",
          "COLOMBIA",
          "INDIA",
          "INDIA",
          "MEXICO",
          "AZERBAIJAN",
          "ECUADOR",
          "INDONESIA",
          "INDONESIA",
          "INDONESIA",
          "INDONESIA",
          "INDONESIA",
          "INDONESIA",
          "INDONESIA",
          "INDONESIA",
          "INDONESIA",
          "PERU",
          "PERU",
          "TANZANIA",
          "TAIWAN",
          "TAIWAN",
          "PHILIPPINES",
          "PHILIPPINES",
          "PHILIPPINES",
          "PHILIPPINES",
          "PHILIPPINES",
          "PHILIPPINES",
          "PHILIPPINES",
          "PHILIPPINES",
          "PHILIPPINES",
          "PAPUA NEW GUINEA",
          "PAPUA NEW GUINEA",
          "EL SALVADOR",
          "ALBANIA",
          "ALBANIA",
          "ALBANIA",
          "JAPAN",
          "GREECE",
          "TURKEY",
          "TURKEY",
          "PAKISTAN",
          "FRANCE",
          "PUERTO RICO",
          "CHINA",
          "CHINA",
          "CHINA",
          "TURKEY",
          "TURKEY",
          "TURKEY",
          "TURKEY",
          "CUBA",
          "INDONESIA",
          "INDONESIA",
          "INDONESIA",
          "GREECE",
          "GREECE",
          "IRAN",
          "PERU",
          "MEXICO",
          "PAPUA NEW GUINEA",
          "PHILIPPINES",
          "CHILE"
         ],
         "lat": [
          40.498,
          25.607,
          26.856,
          25.826,
          35.288,
          22.338,
          34.221,
          34.319,
          33.901,
          35.456,
          34.22,
          -1.105,
          -4.721,
          -4.612,
          -6.675,
          38.164,
          40.693,
          38.457,
          24.223,
          23.843,
          63.966,
          63.98,
          -13.802,
          11.884,
          20.253,
          -7.977,
          -4.001,
          -5.233,
          -5.496,
          40.245,
          39.566,
          6.898,
          23.388,
          13.671,
          13.605,
          29.513,
          27.689,
          24.455,
          26.316,
          35.946,
          34.083,
          35.169,
          -16.265,
          -16.086,
          -17.543,
          -14.258,
          37.238,
          39.059,
          52.63,
          -4.102,
          23.954,
          23.632,
          38.673,
          38.773,
          -3.212,
          -3.26,
          -19.384,
          -29.67,
          -27.535,
          -1.684,
          18.194,
          32.319,
          16.87,
          38.573,
          28.093,
          34.642,
          35.626,
          35.701,
          31.995,
          34.594,
          36.502,
          36.062,
          35.704,
          6.033,
          23.346,
          24.279,
          41.765,
          -2.907,
          -28.937,
          25.842,
          50.889,
          7.929,
          30.916,
          39.736,
          39.57,
          -1.196,
          -1.68,
          -1.757,
          2.824,
          30.2,
          39.77,
          38.381,
          37.67,
          41.789,
          13.036,
          52.52,
          47.832,
          -1.884,
          35.517,
          35.414,
          37.747,
          29.59,
          35.476,
          28.355,
          31.953,
          28.995,
          -10.491,
          18.77,
          -8.807,
          -6.983,
          -8.294,
          2.354,
          1.142,
          -8.137,
          43.883,
          44.792,
          44.329,
          39.5,
          38.221,
          39.007,
          38.111,
          38.019,
          43.897,
          39.61,
          39.483,
          37.529,
          39.43,
          25.975,
          43.77,
          29.573,
          25.954,
          38.4,
          34.712,
          27.372,
          27.283,
          42.905,
          12.171,
          12.168,
          12.025,
          48.342,
          48.21,
          27.264,
          36.964,
          36.939,
          38.849,
          38.432,
          34.998,
          41.815,
          35.457,
          37.812,
          39.893,
          39.16,
          -30.608,
          22.854,
          9.355,
          -45.104,
          -43.34,
          19.777,
          19.761,
          23.039,
          43.083,
          -8.31,
          -3.12,
          -3.615,
          -4.003,
          -0.466,
          -1.559,
          -1.549,
          -8.669,
          -9.362,
          -8.152,
          -3.609,
          3.295,
          17.488,
          48.758,
          36.852,
          36.848,
          36.865,
          27.695,
          29.881,
          36.29,
          37.125,
          32.023,
          33.297,
          31.675,
          34.774,
          30.126,
          -3.393,
          35.142,
          37.136,
          35.945,
          45.382,
          37.506,
          27.266,
          34.682,
          25.073,
          39.93,
          39.847,
          39.766,
          39.634,
          36.833,
          38.377,
          37.042,
          36.512,
          34.89,
          33.426,
          24.081,
          24.53,
          -37.695,
          -38.854,
          9.926,
          27.836,
          46.296,
          -38,
          -46.676,
          33.07,
          33.184,
          37.226,
          37.284,
          37.396,
          43.006,
          42.9,
          44.119,
          -28.573,
          54.841,
          11.989,
          45.787,
          49.277,
          4.695,
          9.602,
          45.626,
          48.115,
          24.757,
          -49.312,
          37.103,
          30.754,
          27.095,
          28.85,
          26.774,
          34.064,
          33.807,
          35.498,
          38.276,
          38.107,
          -41.223,
          -1.198,
          -7.037,
          2.085,
          -1.644,
          1.819,
          -1.174,
          -9.948,
          -1.364,
          -0.507,
          22.526,
          41.728,
          46.827,
          26.569,
          23.627,
          23.604,
          29.695,
          37.622,
          39.44,
          39.354,
          39.437,
          38.152,
          38.26,
          38.804,
          37.91,
          24.55,
          17.145,
          17.072,
          7.92,
          17.398,
          30.924,
          17.067,
          30.476,
          30.378,
          34.451,
          -26.913,
          -26.913,
          -26.913,
          -26.913,
          -19.987,
          -19.78,
          42.389,
          -4.539,
          12.471,
          -5.678,
          -16.635,
          -5.852,
          -6.224,
          36.357,
          31.394,
          33.129,
          29.351,
          36.311,
          37.64,
          -5.473,
          -3.595,
          3.462,
          -5.575,
          -7.961,
          -9.254,
          -3.728,
          2.52,
          -8.251,
          0.626,
          27.382,
          23.777,
          23.322,
          26.88,
          -21.324,
          26.912,
          28.12,
          27.574,
          33.5,
          30.79,
          26.759,
          33.129,
          34.6,
          36.623,
          44.624,
          31.607,
          33.068,
          27.995,
          28.012,
          31.56,
          43.469,
          44.229,
          22.868,
          21.799,
          8.898,
          37.605,
          -14.52,
          40.27,
          37.255,
          38.246,
          -33.131,
          45.84,
          42.99,
          -13.457,
          48.195,
          47.449,
          47.58,
          18.901,
          42.156,
          39.803,
          37.021,
          33.259,
          23.028,
          42.913,
          39.592,
          38.318,
          39.417,
          39.446,
          1.065,
          -0.493,
          -1.065,
          2.872,
          -5.968,
          -7.783,
          -4.438,
          -2.625,
          -8.277,
          6.614,
          9.721,
          2.082,
          2.982,
          33.49,
          34.437,
          28.154,
          31.68,
          37.336,
          34.807,
          37.57,
          22.013,
          38.34,
          -8.466,
          -11.61,
          17.302,
          41.172,
          -45.243,
          -22.247,
          -32.689,
          51.085,
          13.554,
          -3.987,
          38.936,
          30.881,
          17.2,
          21.181,
          28.555,
          -13.386,
          -49.418,
          -44.785,
          -39.011,
          35.304,
          22.15,
          -15.048,
          40.288,
          39.533,
          14.129,
          13.564,
          -0.795,
          1.011,
          2.768,
          -2.486,
          -3.935,
          1.271,
          35.616,
          35.883,
          -2.296,
          23.433,
          23.33,
          24.702,
          17.438,
          32.456,
          31.73,
          33.86,
          35.5,
          26.743,
          26.99,
          -2.404,
          53.403,
          -3.7,
          -3.91,
          35.49,
          30.98,
          32.57,
          32.71,
          32.747,
          32.036,
          32.756,
          25.051,
          25.044,
          30.901,
          26.272,
          29.807,
          37.565,
          32.518,
          23.97,
          -12.178,
          -10.368,
          -15.986,
          36.158,
          39.03,
          37.552,
          39.802,
          41.892,
          4.33,
          64.004,
          37.963,
          10.514,
          12.897,
          -39.715,
          37.507,
          30.639,
          30.598,
          8.267,
          -32.938,
          -0.414,
          -0.691,
          10.165,
          -11.779,
          3.884,
          -1.479,
          -7.782,
          -9.138,
          -0.72,
          -2.515,
          -8.207,
          40.657,
          25.632,
          31.158,
          29.358,
          37.696,
          25.962,
          22.399,
          27.143,
          33.198,
          14.099,
          17.109,
          13.452,
          42.334,
          42.275,
          34.185,
          36.517,
          25.212,
          25.292,
          16.72,
          44.724,
          34.164,
          9.59,
          -45.762,
          34.743,
          34.921,
          42.66,
          10.705,
          10.434,
          6.513,
          27.332,
          27.262,
          27.319,
          -38.28,
          -12.517,
          -0.962,
          27.334,
          -26.414,
          -26.414,
          -26.414,
          -26.414,
          -9.948,
          -10.108,
          23.796,
          32.437,
          38.245,
          -8.743,
          -8.799,
          -9.019,
          -7.907,
          2.383,
          3.748,
          -2.174,
          -3.487,
          18.457,
          10.454,
          32.45,
          27.022,
          35.217,
          35.49,
          29.647,
          33.37,
          28.412,
          25.558,
          30.268,
          25.523,
          33.165,
          27.197,
          25.93,
          26.901,
          -36.122,
          -34.29,
          -24.872,
          22.918,
          38.864,
          13.667,
          30.099,
          7.881,
          13.197,
          29.872,
          32.297,
          16.396,
          35.633,
          -30.794,
          -18.058,
          35.9,
          18.4,
          45.88,
          6.486,
          -1.266,
          -43.522,
          -43.57,
          -40.433,
          -43.598,
          -43.55,
          23.407,
          33.869,
          30.178,
          7.521,
          30.16,
          28.777,
          24.693,
          24.719,
          31.373,
          43.015,
          25.075,
          32.447,
          24.932,
          39.955,
          43.648,
          38.31,
          -36.474,
          -43.583,
          -43.564,
          -29.539,
          -41.364,
          -43.49,
          9.457,
          7.904,
          38.435,
          38.297,
          36.281,
          38.058,
          38.276,
          37.001,
          38.034,
          20.687,
          -4.586,
          2.965,
          37.699,
          39.12,
          38.722,
          38.429,
          40.081,
          28.724,
          27.73,
          21.211,
          27.449,
          24.955,
          14.186,
          -14.438,
          -0.13,
          17.844,
          36.288,
          31.428,
          32.747,
          38.329,
          33.506,
          -14.168,
          9.999,
          12.354,
          10.037,
          10.811,
          22.661,
          39.383,
          27.767,
          43.433,
          32.978,
          27.575,
          40.411,
          40.887,
          37.89,
          16.493,
          -35.2,
          -32.625,
          -17.678,
          2.327,
          0.802,
          -7.692,
          2.707,
          -1.315,
          41.549,
          26.175,
          23.739,
          38.612,
          -16.764,
          44.89,
          44.831,
          44.851,
          42.645,
          36.42,
          37.294,
          36.023,
          -9.694,
          12.139,
          10.085,
          52.788,
          13.988,
          4.927,
          -8.305,
          4.645,
          -8.803,
          5.103,
          -10.799,
          -10.928,
          1.135,
          27.226,
          25.98,
          40.119,
          30.308,
          34.512,
          30.046,
          28.239,
          28.243,
          44.599,
          31.066,
          -15.748,
          -15.839,
          23.828,
          23.789,
          28.428,
          26.56,
          29.32,
          15.52,
          34.369,
          33.958,
          37.156,
          18.081,
          16.878,
          34.526,
          33.061,
          33.297,
          36.703,
          36.534,
          7.275,
          9.88,
          34.4,
          38.689,
          35.514,
          -41.704,
          -41.734,
          14.606,
          26.951,
          27.183,
          38.41,
          27.15,
          26.589,
          32.703,
          4.557,
          19.043,
          -40.66,
          -7.986,
          1.893,
          38.208,
          38.264,
          35.905,
          28.174,
          24.974,
          25,
          27.189,
          28.125,
          23.383,
          30.34,
          23.358,
          -30.679,
          33.684,
          37.005,
          36.641,
          -19.981,
          -19.61,
          -20.571,
          -32.108,
          12.403,
          12.151,
          -6.586,
          -6.755,
          -11.27,
          -11.463,
          17.397,
          17.235,
          17.682,
          19.656,
          26.387,
          49.793,
          40.943,
          36.856,
          36.492,
          -26.99,
          -26.99,
          -26.99,
          -26.99,
          -0.018,
          6.864,
          -13.843,
          12.526,
          29.353,
          23.01,
          44.133,
          23.566,
          33.15,
          37.459,
          39.856,
          31.529,
          27.839,
          31.001,
          34.671,
          33.856,
          -15.7,
          6.776,
          -4.729,
          -5.462,
          24.203,
          28.231,
          27.809,
          5.987,
          26.638,
          10.169,
          -9.307,
          -10.401,
          -8.899,
          -2.629,
          -0.621,
          -8.338,
          -2.141,
          13.668,
          -31.573,
          -29.507,
          -25.467,
          36.524,
          8.467,
          8.522,
          38.67,
          40.376,
          38.211,
          15.802,
          24.804,
          23.094,
          -3.873,
          -4.952,
          -2.097,
          1.279,
          -8.194,
          5.283,
          35.649,
          22.938,
          36.473,
          32.791,
          40.394,
          35.374,
          37.393,
          0.382,
          0.495,
          0.875,
          32.022,
          26.085,
          24.134,
          39.273,
          43.823,
          36.431,
          38.881,
          -15.654,
          -15.312,
          42.723,
          42.956,
          42.862,
          -37.359,
          -42.737,
          -1.036,
          -2.65,
          12.442,
          11.91,
          34.905,
          27.802,
          51.613,
          9.949,
          -10.681,
          -10.749,
          -4.505,
          -43.406,
          24.015,
          28.2,
          35.776,
          39.816,
          37.769,
          34.911,
          30.746,
          35.649,
          35.716,
          -20.16,
          42.601,
          40.783,
          -6.246,
          39.599,
          38.764,
          36.929,
          3.449,
          25.191,
          9.907,
          9.831,
          13.77,
          5.504,
          11.127,
          10.954,
          7.562,
          -8.44,
          -8.492,
          -1.292,
          -3.745,
          2.465,
          -7.492,
          25.938,
          37.643,
          33.193,
          44.302,
          29.833,
          29.349,
          13.766,
          -33.038,
          -33.212,
          39.494,
          -3.043,
          38.93,
          14.909,
          13.717,
          27.64,
          -19.45,
          -16.416,
          -16.299,
          -10.721,
          15.022,
          18.55,
          16.626,
          9.515,
          34.585,
          33.713,
          34.403,
          30.705,
          34.591,
          34.611,
          28.326,
          34.361,
          17.483,
          -15.768,
          -7.092,
          -7.248,
          -7.001,
          -0.969,
          -8.24,
          -8.258,
          -8.307,
          -8.337,
          -8.319,
          -0.401,
          -0.256,
          -7.453,
          -2.907,
          -1.744,
          24.134,
          16.386,
          -6.07,
          -6.17,
          -6.331,
          -6.304,
          -5.838,
          8.346,
          10.773,
          35.259,
          31.444,
          34.825,
          42.686,
          43.066,
          37.63,
          37.596,
          -26.4,
          -26.4,
          -26.4,
          -26.4,
          50.124,
          13.104,
          36.994,
          35.808,
          -12.776,
          45.236,
          24.298,
          23.332,
          28.295,
          41.526,
          1.067,
          26.371,
          20.034,
          37.52,
          28.19,
          29.47,
          45.205,
          28.405,
          29.573,
          22.96,
          29.639,
          34.125,
          31.775,
          37.808,
          51.547,
          50.11,
          50.287,
          -30.04,
          -30.056,
          -40.815,
          -35.473,
          3.035,
          19.9,
          20,
          14.68,
          40.896,
          -2.186,
          -1.323,
          -8.418,
          -1.852,
          -0.529,
          -7.282,
          -3.45,
          -3.65,
          -3.61,
          1.6,
          -14.713,
          -5.796,
          -7.914,
          23.989,
          24.475,
          14.924,
          6.802,
          9.334,
          20.807,
          6.712,
          6.802,
          6.91,
          7.625,
          6.708,
          -6.977,
          -4.051,
          13.199,
          40.501,
          41.381,
          41.521,
          38.646,
          38.115,
          37.948,
          40.89,
          33.106,
          44.612,
          17.916,
          39.831,
          33.124,
          27.296,
          38.39,
          38.482,
          39.421,
          38.558,
          19.44,
          -6.808,
          -8.058,
          2.923,
          34.205,
          37.918,
          35.725,
          -9.634,
          16.029,
          -7.843,
          12.021,
          -39.343
         ],
         "legendgroup": "",
         "lon": [
          122.994,
          101.063,
          97.238,
          102.194,
          58.218,
          143.73,
          139.131,
          139.26,
          139.376,
          133.134,
          25.69,
          123.573,
          102.087,
          101.905,
          106.845,
          38.777,
          32.992,
          31.351,
          121.058,
          121.225,
          -20.487,
          -20.758,
          97.453,
          -85.988,
          122.043,
          30.709,
          152.327,
          153.102,
          151.781,
          49.946,
          54.799,
          126.579,
          70.326,
          -88.938,
          -88.795,
          101.129,
          101.003,
          102.66,
          100.648,
          90.541,
          132.526,
          69.389,
          -73.641,
          -73.987,
          -72.077,
          -72.683,
          36.206,
          24.244,
          -132.2,
          123.907,
          122.734,
          90.376,
          69.902,
          69.924,
          142.427,
          142.94,
          -69.231,
          -71.384,
          -70.586,
          29.077,
          -95.908,
          -115.322,
          -100.113,
          31.271,
          51.755,
          47.4,
          49.047,
          48.838,
          49.329,
          47.454,
          70.482,
          69.315,
          69.868,
          124.249,
          124.09,
          122.179,
          44.96,
          33.733,
          -66.797,
          88.932,
          6.103,
          -82.793,
          99.927,
          97.443,
          75.254,
          121.333,
          134.234,
          134.297,
          96.085,
          31.41,
          72.007,
          13.701,
          15.267,
          14.872,
          93.068,
          -2.15,
          -3.207,
          29.004,
          74.654,
          74.515,
          21.087,
          51.474,
          60.784,
          54.169,
          49.209,
          58.311,
          160.77,
          -104.104,
          118.524,
          108.468,
          120.743,
          128.855,
          128.152,
          120.524,
          11.96,
          8.892,
          11.45,
          39.878,
          26.958,
          40.464,
          28.887,
          28.927,
          85.923,
          77.23,
          77.393,
          96.476,
          77.219,
          101.29,
          119.643,
          95.605,
          101.254,
          100.951,
          103.834,
          103.971,
          103.753,
          80.515,
          123.921,
          124.079,
          125.416,
          6.57,
          9,
          89.331,
          3.634,
          3.578,
          141.568,
          141.003,
          140.172,
          143.91,
          139.871,
          142.619,
          22.309,
          20.605,
          -71.637,
          92.306,
          -79.941,
          167.144,
          173.04,
          -70.673,
          -70.693,
          121.362,
          27.486,
          115.788,
          127.4,
          135.538,
          135.023,
          100.655,
          100.488,
          100.54,
          114.65,
          122.839,
          124.868,
          135.404,
          95.982,
          -101.303,
          19.217,
          3.418,
          3.448,
          3.421,
          52.397,
          51.474,
          51.61,
          54.477,
          48.836,
          47.977,
          35.551,
          73.216,
          67.121,
          29.558,
          -3.997,
          22.116,
          23.115,
          118.256,
          96.758,
          103.873,
          103.781,
          99.169,
          40.812,
          40.874,
          43.979,
          43.966,
          27.815,
          39.261,
          28.206,
          71.029,
          61.852,
          69.524,
          121.611,
          122.694,
          -73.406,
          -73.155,
          124.038,
          36.905,
          13.641,
          176.51,
          164.721,
          136.618,
          137.071,
          138.779,
          138.885,
          138.862,
          145.119,
          145.228,
          141.793,
          -65.84,
          19.912,
          -86.52,
          26.622,
          -128.772,
          -77.508,
          -84.172,
          10.559,
          8.077,
          92.539,
          161.345,
          54.574,
          56.816,
          61.887,
          52.56,
          55.858,
          141.491,
          130.131,
          139.982,
          142.039,
          144.896,
          175.21,
          119.933,
          107.819,
          97.108,
          99.607,
          97.082,
          119.963,
          124.48,
          -80.785,
          -77.745,
          100.709,
          79.44,
          125.058,
          103.036,
          104.103,
          107.798,
          115.689,
          43.703,
          40.978,
          40.89,
          33.089,
          26.751,
          38.814,
          26.783,
          -1.82,
          92.524,
          73.73,
          73.668,
          92.19,
          74.118,
          78.56,
          73.773,
          79.255,
          68.038,
          73.649,
          26.789,
          26.789,
          26.789,
          26.789,
          -69.197,
          -68.98,
          19.812,
          153.474,
          40.634,
          -76.398,
          -70.794,
          -78.704,
          29.83,
          71.093,
          140.131,
          131.141,
          140.27,
          23.212,
          20.92,
          128.131,
          127.214,
          97.224,
          105.395,
          110.446,
          107.411,
          119.233,
          128.283,
          118.777,
          99.859,
          88.388,
          70.899,
          70.477,
          76.15,
          33.583,
          91.705,
          56.865,
          55.685,
          48.78,
          56.7,
          55.843,
          73.887,
          73.136,
          5.328,
          124.122,
          90.413,
          104.95,
          104.138,
          104.151,
          113.21,
          119.558,
          83.524,
          121.278,
          120.547,
          -82.543,
          43.787,
          34.28,
          19.96,
          68.828,
          69.22,
          -68.707,
          -0.14,
          -0.05,
          -76.677,
          22.46,
          19.343,
          7.6,
          98.916,
          76.163,
          70.311,
          103.911,
          104.74,
          101.052,
          82.378,
          42.863,
          39.267,
          33.212,
          33.162,
          126.282,
          100.498,
          127.343,
          127.464,
          107.655,
          114.338,
          101.367,
          100.841,
          118.339,
          126.24,
          124.647,
          -76.495,
          -77.967,
          48.93,
          50.833,
          56.652,
          49.93,
          136.588,
          136.239,
          138.478,
          142.668,
          20.42,
          157.043,
          165.762,
          -100.198,
          19.897,
          -72.648,
          -69.89,
          -71.695,
          1.009,
          -90.618,
          -79.836,
          70.485,
          78.239,
          73.7,
          70.724,
          77.057,
          -76.603,
          163.954,
          167.583,
          178.291,
          76.753,
          92.388,
          -44.231,
          72.985,
          73.824,
          -91.479,
          -90.599,
          134.012,
          97.442,
          95.964,
          99.972,
          103.058,
          122.091,
          -0.57,
          -0.658,
          28.9,
          87.111,
          70.592,
          84.964,
          73.915,
          -115.315,
          51.2,
          48.59,
          58.8,
          55.828,
          55.8,
          28.918,
          -0.332,
          -40.35,
          -40.44,
          81.467,
          103.396,
          105.424,
          105.54,
          105.542,
          104.722,
          105.494,
          97.919,
          97.684,
          83.52,
          101.937,
          90.35,
          95.833,
          105.395,
          97.569,
          -77.164,
          -75.512,
          -71.748,
          141.521,
          140.881,
          142.214,
          141.464,
          143.754,
          -73.764,
          -21.012,
          21.525,
          -64.171,
          124.319,
          176.851,
          38.503,
          67.351,
          67.455,
          -82.967,
          -69.259,
          132.885,
          133.305,
          -84.197,
          -75.626,
          126.397,
          99.49,
          107.297,
          115.593,
          99.867,
          101.501,
          118.631,
          78.692,
          101.095,
          85.902,
          105.438,
          95.718,
          100.825,
          85.903,
          70.749,
          75.787,
          92.888,
          73.767,
          -86.06,
          13.334,
          13.464,
          70.076,
          70.95,
          37.597,
          37.744,
          -86.236,
          78.864,
          25.471,
          -78.966,
          166.562,
          138.264,
          139.261,
          43.443,
          -67.92,
          -69.715,
          124.715,
          91.437,
          91.417,
          91.51,
          145.25,
          166.382,
          -77.817,
          56.202,
          27.494,
          27.494,
          27.494,
          27.494,
          33.878,
          33.818,
          121.605,
          -115.165,
          71.467,
          157.477,
          157.346,
          157.551,
          107.879,
          97.048,
          96.018,
          136.543,
          100.082,
          -72.533,
          -63.475,
          48.3,
          53.861,
          59.308,
          54.47,
          51.665,
          48.94,
          59.18,
          105.804,
          105.668,
          101.903,
          96.548,
          103.005,
          128.425,
          143.698,
          -72.898,
          -71.891,
          -65.602,
          120.795,
          39.986,
          92.831,
          80.026,
          91.936,
          93.087,
          80.428,
          -115.278,
          -97.782,
          67.658,
          121.406,
          -70.547,
          4.12,
          -67.07,
          -75.48,
          123.467,
          -77.306,
          171.83,
          172.388,
          176.818,
          172.69,
          172.647,
          90.648,
          72.887,
          67.117,
          37.839,
          51.62,
          63.951,
          97.943,
          97.969,
          100.757,
          88.247,
          98.721,
          95.948,
          98.73,
          77.028,
          82.437,
          76.888,
          -73.125,
          172.68,
          172.743,
          -176.34,
          174.315,
          172.8,
          125.935,
          125.185,
          142.842,
          142.373,
          141.111,
          144.59,
          141.588,
          140.401,
          143.264,
          99.822,
          122.771,
          97.893,
          -1.672,
          29.04,
          43.513,
          43.229,
          71.41,
          77.189,
          88.155,
          70.533,
          88.684,
          95.236,
          -90.238,
          -75.966,
          -78.37,
          -99.963,
          58.835,
          56.778,
          47.726,
          46.826,
          59.571,
          -75.635,
          123.206,
          123.7,
          125.633,
          126.638,
          120.891,
          81.307,
          100.781,
          84.7,
          119.593,
          103.983,
          90.355,
          144.944,
          143.949,
          -98.231,
          -72.217,
          -71.365,
          -69.591,
          93.063,
          92.463,
          106.371,
          96.045,
          120.096,
          46.789,
          92.889,
          81.314,
          70.354,
          -43.999,
          11.23,
          11.49,
          11.086,
          22.968,
          28.88,
          42.325,
          69.351,
          159.727,
          -88.59,
          -85.315,
          -132.101,
          -91.895,
          95.907,
          116.058,
          96.665,
          113.002,
          95.971,
          165.114,
          166.018,
          -77.393,
          103.071,
          99.812,
          77.466,
          102.888,
          104.262,
          97.957,
          99.328,
          99.35,
          124.168,
          110.412,
          -71.425,
          -74.511,
          121.215,
          121.141,
          51.593,
          57.77,
          51.31,
          -87.159,
          134.828,
          139.352,
          144.661,
          -102.182,
          -99.498,
          70.22,
          75.863,
          75.95,
          5.261,
          3.086,
          124.898,
          124.117,
          25.02,
          22.695,
          23.252,
          174.337,
          174.152,
          -92.121,
          65.501,
          65.505,
          68.89,
          54.448,
          57.741,
          47.695,
          -76.644,
          -66.81,
          175.814,
          109.265,
          126.522,
          20.453,
          20.39,
          82.586,
          103.619,
          97.844,
          97.845,
          103.409,
          103.546,
          100.47,
          101.737,
          100.533,
          121.187,
          131.825,
          142.453,
          137.888,
          -70.702,
          -70.769,
          -70.493,
          -110.811,
          -86.378,
          -86.281,
          155.049,
          155.024,
          162.148,
          162.051,
          -100.972,
          -100.746,
          -95.653,
          99.67,
          68.358,
          8.632,
          19.906,
          3.181,
          3.025,
          26.705,
          26.705,
          26.705,
          26.705,
          -78.322,
          125.233,
          -71.695,
          -88.123,
          103.199,
          101.755,
          85.568,
          98.854,
          115.8,
          78.154,
          142.881,
          140.213,
          140.493,
          128.873,
          73.278,
          73.193,
          -71.99,
          -72.988,
          152.562,
          151.875,
          122.316,
          84.731,
          86.066,
          116.541,
          90.41,
          125.891,
          158.403,
          165.141,
          158.422,
          138.528,
          131.262,
          124.875,
          28.897,
          -88.478,
          -71.674,
          -72.007,
          -64.484,
          70.368,
          -71.396,
          -71.387,
          20.6,
          73.204,
          72.78,
          -93.633,
          93.651,
          94.865,
          127.229,
          94.33,
          100.665,
          126.371,
          117.814,
          96.168,
          -3.682,
          120.601,
          71.131,
          130.754,
          143.68,
          133.809,
          141.387,
          -79.922,
          -79.616,
          -79.708,
          95.027,
          99.575,
          111.478,
          73.978,
          86.345,
          3.517,
          70.559,
          -72.009,
          -70.827,
          13.188,
          13.067,
          13.096,
          179.146,
          173.054,
          31.618,
          29.06,
          -86.515,
          -88.897,
          73.682,
          86.532,
          16.157,
          -83.807,
          161.327,
          161.132,
          153.522,
          -73.941,
          92.018,
          53.107,
          60.436,
          48.57,
          57.206,
          45.959,
          57.307,
          50.962,
          51.256,
          46.647,
          13.227,
          13.939,
          155.172,
          26.065,
          27.778,
          27.414,
          -74.672,
          63.264,
          125.452,
          125.496,
          120.935,
          125.066,
          124.629,
          124.707,
          124.743,
          30.031,
          115.323,
          120.431,
          127.752,
          128.148,
          108.174,
          99.841,
          75.31,
          103.855,
          82.832,
          94.984,
          108.058,
          -89.155,
          -72.062,
          -70.626,
          71.444,
          32.888,
          26.365,
          -92.009,
          -90.972,
          85.17,
          34.488,
          -73.636,
          -73.474,
          -74.566,
          -93.899,
          -98.489,
          -95.078,
          -84.487,
          45.77,
          45.724,
          45.748,
          51.49,
          46.166,
          46.242,
          59.32,
          45.744,
          -83.52,
          -74.709,
          105.963,
          109.654,
          113.888,
          100.769,
          116.508,
          116.438,
          116.23,
          116.599,
          116.627,
          119.771,
          119.846,
          114.455,
          119.392,
          -77.672,
          121.659,
          -97.979,
          142.754,
          142.468,
          142.599,
          142.612,
          142.531,
          -71.719,
          -62.902,
          132.553,
          140.193,
          135.639,
          141.929,
          13.052,
          15.1,
          38.514,
          27.5,
          27.5,
          27.5,
          27.5,
          18.683,
          -88.062,
          71.382,
          68.687,
          45.581,
          124.642,
          102.91,
          101.578,
          105.013,
          46.786,
          -77.272,
          90.161,
          -73.013,
          20.557,
          104.918,
          104.609,
          124.611,
          104.957,
          105.064,
          106.711,
          104.946,
          45.679,
          49.542,
          47.558,
          16.111,
          18.456,
          18.997,
          -71.382,
          -72.082,
          -72.002,
          -73.162,
          -75.738,
          72.8,
          72.9,
          -92.453,
          48.607,
          -77.051,
          101.578,
          116.521,
          122.553,
          128.093,
          104.791,
          128.347,
          128.216,
          128.299,
          126.416,
          -70.155,
          -75.298,
          32.109,
          121.693,
          121.947,
          120.497,
          125.169,
          126.04,
          121.986,
          125.005,
          125.04,
          125.156,
          124.912,
          125.188,
          146.44,
          152.597,
          -89.306,
          20.722,
          19.454,
          19.559,
          139.472,
          23.505,
          29.697,
          28.173,
          73.766,
          4.638,
          -66.813,
          77.106,
          98.916,
          103.281,
          39.081,
          44.367,
          40.697,
          44.023,
          -78.755,
          106.676,
          114.242,
          128.248,
          25.712,
          26.79,
          52.044,
          -78.591,
          -95.901,
          147.766,
          124.123,
          -74.99
         ],
         "marker": {
          "color": [
           5.1,
           5.9,
           6.3,
           4.2,
           5.3,
           7.6,
           6.1,
           6.1,
           6.5,
           6.7,
           5.5,
           7.6,
           7.9,
           6.7,
           5.4,
           4.1,
           6,
           6,
           5.4,
           6.4,
           6.5,
           6.5,
           7.9,
           5.4,
           6.4,
           6.5,
           8,
           7.8,
           7.8,
           6.8,
           7,
           7.5,
           7.6,
           6.6,
           5.7,
           5.6,
           5.5,
           4.3,
           5.6,
           7.8,
           6.8,
           5,
           8.4,
           6.6,
           7.6,
           5.8,
           5.5,
           6.5,
           6.1,
           7.5,
           6.8,
           4.5,
           5.3,
           4.9,
           6.7,
           7.6,
           5.6,
           6.4,
           6.6,
           4.7,
           5.9,
           5.5,
           5.3,
           6.5,
           5.4,
           5.4,
           6.5,
           5.2,
           5.6,
           5.2,
           7.4,
           6.1,
           5.5,
           7.5,
           6.4,
           7.1,
           4.3,
           5.5,
           6,
           4.5,
           4.8,
           6.5,
           5.3,
           5.5,
           5.7,
           6.2,
           6.4,
           7.6,
           7.3,
           4.4,
           5.5,
           6,
           4.3,
           5.7,
           6.5,
           4.8,
           4.2,
           6.2,
           5.4,
           6.3,
           5.7,
           5.2,
           5.2,
           5.8,
           5,
           6.6,
           7.3,
           7.5,
           5.5,
           4.6,
           6.5,
           7,
           6,
           4.9,
           4.7,
           5,
           5.3,
           6.1,
           5.7,
           6.4,
           4.5,
           5.4,
           5.3,
           6.3,
           5.4,
           6.4,
           5.8,
           5.9,
           5.4,
           5.5,
           5.6,
           5.8,
           5.1,
           5.6,
           4.7,
           6,
           5.8,
           6.3,
           6.5,
           5,
           4.7,
           5.5,
           6.8,
           5.7,
           7,
           5.5,
           5.7,
           8.3,
           5.2,
           7,
           5.2,
           6.3,
           6.8,
           5.7,
           5.4,
           7.2,
           4.8,
           6.4,
           4.5,
           6.8,
           4.4,
           5.8,
           6.7,
           7,
           7.3,
           5.1,
           6,
           5.4,
           5.5,
           6.7,
           7.5,
           7.1,
           9.1,
           6.1,
           2.2,
           4.4,
           4.5,
           4.5,
           5.2,
           5,
           6.3,
           5.6,
           4.8,
           5,
           5.3,
           5.4,
           4.5,
           4.7,
           6.4,
           5.2,
           5.2,
           5.4,
           5.4,
           5.4,
           5.2,
           4.4,
           5.6,
           5.6,
           5.1,
           4,
           5.6,
           5.7,
           5.4,
           6.5,
           4.6,
           5.2,
           5.2,
           6.6,
           6.6,
           5.9,
           4.1,
           4.6,
           5.2,
           5.4,
           7.1,
           7.2,
           7.4,
           6.6,
           5.9,
           5.5,
           7,
           6.8,
           5.8,
           6.1,
           4.8,
           5.6,
           5.8,
           6.6,
           7.2,
           6.4,
           5.1,
           4.8,
           5.4,
           8.1,
           5.4,
           6.4,
           6,
           5.1,
           6,
           6.6,
           6.6,
           5.9,
           7.2,
           7,
           5.3,
           6.3,
           4.8,
           8.6,
           6.7,
           6.7,
           5.9,
           5.3,
           6.1,
           4.8,
           4.8,
           6.1,
           4.7,
           4.8,
           4.5,
           4.2,
           5.2,
           5.9,
           5.6,
           5.8,
           5.3,
           5.9,
           4.4,
           4.3,
           4.4,
           5.1,
           4.9,
           4.3,
           7.2,
           4.4,
           4.4,
           4.7,
           5.3,
           4.9,
           7.6,
           4.3,
           4.3,
           4.3,
           4.3,
           7.7,
           5.8,
           5.2,
           7.7,
           5.6,
           7.5,
           5.3,
           5.4,
           6.8,
           6.5,
           5.6,
           6.3,
           6.4,
           6.7,
           5.5,
           7.6,
           6.7,
           5,
           5.5,
           6.3,
           7.7,
           5.2,
           6.2,
           6.3,
           5.8,
           5.3,
           5.5,
           5.5,
           4.2,
           7,
           5.8,
           6,
           5.9,
           6.1,
           4.1,
           5.1,
           4.9,
           4.8,
           4.9,
           4.9,
           5.7,
           4.5,
           4.9,
           4.6,
           4.5,
           4.7,
           4.7,
           6.2,
           7,
           4.5,
           4.1,
           3.8,
           4.5,
           5.6,
           4.7,
           5.6,
           4.3,
           4.7,
           6.7,
           4.8,
           4.1,
           3.9,
           4.6,
           5.8,
           6,
           4.5,
           4.7,
           6.1,
           5.6,
           5.1,
           5.7,
           5.7,
           5.6,
           7.5,
           6.4,
           6.1,
           6.9,
           7.5,
           4.8,
           8.4,
           7.9,
           6.5,
           4.9,
           5.1,
           5,
           6.8,
           4.7,
           5.5,
           5,
           4.8,
           6.7,
           4.6,
           6.6,
           7.5,
           5.8,
           8.1,
           7.2,
           6,
           4.5,
           6.2,
           7.7,
           5.9,
           4.6,
           6.7,
           4.5,
           5.2,
           4.3,
           4.4,
           5.1,
           4.7,
           8,
           7.4,
           6.8,
           6.6,
           4.8,
           5.1,
           4.6,
           5.6,
           6.6,
           5.6,
           6.1,
           5.9,
           6.1,
           7.4,
           6.5,
           5.4,
           7.3,
           4.6,
           5.5,
           5.9,
           4.3,
           4.5,
           3.8,
           5,
           5.1,
           4.9,
           4.5,
           5,
           6.1,
           5.4,
           4.9,
           4.8,
           4.3,
           0,
           7.2,
           7.9,
           6,
           5.7,
           5.6,
           5.7,
           6,
           5,
           6,
           6.7,
           5.9,
           6.3,
           6.3,
           4.5,
           4.8,
           5.3,
           5.5,
           6.2,
           6.8,
           6.9,
           6.9,
           6.8,
           6.8,
           5.6,
           6.3,
           6.3,
           5.2,
           6,
           5.5,
           4.1,
           6.4,
           6.4,
           6.1,
           4.1,
           7.6,
           7.3,
           6.1,
           4.6,
           7.2,
           6.7,
           7,
           5.7,
           7.5,
           6.6,
           6.6,
           5.5,
           5.7,
           5.8,
           3.4,
           6.2,
           4.9,
           4.1,
           5.2,
           4.9,
           7.5,
           5.1,
           4.4,
           6.3,
           5.5,
           5.4,
           6.1,
           4.6,
           5.7,
           7.3,
           5.4,
           6.4,
           6,
           7.8,
           6.4,
           4.9,
           6,
           6.3,
           5.4,
           5.7,
           6.1,
           5.3,
           5.2,
           3.1,
           7.8,
           5.4,
           5.1,
           3.5,
           3.5,
           3.5,
           3.5,
           5.9,
           6,
           6.4,
           5.9,
           5.1,
           6.6,
           7.1,
           6.8,
           5.1,
           7.8,
           7.2,
           7,
           7.8,
           7,
           5.5,
           5,
           5.8,
           5.4,
           5.7,
           5.8,
           4.9,
           6.5,
           4.4,
           4.7,
           4.8,
           6.9,
           4.9,
           7,
           7.4,
           8.8,
           6.9,
           6.3,
           6.3,
           6.1,
           6.7,
           4.5,
           7.5,
           5.9,
           5.2,
           7.2,
           6.2,
           5.6,
           5.2,
           6.2,
           5.2,
           5.8,
           5.2,
           7.6,
           7.1,
           7,
           5,
           5.1,
           5,
           4.5,
           4.8,
           5.2,
           4.7,
           5.1,
           4.5,
           7.2,
           4.8,
           5.5,
           5.1,
           5.3,
           5.3,
           5.3,
           5,
           5.7,
           5.6,
           5.3,
           6.8,
           6.1,
           6,
           7.6,
           5.3,
           5.8,
           5.5,
           5,
           7.5,
           9.1,
           7.9,
           7.6,
           7.1,
           6.6,
           7,
           6.8,
           6.1,
           6.7,
           5.1,
           4.3,
           7.1,
           5.7,
           6.1,
           4.3,
           6.9,
           5,
           3.5,
           5.8,
           5.6,
           6.9,
           4,
           6.4,
           5.3,
           5.2,
           5.4,
           6.5,
           5.7,
           6.4,
           6.7,
           5.6,
           5.8,
           7.6,
           5.9,
           5.9,
           5.5,
           6.3,
           4.9,
           5.6,
           5.1,
           6.9,
           7.2,
           7.4,
           7.2,
           6.7,
           6.3,
           8.6,
           8.2,
           5.8,
           6.5,
           6.3,
           5.7,
           5.4,
           5,
           5.7,
           4.1,
           6.1,
           5.1,
           5.9,
           5.6,
           6.1,
           5.3,
           5.8,
           6.4,
           7.3,
           7.6,
           7.7,
           7.3,
           6.1,
           5.1,
           6.1,
           5.7,
           5.4,
           7.9,
           7,
           7,
           4.9,
           5.4,
           5.1,
           6.6,
           6,
           5.7,
           5.2,
           5.6,
           5.3,
           5.1,
           5.3,
           7.1,
           6,
           6.3,
           6.3,
           6.1,
           5.8,
           5.4,
           5.8,
           5.8,
           7.1,
           6,
           6.2,
           5.5,
           5.7,
           5.2,
           4.9,
           4.8,
           5.7,
           7.1,
           6.2,
           5.3,
           6.6,
           6.5,
           6.5,
           6.4,
           7.7,
           6.8,
           5.2,
           5.2,
           5.3,
           6.2,
           5.5,
           6.4,
           6.1,
           6.1,
           7.1,
           6.1,
           6,
           6.9,
           5.4,
           5.8,
           5.9,
           6.2,
           5,
           6.1,
           5.9,
           5.6,
           4.5,
           6.3,
           6.5,
           6.2,
           6.7,
           8.2,
           7.7,
           7,
           6.1,
           5.2,
           7.1,
           7.5,
           7.6,
           7.4,
           7.2,
           6.4,
           6.3,
           6.1,
           4.5,
           3.6,
           5,
           5.5,
           4.9,
           5.4,
           5.4,
           5.4,
           5.4,
           5.1,
           5.2,
           4.9,
           7.3,
           5.3,
           4.5,
           5.1,
           5.2,
           4.6,
           6.4,
           6.7,
           5.7,
           7.8,
           6.7,
           5.4,
           5.1,
           4.8,
           6.2,
           7.5,
           7.5,
           6.4,
           7.8,
           7.3,
           6,
           5.1,
           6.1,
           6.7,
           7,
           6.8,
           7,
           6.6,
           6.5,
           5.8,
           4.5,
           8.3,
           6.9,
           5.8,
           7.5,
           5.3,
           5.1,
           6.5,
           5.6,
           7.2,
           6.6,
           6.7,
           6.9,
           5.6,
           7.8,
           6.6,
           6.3,
           5.6,
           6.5,
           6.3,
           6.4,
           6.6,
           7,
           6,
           6.2,
           6.9,
           7.8,
           6.9,
           5.4,
           5.2,
           4.8,
           4.9,
           6.6,
           6,
           5.4,
           5,
           5.5,
           6.2,
           6.2,
           6.1,
           6.6,
           7,
           7.8,
           5.9,
           4.8,
           5.5,
           6.9,
           5.4,
           5.4,
           4.2,
           5.3,
           7.8,
           6.9,
           7.9,
           7.6,
           5.7,
           5,
           6.1,
           5.1,
           5.6,
           7.3,
           6.1,
           4.9,
           4,
           5.5,
           5.7,
           4.2,
           7.9,
           5.3,
           4.9,
           6.6,
           5.5,
           6.3,
           6.5,
           5.7,
           5.9,
           6.9,
           6.5,
           5,
           5.7,
           5.9,
           5.6,
           6.6,
           6.1,
           5.8,
           6.5,
           5,
           5.4,
           6.5,
           6.3,
           6.4,
           5.1,
           4.8,
           6.9,
           5.4,
           6,
           4.4,
           6.3,
           6.9,
           6.8,
           3.2,
           5.6,
           6.4,
           5.6,
           5.8,
           8.2,
           7.1,
           6.1,
           6.5,
           5,
           5.5,
           5,
           5.3,
           5.8,
           6,
           5.6,
           6.3,
           7.5,
           7.1,
           5.9,
           4.5,
           4.6,
           5.2,
           6.4,
           6.9,
           5.9,
           6.3,
           6.9,
           6.1,
           7.5,
           6,
           5.5,
           5.2,
           6.4,
           7.2,
           7.5,
           6.1,
           6,
           6.7,
           6.3,
           4.9,
           7.3,
           5.7,
           5.4,
           5.5,
           6.6,
           4.7,
           5,
           5.2,
           2.1,
           2.1,
           2.1,
           2.1,
           4.1,
           5.4,
           6.2,
           4.9,
           5.9,
           5.3,
           5,
           5.7,
           5.3,
           5.3,
           4.9,
           5.3,
           5.9,
           6.8,
           4.8,
           4.9,
           4.8,
           5.8,
           5.1,
           5,
           5.2,
           5.6,
           5.7,
           0,
           3.7,
           3.9,
           3.1,
           6.7,
           6.4,
           6.1,
           6.8,
           5.6,
           3.6,
           3.8,
           6.7,
           5,
           7.5,
           5.4,
           5.6,
           6.8,
           7.3,
           6.9,
           6.5,
           5,
           5,
           7.1,
           7,
           8,
           5.5,
           6.1,
           5.9,
           6.1,
           5.6,
           5.8,
           6,
           6.4,
           6.6,
           6.5,
           5.9,
           6.8,
           7.2,
           7.6,
           6.6,
           5.2,
           5.6,
           6.4,
           6.4,
           5.3,
           5.8,
           5.7,
           5.6,
           4.8,
           6.4,
           6,
           5.3,
           5.2,
           6.7,
           6,
           5.9,
           5.4,
           7.7,
           5,
           0,
           6.4,
           6.6,
           7,
           4.6,
           4.5,
           7.4,
           7,
           6.6,
           6.7
          ],
          "coloraxis": "coloraxis",
          "symbol": "circle"
         },
         "mode": "markers",
         "name": "",
         "showlegend": false,
         "type": "scattergeo"
        }
       ],
       "layout": {
        "coloraxis": {
         "colorbar": {
          "title": {
           "text": "Mag"
          }
         },
         "colorscale": [
          [
           0,
           "#0d0887"
          ],
          [
           0.1111111111111111,
           "#46039f"
          ],
          [
           0.2222222222222222,
           "#7201a8"
          ],
          [
           0.3333333333333333,
           "#9c179e"
          ],
          [
           0.4444444444444444,
           "#bd3786"
          ],
          [
           0.5555555555555556,
           "#d8576b"
          ],
          [
           0.6666666666666666,
           "#ed7953"
          ],
          [
           0.7777777777777778,
           "#fb9f3a"
          ],
          [
           0.8888888888888888,
           "#fdca26"
          ],
          [
           1,
           "#f0f921"
          ]
         ]
        },
        "geo": {
         "center": {},
         "domain": {
          "x": [
           0,
           1
          ],
          "y": [
           0,
           1
          ]
         },
         "showcountries": true
        },
        "legend": {
         "tracegroupgap": 0
        },
        "margin": {
         "t": 60
        },
        "template": {
         "data": {
          "bar": [
           {
            "error_x": {
             "color": "#2a3f5f"
            },
            "error_y": {
             "color": "#2a3f5f"
            },
            "marker": {
             "line": {
              "color": "#E5ECF6",
              "width": 0.5
             },
             "pattern": {
              "fillmode": "overlay",
              "size": 10,
              "solidity": 0.2
             }
            },
            "type": "bar"
           }
          ],
          "barpolar": [
           {
            "marker": {
             "line": {
              "color": "#E5ECF6",
              "width": 0.5
             },
             "pattern": {
              "fillmode": "overlay",
              "size": 10,
              "solidity": 0.2
             }
            },
            "type": "barpolar"
           }
          ],
          "carpet": [
           {
            "aaxis": {
             "endlinecolor": "#2a3f5f",
             "gridcolor": "white",
             "linecolor": "white",
             "minorgridcolor": "white",
             "startlinecolor": "#2a3f5f"
            },
            "baxis": {
             "endlinecolor": "#2a3f5f",
             "gridcolor": "white",
             "linecolor": "white",
             "minorgridcolor": "white",
             "startlinecolor": "#2a3f5f"
            },
            "type": "carpet"
           }
          ],
          "choropleth": [
           {
            "colorbar": {
             "outlinewidth": 0,
             "ticks": ""
            },
            "type": "choropleth"
           }
          ],
          "contour": [
           {
            "colorbar": {
             "outlinewidth": 0,
             "ticks": ""
            },
            "colorscale": [
             [
              0,
              "#0d0887"
             ],
             [
              0.1111111111111111,
              "#46039f"
             ],
             [
              0.2222222222222222,
              "#7201a8"
             ],
             [
              0.3333333333333333,
              "#9c179e"
             ],
             [
              0.4444444444444444,
              "#bd3786"
             ],
             [
              0.5555555555555556,
              "#d8576b"
             ],
             [
              0.6666666666666666,
              "#ed7953"
             ],
             [
              0.7777777777777778,
              "#fb9f3a"
             ],
             [
              0.8888888888888888,
              "#fdca26"
             ],
             [
              1,
              "#f0f921"
             ]
            ],
            "type": "contour"
           }
          ],
          "contourcarpet": [
           {
            "colorbar": {
             "outlinewidth": 0,
             "ticks": ""
            },
            "type": "contourcarpet"
           }
          ],
          "heatmap": [
           {
            "colorbar": {
             "outlinewidth": 0,
             "ticks": ""
            },
            "colorscale": [
             [
              0,
              "#0d0887"
             ],
             [
              0.1111111111111111,
              "#46039f"
             ],
             [
              0.2222222222222222,
              "#7201a8"
             ],
             [
              0.3333333333333333,
              "#9c179e"
             ],
             [
              0.4444444444444444,
              "#bd3786"
             ],
             [
              0.5555555555555556,
              "#d8576b"
             ],
             [
              0.6666666666666666,
              "#ed7953"
             ],
             [
              0.7777777777777778,
              "#fb9f3a"
             ],
             [
              0.8888888888888888,
              "#fdca26"
             ],
             [
              1,
              "#f0f921"
             ]
            ],
            "type": "heatmap"
           }
          ],
          "heatmapgl": [
           {
            "colorbar": {
             "outlinewidth": 0,
             "ticks": ""
            },
            "colorscale": [
             [
              0,
              "#0d0887"
             ],
             [
              0.1111111111111111,
              "#46039f"
             ],
             [
              0.2222222222222222,
              "#7201a8"
             ],
             [
              0.3333333333333333,
              "#9c179e"
             ],
             [
              0.4444444444444444,
              "#bd3786"
             ],
             [
              0.5555555555555556,
              "#d8576b"
             ],
             [
              0.6666666666666666,
              "#ed7953"
             ],
             [
              0.7777777777777778,
              "#fb9f3a"
             ],
             [
              0.8888888888888888,
              "#fdca26"
             ],
             [
              1,
              "#f0f921"
             ]
            ],
            "type": "heatmapgl"
           }
          ],
          "histogram": [
           {
            "marker": {
             "pattern": {
              "fillmode": "overlay",
              "size": 10,
              "solidity": 0.2
             }
            },
            "type": "histogram"
           }
          ],
          "histogram2d": [
           {
            "colorbar": {
             "outlinewidth": 0,
             "ticks": ""
            },
            "colorscale": [
             [
              0,
              "#0d0887"
             ],
             [
              0.1111111111111111,
              "#46039f"
             ],
             [
              0.2222222222222222,
              "#7201a8"
             ],
             [
              0.3333333333333333,
              "#9c179e"
             ],
             [
              0.4444444444444444,
              "#bd3786"
             ],
             [
              0.5555555555555556,
              "#d8576b"
             ],
             [
              0.6666666666666666,
              "#ed7953"
             ],
             [
              0.7777777777777778,
              "#fb9f3a"
             ],
             [
              0.8888888888888888,
              "#fdca26"
             ],
             [
              1,
              "#f0f921"
             ]
            ],
            "type": "histogram2d"
           }
          ],
          "histogram2dcontour": [
           {
            "colorbar": {
             "outlinewidth": 0,
             "ticks": ""
            },
            "colorscale": [
             [
              0,
              "#0d0887"
             ],
             [
              0.1111111111111111,
              "#46039f"
             ],
             [
              0.2222222222222222,
              "#7201a8"
             ],
             [
              0.3333333333333333,
              "#9c179e"
             ],
             [
              0.4444444444444444,
              "#bd3786"
             ],
             [
              0.5555555555555556,
              "#d8576b"
             ],
             [
              0.6666666666666666,
              "#ed7953"
             ],
             [
              0.7777777777777778,
              "#fb9f3a"
             ],
             [
              0.8888888888888888,
              "#fdca26"
             ],
             [
              1,
              "#f0f921"
             ]
            ],
            "type": "histogram2dcontour"
           }
          ],
          "mesh3d": [
           {
            "colorbar": {
             "outlinewidth": 0,
             "ticks": ""
            },
            "type": "mesh3d"
           }
          ],
          "parcoords": [
           {
            "line": {
             "colorbar": {
              "outlinewidth": 0,
              "ticks": ""
             }
            },
            "type": "parcoords"
           }
          ],
          "pie": [
           {
            "automargin": true,
            "type": "pie"
           }
          ],
          "scatter": [
           {
            "fillpattern": {
             "fillmode": "overlay",
             "size": 10,
             "solidity": 0.2
            },
            "type": "scatter"
           }
          ],
          "scatter3d": [
           {
            "line": {
             "colorbar": {
              "outlinewidth": 0,
              "ticks": ""
             }
            },
            "marker": {
             "colorbar": {
              "outlinewidth": 0,
              "ticks": ""
             }
            },
            "type": "scatter3d"
           }
          ],
          "scattercarpet": [
           {
            "marker": {
             "colorbar": {
              "outlinewidth": 0,
              "ticks": ""
             }
            },
            "type": "scattercarpet"
           }
          ],
          "scattergeo": [
           {
            "marker": {
             "colorbar": {
              "outlinewidth": 0,
              "ticks": ""
             }
            },
            "type": "scattergeo"
           }
          ],
          "scattergl": [
           {
            "marker": {
             "colorbar": {
              "outlinewidth": 0,
              "ticks": ""
             }
            },
            "type": "scattergl"
           }
          ],
          "scattermapbox": [
           {
            "marker": {
             "colorbar": {
              "outlinewidth": 0,
              "ticks": ""
             }
            },
            "type": "scattermapbox"
           }
          ],
          "scatterpolar": [
           {
            "marker": {
             "colorbar": {
              "outlinewidth": 0,
              "ticks": ""
             }
            },
            "type": "scatterpolar"
           }
          ],
          "scatterpolargl": [
           {
            "marker": {
             "colorbar": {
              "outlinewidth": 0,
              "ticks": ""
             }
            },
            "type": "scatterpolargl"
           }
          ],
          "scatterternary": [
           {
            "marker": {
             "colorbar": {
              "outlinewidth": 0,
              "ticks": ""
             }
            },
            "type": "scatterternary"
           }
          ],
          "surface": [
           {
            "colorbar": {
             "outlinewidth": 0,
             "ticks": ""
            },
            "colorscale": [
             [
              0,
              "#0d0887"
             ],
             [
              0.1111111111111111,
              "#46039f"
             ],
             [
              0.2222222222222222,
              "#7201a8"
             ],
             [
              0.3333333333333333,
              "#9c179e"
             ],
             [
              0.4444444444444444,
              "#bd3786"
             ],
             [
              0.5555555555555556,
              "#d8576b"
             ],
             [
              0.6666666666666666,
              "#ed7953"
             ],
             [
              0.7777777777777778,
              "#fb9f3a"
             ],
             [
              0.8888888888888888,
              "#fdca26"
             ],
             [
              1,
              "#f0f921"
             ]
            ],
            "type": "surface"
           }
          ],
          "table": [
           {
            "cells": {
             "fill": {
              "color": "#EBF0F8"
             },
             "line": {
              "color": "white"
             }
            },
            "header": {
             "fill": {
              "color": "#C8D4E3"
             },
             "line": {
              "color": "white"
             }
            },
            "type": "table"
           }
          ]
         },
         "layout": {
          "annotationdefaults": {
           "arrowcolor": "#2a3f5f",
           "arrowhead": 0,
           "arrowwidth": 1
          },
          "autotypenumbers": "strict",
          "coloraxis": {
           "colorbar": {
            "outlinewidth": 0,
            "ticks": ""
           }
          },
          "colorscale": {
           "diverging": [
            [
             0,
             "#8e0152"
            ],
            [
             0.1,
             "#c51b7d"
            ],
            [
             0.2,
             "#de77ae"
            ],
            [
             0.3,
             "#f1b6da"
            ],
            [
             0.4,
             "#fde0ef"
            ],
            [
             0.5,
             "#f7f7f7"
            ],
            [
             0.6,
             "#e6f5d0"
            ],
            [
             0.7,
             "#b8e186"
            ],
            [
             0.8,
             "#7fbc41"
            ],
            [
             0.9,
             "#4d9221"
            ],
            [
             1,
             "#276419"
            ]
           ],
           "sequential": [
            [
             0,
             "#0d0887"
            ],
            [
             0.1111111111111111,
             "#46039f"
            ],
            [
             0.2222222222222222,
             "#7201a8"
            ],
            [
             0.3333333333333333,
             "#9c179e"
            ],
            [
             0.4444444444444444,
             "#bd3786"
            ],
            [
             0.5555555555555556,
             "#d8576b"
            ],
            [
             0.6666666666666666,
             "#ed7953"
            ],
            [
             0.7777777777777778,
             "#fb9f3a"
            ],
            [
             0.8888888888888888,
             "#fdca26"
            ],
            [
             1,
             "#f0f921"
            ]
           ],
           "sequentialminus": [
            [
             0,
             "#0d0887"
            ],
            [
             0.1111111111111111,
             "#46039f"
            ],
            [
             0.2222222222222222,
             "#7201a8"
            ],
            [
             0.3333333333333333,
             "#9c179e"
            ],
            [
             0.4444444444444444,
             "#bd3786"
            ],
            [
             0.5555555555555556,
             "#d8576b"
            ],
            [
             0.6666666666666666,
             "#ed7953"
            ],
            [
             0.7777777777777778,
             "#fb9f3a"
            ],
            [
             0.8888888888888888,
             "#fdca26"
            ],
            [
             1,
             "#f0f921"
            ]
           ]
          },
          "colorway": [
           "#636efa",
           "#EF553B",
           "#00cc96",
           "#ab63fa",
           "#FFA15A",
           "#19d3f3",
           "#FF6692",
           "#B6E880",
           "#FF97FF",
           "#FECB52"
          ],
          "font": {
           "color": "#2a3f5f"
          },
          "geo": {
           "bgcolor": "white",
           "lakecolor": "white",
           "landcolor": "#E5ECF6",
           "showlakes": true,
           "showland": true,
           "subunitcolor": "white"
          },
          "hoverlabel": {
           "align": "left"
          },
          "hovermode": "closest",
          "mapbox": {
           "style": "light"
          },
          "paper_bgcolor": "white",
          "plot_bgcolor": "#E5ECF6",
          "polar": {
           "angularaxis": {
            "gridcolor": "white",
            "linecolor": "white",
            "ticks": ""
           },
           "bgcolor": "#E5ECF6",
           "radialaxis": {
            "gridcolor": "white",
            "linecolor": "white",
            "ticks": ""
           }
          },
          "scene": {
           "xaxis": {
            "backgroundcolor": "#E5ECF6",
            "gridcolor": "white",
            "gridwidth": 2,
            "linecolor": "white",
            "showbackground": true,
            "ticks": "",
            "zerolinecolor": "white"
           },
           "yaxis": {
            "backgroundcolor": "#E5ECF6",
            "gridcolor": "white",
            "gridwidth": 2,
            "linecolor": "white",
            "showbackground": true,
            "ticks": "",
            "zerolinecolor": "white"
           },
           "zaxis": {
            "backgroundcolor": "#E5ECF6",
            "gridcolor": "white",
            "gridwidth": 2,
            "linecolor": "white",
            "showbackground": true,
            "ticks": "",
            "zerolinecolor": "white"
           }
          },
          "shapedefaults": {
           "line": {
            "color": "#2a3f5f"
           }
          },
          "ternary": {
           "aaxis": {
            "gridcolor": "white",
            "linecolor": "white",
            "ticks": ""
           },
           "baxis": {
            "gridcolor": "white",
            "linecolor": "white",
            "ticks": ""
           },
           "bgcolor": "#E5ECF6",
           "caxis": {
            "gridcolor": "white",
            "linecolor": "white",
            "ticks": ""
           }
          },
          "title": {
           "x": 0.05
          },
          "xaxis": {
           "automargin": true,
           "gridcolor": "white",
           "linecolor": "white",
           "ticks": "",
           "title": {
            "standoff": 15
           },
           "zerolinecolor": "white",
           "zerolinewidth": 2
          },
          "yaxis": {
           "automargin": true,
           "gridcolor": "white",
           "linecolor": "white",
           "ticks": "",
           "title": {
            "standoff": 15
           },
           "zerolinecolor": "white",
           "zerolinewidth": 2
          }
         }
        }
       }
      }
     },
     "metadata": {},
     "output_type": "display_data"
    }
   ],
   "source": [
    "fig = px.scatter_geo(data, lat=data.Latitude, lon=data.Longitude, hover_name='Country', color='Mag', hover_data=['Mag', 'pop_total'])\n",
    "fig.update_geos(showcountries=True)\n",
    "fig.show()"
   ]
  },
  {
   "cell_type": "code",
   "execution_count": null,
   "metadata": {},
   "outputs": [],
   "source": []
  }
 ],
 "metadata": {
  "kernelspec": {
   "display_name": "dataproject_UZH",
   "language": "python",
   "name": "python3"
  },
  "language_info": {
   "codemirror_mode": {
    "name": "ipython",
    "version": 3
   },
   "file_extension": ".py",
   "mimetype": "text/x-python",
   "name": "python",
   "nbconvert_exporter": "python",
   "pygments_lexer": "ipython3",
   "version": "3.11.9"
  }
 },
 "nbformat": 4,
 "nbformat_minor": 2
}
