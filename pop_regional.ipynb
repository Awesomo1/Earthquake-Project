{
 "cells": [
  {
   "cell_type": "code",
   "execution_count": 313,
   "metadata": {},
   "outputs": [],
   "source": [
    "from geotiff import GeoTiff\n",
    "import geopandas as gpd\n",
    "import numpy as np\n",
    "import pandas as pd\n",
    "import matplotlib.pyplot as plt"
   ]
  },
  {
   "cell_type": "code",
   "execution_count": 314,
   "metadata": {},
   "outputs": [
    {
     "data": {
      "text/plain": [
       "Index(['Year', 'Mo', 'Dy', 'Hr', 'Mn', 'Sec', 'Tsu', 'Vol', 'Country',\n",
       "       'Location Name', 'Latitude', 'Longitude', 'Focal Depth (km)', 'Mag',\n",
       "       'MMI Int', 'Deaths', 'Death Description', 'Missing',\n",
       "       'Missing Description', 'Injuries', 'Injuries Description',\n",
       "       'Damage ($Mil)', 'Damage Description', 'Houses Destroyed',\n",
       "       'Houses Destroyed Description', 'Houses Damaged',\n",
       "       'Houses Damaged Description', 'Total Deaths', 'Total Death Description',\n",
       "       'Total Missing', 'Total Missing Description', 'Total Injuries',\n",
       "       'Total Injuries Description', 'Total Damage ($Mil)',\n",
       "       'Total Damage Description', 'Total Houses Destroyed',\n",
       "       'Total Houses Destroyed Description', 'Total Houses Damaged',\n",
       "       'Total Houses Damaged Description',\n",
       "       'Total Houses Damaged Description.1', 'Region', 'Average Income',\n",
       "       'p0p50_share', 'Population density national'],\n",
       "      dtype='object')"
      ]
     },
     "execution_count": 314,
     "metadata": {},
     "output_type": "execute_result"
    }
   ],
   "source": [
    "master = pd.read_csv('master_df.csv')\n",
    "master.columns"
   ]
  },
  {
   "cell_type": "code",
   "execution_count": 315,
   "metadata": {},
   "outputs": [
    {
     "data": {
      "text/html": [
       "<div>\n",
       "<style scoped>\n",
       "    .dataframe tbody tr th:only-of-type {\n",
       "        vertical-align: middle;\n",
       "    }\n",
       "\n",
       "    .dataframe tbody tr th {\n",
       "        vertical-align: top;\n",
       "    }\n",
       "\n",
       "    .dataframe thead th {\n",
       "        text-align: right;\n",
       "    }\n",
       "</style>\n",
       "<table border=\"1\" class=\"dataframe\">\n",
       "  <thead>\n",
       "    <tr style=\"text-align: right;\">\n",
       "      <th></th>\n",
       "      <th>Year</th>\n",
       "      <th>Latitude</th>\n",
       "      <th>Longitude</th>\n",
       "      <th>Mag</th>\n",
       "    </tr>\n",
       "  </thead>\n",
       "  <tbody>\n",
       "    <tr>\n",
       "      <th>0</th>\n",
       "      <td>2000</td>\n",
       "      <td>40.498</td>\n",
       "      <td>122.994</td>\n",
       "      <td>5.1</td>\n",
       "    </tr>\n",
       "    <tr>\n",
       "      <th>1</th>\n",
       "      <td>2000</td>\n",
       "      <td>25.607</td>\n",
       "      <td>101.063</td>\n",
       "      <td>5.9</td>\n",
       "    </tr>\n",
       "    <tr>\n",
       "      <th>2</th>\n",
       "      <td>2000</td>\n",
       "      <td>26.856</td>\n",
       "      <td>97.238</td>\n",
       "      <td>6.3</td>\n",
       "    </tr>\n",
       "    <tr>\n",
       "      <th>3</th>\n",
       "      <td>2000</td>\n",
       "      <td>25.826</td>\n",
       "      <td>102.194</td>\n",
       "      <td>4.2</td>\n",
       "    </tr>\n",
       "    <tr>\n",
       "      <th>4</th>\n",
       "      <td>2000</td>\n",
       "      <td>35.288</td>\n",
       "      <td>58.218</td>\n",
       "      <td>5.3</td>\n",
       "    </tr>\n",
       "    <tr>\n",
       "      <th>...</th>\n",
       "      <td>...</td>\n",
       "      <td>...</td>\n",
       "      <td>...</td>\n",
       "      <td>...</td>\n",
       "    </tr>\n",
       "    <tr>\n",
       "      <th>1025</th>\n",
       "      <td>2020</td>\n",
       "      <td>-9.634</td>\n",
       "      <td>-78.591</td>\n",
       "      <td>4.5</td>\n",
       "    </tr>\n",
       "    <tr>\n",
       "      <th>1026</th>\n",
       "      <td>2020</td>\n",
       "      <td>16.029</td>\n",
       "      <td>-95.901</td>\n",
       "      <td>7.4</td>\n",
       "    </tr>\n",
       "    <tr>\n",
       "      <th>1027</th>\n",
       "      <td>2020</td>\n",
       "      <td>-7.843</td>\n",
       "      <td>147.766</td>\n",
       "      <td>7.0</td>\n",
       "    </tr>\n",
       "    <tr>\n",
       "      <th>1028</th>\n",
       "      <td>2020</td>\n",
       "      <td>12.021</td>\n",
       "      <td>124.123</td>\n",
       "      <td>6.6</td>\n",
       "    </tr>\n",
       "    <tr>\n",
       "      <th>1029</th>\n",
       "      <td>2020</td>\n",
       "      <td>-39.343</td>\n",
       "      <td>-74.990</td>\n",
       "      <td>6.7</td>\n",
       "    </tr>\n",
       "  </tbody>\n",
       "</table>\n",
       "<p>1030 rows × 4 columns</p>\n",
       "</div>"
      ],
      "text/plain": [
       "      Year  Latitude  Longitude  Mag\n",
       "0     2000    40.498    122.994  5.1\n",
       "1     2000    25.607    101.063  5.9\n",
       "2     2000    26.856     97.238  6.3\n",
       "3     2000    25.826    102.194  4.2\n",
       "4     2000    35.288     58.218  5.3\n",
       "...    ...       ...        ...  ...\n",
       "1025  2020    -9.634    -78.591  4.5\n",
       "1026  2020    16.029    -95.901  7.4\n",
       "1027  2020    -7.843    147.766  7.0\n",
       "1028  2020    12.021    124.123  6.6\n",
       "1029  2020   -39.343    -74.990  6.7\n",
       "\n",
       "[1030 rows x 4 columns]"
      ]
     },
     "execution_count": 315,
     "metadata": {},
     "output_type": "execute_result"
    }
   ],
   "source": [
    "master[['Year', 'Latitude', 'Longitude', 'Mag']]"
   ]
  },
  {
   "cell_type": "code",
   "execution_count": 316,
   "metadata": {},
   "outputs": [
    {
     "data": {
      "text/plain": [
       "[<matplotlib.lines.Line2D at 0x376920b90>]"
      ]
     },
     "execution_count": 316,
     "metadata": {},
     "output_type": "execute_result"
    },
    {
     "data": {
      "image/png": "[encoded data removed]",
      "text/plain": [
       "<Figure size 640x480 with 1 Axes>"
      ]
     },
     "metadata": {},
     "output_type": "display_data"
    }
   ],
   "source": [
    "mag_rad_data = np.array(\n",
    "    [[3, 4, 5, 6, 7, 8, 9],\n",
    "     [19.5, 52.5, 141, 380, 1022, 2754, 7413]]\n",
    ")\n",
    "\n",
    "plt.plot(mag_rad_data[0], mag_rad_data[1], 'o-')"
   ]
  },
  {
   "cell_type": "code",
   "execution_count": 317,
   "metadata": {},
   "outputs": [
    {
     "name": "stderr",
     "output_type": "stream",
     "text": [
      "/var/folders/wr/nnzrl8p15wd8_8sccj0_s_rc0000gn/T/ipykernel_30868/3522916562.py:2: FutureWarning: A value is trying to be set on a copy of a DataFrame or Series through chained assignment using an inplace method.\n",
      "The behavior will change in pandas 3.0. This inplace method will never work because the intermediate object on which we are setting values always behaves as a copy.\n",
      "\n",
      "For example, when doing 'df[col].method(value, inplace=True)', try using 'df.method({col: value}, inplace=True)' or df[col] = df[col].method(value) instead, to perform the operation inplace on the original object.\n",
      "\n",
      "\n",
      "  master['preperation_zone'].fillna(np.nanmean(master['preperation_zone']), inplace=True)\n"
     ]
    }
   ],
   "source": [
    "master['preperation_zone'] = np.interp(master['Mag'], mag_rad_data[0], mag_rad_data[1])\n",
    "master['preperation_zone'].fillna(np.nanmean(master['preperation_zone']), inplace=True)"
   ]
  },
  {
   "cell_type": "code",
   "execution_count": 318,
   "metadata": {},
   "outputs": [
    {
     "data": {
      "text/plain": [
       "Year                                                         2014\n",
       "Mo                                                             10\n",
       "Dy                                                              9\n",
       "Hr                                                            2.0\n",
       "Mn                                                           14.0\n",
       "Sec                                                          31.4\n",
       "Tsu                                                        5577.0\n",
       "Vol                                                           NaN\n",
       "Country                                                     CHILE\n",
       "Location Name                         CHILE: EASTER ISLAND REGION\n",
       "Latitude                                                  -32.108\n",
       "Longitude                                                -110.811\n",
       "Focal Depth (km)                                             17.0\n",
       "Mag                                                           7.0\n",
       "MMI Int                                                       NaN\n",
       "Deaths                                                        NaN\n",
       "Death Description                                             NaN\n",
       "Missing                                                       NaN\n",
       "Missing Description                                           NaN\n",
       "Injuries                                                      NaN\n",
       "Injuries Description                                          NaN\n",
       "Damage ($Mil)                                                 NaN\n",
       "Damage Description                                            NaN\n",
       "Houses Destroyed                                              NaN\n",
       "Houses Destroyed Description                                  NaN\n",
       "Houses Damaged                                                NaN\n",
       "Houses Damaged Description                                    NaN\n",
       "Total Deaths                                                  NaN\n",
       "Total Death Description                                       NaN\n",
       "Total Missing                                                 NaN\n",
       "Total Missing Description                                     NaN\n",
       "Total Injuries                                                NaN\n",
       "Total Injuries Description                                    NaN\n",
       "Total Damage ($Mil)                                           NaN\n",
       "Total Damage Description                                      NaN\n",
       "Total Houses Destroyed                                        NaN\n",
       "Total Houses Destroyed Description                            NaN\n",
       "Total Houses Damaged                                          NaN\n",
       "Total Houses Damaged Description                              NaN\n",
       "Total Houses Damaged Description.1                            NaN\n",
       "Region                                       EASTER ISLAND REGION\n",
       "Average Income                                         24093.5701\n",
       "p0p50_share                                                0.0753\n",
       "Population density national                             23.787958\n",
       "preperation_zone                                           1022.0\n",
       "Name: 732, dtype: object"
      ]
     },
     "execution_count": 318,
     "metadata": {},
     "output_type": "execute_result"
    }
   ],
   "source": [
    "index = 732 # 295, 172, 591\n",
    "master.loc[index]"
   ]
  },
  {
   "cell_type": "code",
   "execution_count": 319,
   "metadata": {},
   "outputs": [],
   "source": [
    "lat = master.loc[index].Latitude\n",
    "lon = master.loc[index].Longitude\n",
    "rad = master.loc[index].preperation_zone\n",
    "year = master.loc[index].Year\n",
    "file = f'pop_regional_data/ppp_{year}_1km_Aggregated.tif'"
   ]
  },
  {
   "cell_type": "code",
   "execution_count": 320,
   "metadata": {},
   "outputs": [
    {
     "name": "stdout",
     "output_type": "stream",
     "text": [
      "4326\n"
     ]
    }
   ],
   "source": [
    "pop_data = GeoTiff(file)\n",
    "print(pop_data.crs_code)\n",
    "x_index = pop_data._get_x_int(lon)\n",
    "y_index = pop_data._get_y_int(lat)\n",
    "x_min = x_index - int(rad)\n",
    "x_max = x_index + int(rad)\n",
    "y_min = y_index - int(rad)\n",
    "y_max = y_index + int(rad)\n",
    "box = [pop_data.get_wgs_84_coords(x_min, y_min), pop_data.get_wgs_84_coords(x_max, y_max)]"
   ]
  },
  {
   "cell_type": "code",
   "execution_count": 321,
   "metadata": {},
   "outputs": [
    {
     "data": {
      "text/plain": [
       "-3.4025985613166896e+38"
      ]
     },
     "execution_count": 321,
     "metadata": {},
     "output_type": "execute_result"
    }
   ],
   "source": [
    "box_data = np.array(pop_data.read_box(box), dtype='float64')\n",
    "ave_pop = np.mean(box_data)\n",
    "ave_pop"
   ]
  },
  {
   "cell_type": "code",
   "execution_count": 322,
   "metadata": {},
   "outputs": [
    {
     "data": {
      "text/plain": [
       "<matplotlib.colorbar.Colorbar at 0x2881a0b10>"
      ]
     },
     "execution_count": 322,
     "metadata": {},
     "output_type": "execute_result"
    },
    {
     "data": {
      "image/png": "[encoded data removed]",
      "text/plain": [
       "<Figure size 640x480 with 2 Axes>"
      ]
     },
     "metadata": {},
     "output_type": "display_data"
    }
   ],
   "source": [
    "scat = plt.imshow(box_data)\n",
    "fig = plt.gcf()\n",
    "ax = plt.gca()\n",
    "fig.colorbar(scat)"
   ]
  },
  {
   "cell_type": "code",
   "execution_count": 323,
   "metadata": {},
   "outputs": [
    {
     "data": {
      "text/plain": [
       "0.0013291397077582218"
      ]
     },
     "execution_count": 323,
     "metadata": {},
     "output_type": "execute_result"
    }
   ],
   "source": [
    "box_data[box_data >= 10e10] = 0\n",
    "box_data[box_data <= 0] = 0\n",
    "\n",
    "ave_pop = np.mean(box_data)\n",
    "ave_pop"
   ]
  },
  {
   "cell_type": "code",
   "execution_count": 324,
   "metadata": {},
   "outputs": [
    {
     "data": {
      "text/plain": [
       "<matplotlib.colorbar.Colorbar at 0x3003c3710>"
      ]
     },
     "execution_count": 324,
     "metadata": {},
     "output_type": "execute_result"
    },
    {
     "data": {
      "image/png": "[encoded data removed]",
      "text/plain": [
       "<Figure size 640x480 with 2 Axes>"
      ]
     },
     "metadata": {},
     "output_type": "display_data"
    }
   ],
   "source": [
    "scat = plt.imshow(box_data)\n",
    "fig = plt.gcf()\n",
    "ax = plt.gca()\n",
    "fig.colorbar(scat)"
   ]
  },
  {
   "cell_type": "code",
   "execution_count": 325,
   "metadata": {},
   "outputs": [
    {
     "data": {
      "text/plain": [
       "20.109941567064844"
      ]
     },
     "execution_count": 325,
     "metadata": {},
     "output_type": "execute_result"
    }
   ],
   "source": [
    "box_data[box_data >= 10e10] = 'NaN'\n",
    "box_data[box_data <= 0] = 'NaN'\n",
    "\n",
    "ave_pop = np.nanmean(box_data)\n",
    "ave_pop"
   ]
  },
  {
   "cell_type": "code",
   "execution_count": 326,
   "metadata": {},
   "outputs": [
    {
     "data": {
      "text/plain": [
       "<matplotlib.colorbar.Colorbar at 0x5b580db50>"
      ]
     },
     "execution_count": 326,
     "metadata": {},
     "output_type": "execute_result"
    },
    {
     "data": {
      "image/png": "[encoded data removed]",
      "text/plain": [
       "<Figure size 640x480 with 2 Axes>"
      ]
     },
     "metadata": {},
     "output_type": "display_data"
    }
   ],
   "source": [
    "scat = plt.imshow(box_data)\n",
    "fig = plt.gcf()\n",
    "ax = plt.gca()\n",
    "fig.colorbar(scat)"
   ]
  },
  {
   "cell_type": "code",
   "execution_count": 327,
   "metadata": {},
   "outputs": [
    {
     "name": "stderr",
     "output_type": "stream",
     "text": [
      "/Users/tillboehringer/anaconda3/envs/dataproject_UZH/lib/python3.11/site-packages/numpy/core/fromnumeric.py:3504: RuntimeWarning: Mean of empty slice.\n",
      "  return _methods._mean(a, axis=axis, dtype=dtype,\n",
      "/Users/tillboehringer/anaconda3/envs/dataproject_UZH/lib/python3.11/site-packages/numpy/core/_methods.py:129: RuntimeWarning: invalid value encountered in scalar divide\n",
      "  ret = ret.dtype.type(ret / rcount)\n",
      "/var/folders/wr/nnzrl8p15wd8_8sccj0_s_rc0000gn/T/ipykernel_30868/1016401561.py:31: RuntimeWarning: Mean of empty slice\n",
      "  pop_without_water.append(np.nanmean(box_data3))\n"
     ]
    }
   ],
   "source": [
    "pop_with_water = []\n",
    "pop_without_water = []\n",
    "\n",
    "for i, row in master.iterrows():\n",
    "    lat = row.Latitude\n",
    "    lon = row.Longitude\n",
    "    rad = row.preperation_zone\n",
    "    year = row.Year\n",
    "    file = f'pop_regional_data/ppp_{year}_1km_Aggregated.tif'\n",
    "\n",
    "    pop_data = GeoTiff(file)\n",
    "    x_index = pop_data._get_x_int(lon)\n",
    "    y_index = pop_data._get_y_int(lat)\n",
    "    x_min = x_index - int(rad)\n",
    "    x_max = x_index + int(rad)\n",
    "    y_min = y_index - int(rad)\n",
    "    y_max = y_index + int(rad)\n",
    "    box = [pop_data.get_wgs_84_coords(x_min, y_min), pop_data.get_wgs_84_coords(x_max, y_max)]\n",
    "\n",
    "    box_data = np.array(pop_data.read_box(box), dtype='float64')\n",
    "    box_data2 = box_data.copy()\n",
    "    box_data3 = box_data.copy()\n",
    "\n",
    "    box_data2[box_data2 >= 10e10] = 0\n",
    "    box_data2[box_data2 <= 0] = 0\n",
    "\n",
    "    box_data3[box_data3 >= 10e10] = 'NaN'\n",
    "    box_data3[box_data3 <= 0] = 'NaN'\n",
    "\n",
    "    pop_with_water.append(np.mean(box_data2))\n",
    "    pop_without_water.append(np.nanmean(box_data3))\n",
    "    "
   ]
  },
  {
   "cell_type": "code",
   "execution_count": null,
   "metadata": {},
   "outputs": [],
   "source": [
    "master['pop_with_water'] = pop_with_water\n",
    "master['pop_without_water'] = pop_without_water"
   ]
  },
  {
   "cell_type": "code",
   "execution_count": null,
   "metadata": {},
   "outputs": [],
   "source": [
    "master.to_csv('master_df_regional_pop.csv')"
   ]
  }
 ],
 "metadata": {
  "kernelspec": {
   "display_name": "dataproject_UZH",
   "language": "python",
   "name": "python3"
  },
  "language_info": {
   "codemirror_mode": {
    "name": "ipython",
    "version": 3
   },
   "file_extension": ".py",
   "mimetype": "text/x-python",
   "name": "python",
   "nbconvert_exporter": "python",
   "pygments_lexer": "ipython3",
   "version": "3.11.9"
  }
 },
 "nbformat": 4,
 "nbformat_minor": 2
}
